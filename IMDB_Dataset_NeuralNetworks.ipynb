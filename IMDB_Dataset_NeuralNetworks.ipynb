{
  "nbformat": 4,
  "nbformat_minor": 0,
  "metadata": {
    "anaconda-cloud": {},
    "colab": {
      "name": "Week4labreport_janakisajja.ipynb",
      "provenance": [],
      "collapsed_sections": [],
      "machine_shape": "hm"
    },
    "kernelspec": {
      "display_name": "Python 3",
      "language": "python",
      "name": "python3"
    },
    "language_info": {
      "codemirror_mode": {
        "name": "ipython",
        "version": 3
      },
      "file_extension": ".py",
      "mimetype": "text/x-python",
      "name": "python",
      "nbconvert_exporter": "python",
      "pygments_lexer": "ipython3",
      "version": "3.7.0"
    }
  },
  "cells": [
    {
      "cell_type": "markdown",
      "metadata": {
        "id": "jE7Q3E9i9Evd"
      },
      "source": [
        "# Week 4 Lab: Neural Networks in practice"
      ]
    },
    {
      "cell_type": "code",
      "metadata": {
        "hide_input": false,
        "id": "gWDjQyV59Evg",
        "colab": {
          "base_uri": "https://localhost:8080/",
          "height": 97
        },
        "outputId": "03a21f98-6037-4097-a1e7-77b2b283419f"
      },
      "source": [
        "# Global imports and settings\n",
        "\n",
        "from IPython.display import set_matplotlib_formats, display\n",
        "import pandas as pd\n",
        "import numpy as np\n",
        "import matplotlib.pyplot as plt\n",
        "from cycler import cycler\n",
        "import keras\n",
        "print(\"Using Keras\",keras.__version__)\n",
        "%matplotlib inline\n",
        "plt.rcParams['figure.dpi'] = 125 # Use 300 for PDF, 100 for slides\n",
        "import seaborn as sns\n",
        "from sklearn.metrics import accuracy_score"
      ],
      "execution_count": null,
      "outputs": [
        {
          "output_type": "stream",
          "text": [
            "Using TensorFlow backend.\n"
          ],
          "name": "stderr"
        },
        {
          "output_type": "display_data",
          "data": {
            "text/html": [
              "<p style=\"color: red;\">\n",
              "The default version of TensorFlow in Colab will soon switch to TensorFlow 2.x.<br>\n",
              "We recommend you <a href=\"https://www.tensorflow.org/guide/migrate\" target=\"_blank\">upgrade</a> now \n",
              "or ensure your notebook will continue to use TensorFlow 1.x via the <code>%tensorflow_version 1.x</code> magic:\n",
              "<a href=\"https://colab.research.google.com/notebooks/tensorflow_version.ipynb\" target=\"_blank\">more info</a>.</p>\n"
            ],
            "text/plain": [
              "<IPython.core.display.HTML object>"
            ]
          },
          "metadata": {
            "tags": []
          }
        },
        {
          "output_type": "stream",
          "text": [
            "Using Keras 2.2.5\n"
          ],
          "name": "stdout"
        }
      ]
    },
    {
      "cell_type": "markdown",
      "metadata": {
        "cell_style": "center",
        "id": "QJdIHypq9Evk"
      },
      "source": [
        "### Overview\n",
        "* Solving basic classification and regression problems\n",
        "* Handling textual data\n",
        "* Model selection (and overfitting)"
      ]
    },
    {
      "cell_type": "markdown",
      "metadata": {
        "id": "njT6MasM9Evl"
      },
      "source": [
        "## Solving basic problems\n",
        "* Binary classification (of movie reviews)\n",
        "* Multiclass classification (of news topics)\n",
        "* Regression (of house prices)\n",
        "\n",
        "Examples from _Deep Learning with Python_, by _François Chollet_"
      ]
    },
    {
      "cell_type": "markdown",
      "metadata": {
        "id": "xsUfzIi59Evn"
      },
      "source": [
        "### Binary classification\n",
        "* Dataset: 50,000 IMDB reviews, labeled positive (1) or negative (0)\n",
        "    - Included in Keras, with a 50/50 train-test split\n",
        "* Each row is one review, with only the 10,000 most frequent words retained\n",
        "* Each word is replaced by a _word index_ (word ID)"
      ]
    },
    {
      "cell_type": "code",
      "metadata": {
        "hide_input": true,
        "id": "Mk42XDWZ9Evn",
        "colab": {
          "base_uri": "https://localhost:8080/",
          "height": 119
        },
        "outputId": "0d229538-82b8-4e88-9372-46986d734852"
      },
      "source": [
        "from keras.datasets import imdb\n",
        "# Download IMDB data with 10000 most frequent words\n",
        "(train_data, train_labels), (test_data, test_labels) = imdb.load_data(num_words=10000)\n",
        "print(\"Encoded review: \", train_data[0][0:10])\n",
        "\n",
        "word_index = imdb.get_word_index()\n",
        "reverse_word_index = dict([(value, key) for (key, value) in word_index.items()])\n",
        "print(\"Original review: \", ' '.join([reverse_word_index.get(i - 3, '?') for i in train_data[0]][0:10]))"
      ],
      "execution_count": null,
      "outputs": [
        {
          "output_type": "stream",
          "text": [
            "Downloading data from https://s3.amazonaws.com/text-datasets/imdb.npz\n",
            "17465344/17464789 [==============================] - 0s 0us/step\n",
            "Encoded review:  [1, 14, 22, 16, 43, 530, 973, 1622, 1385, 65]\n",
            "Downloading data from https://s3.amazonaws.com/text-datasets/imdb_word_index.json\n",
            "1646592/1641221 [==============================] - 0s 0us/step\n",
            "Original review:  ? this film was just brilliant casting location scenery story\n"
          ],
          "name": "stdout"
        }
      ]
    },
    {
      "cell_type": "markdown",
      "metadata": {
        "id": "gbHSVzma9Evq"
      },
      "source": [
        "#### Preprocessing\n",
        "* We can't input lists of categorical value to a neural net, we need to create tensors\n",
        "* One-hot-encoding:\n",
        "    -  10000 features, '1.0' if the word occurs\n",
        "* Word embeddings (word2vec):\n",
        "    - Map each word to a dense vector that represents it (it's _embedding_)\n",
        "    - _Embedding_ layer: pre-trained layer that looks up the embedding in a dictionary \n",
        "    - Converts 2D tensor of word indices (zero-padded) to 3D tensor of embeddings\n",
        "* Let's do One-Hot-Encoding for now. We'll come back to _Embedding_ layers.\n",
        "* Also vectorize the labels: from 0/1 to float\n",
        "    - Binary classification works with one output node"
      ]
    },
    {
      "cell_type": "code",
      "metadata": {
        "hide_input": true,
        "id": "nSzfO-XG9Evs"
      },
      "source": [
        "# Custom implementation of one-hot-encoding\n",
        "def vectorize_sequences(sequences, dimension=10000):\n",
        "    results = np.zeros((len(sequences), dimension))\n",
        "    for i, sequence in enumerate(sequences):\n",
        "        results[i, sequence] = 1.  # set specific indices of results[i] to 1s\n",
        "    return results\n",
        "x_train = vectorize_sequences(train_data)\n",
        "x_test = vectorize_sequences(test_data)\n",
        "y_train = np.asarray(train_labels).astype('float32')\n",
        "y_test = np.asarray(test_labels).astype('float32')"
      ],
      "execution_count": null,
      "outputs": []
    },
    {
      "cell_type": "markdown",
      "metadata": {
        "id": "4_JHofjQRme1"
      },
      "source": [
        "#### Understanding the format of IMDB dataset\n",
        "1. Train_data and test_data are an array of lists. What does the length of this array correspond to? What does the length of each list correspond to?\n",
        "2. What are the sizes of the vectorized x_train and x_test? What do the dimensions correspond to?\n",
        "3. What is the most common word in the first review in the training data? Hint: use the word index (see above)? \n",
        "4. Print the first review to verify. "
      ]
    },
    {
      "cell_type": "code",
      "metadata": {
        "id": "ceBrbGWxRLJK",
        "colab": {
          "base_uri": "https://localhost:8080/",
          "height": 51
        },
        "outputId": "9175a38f-7bdb-4139-d68f-e980240bcfe0"
      },
      "source": [
        "# Answer1:\n",
        "print(len(train_data))\n",
        "print(len(test_data))"
      ],
      "execution_count": null,
      "outputs": [
        {
          "output_type": "stream",
          "text": [
            "25000\n",
            "25000\n"
          ],
          "name": "stdout"
        }
      ]
    },
    {
      "cell_type": "markdown",
      "metadata": {
        "id": "KXcSwiB6yTds"
      },
      "source": [
        "The length of this array corresponds to 25000 reviews in each of the dataset(test and train). The length of each list represents number of words present in every review."
      ]
    },
    {
      "cell_type": "code",
      "metadata": {
        "id": "-85cxViL0Emo",
        "colab": {
          "base_uri": "https://localhost:8080/",
          "height": 85
        },
        "outputId": "692cc872-981d-43a4-c0ee-8432df5659fa"
      },
      "source": [
        "# Answer2:\n",
        "print(x_train.size)\n",
        "print(x_train.shape)\n",
        "print(x_test.size)\n",
        "print(x_test.shape)"
      ],
      "execution_count": null,
      "outputs": [
        {
          "output_type": "stream",
          "text": [
            "250000000\n",
            "(25000, 10000)\n",
            "250000000\n",
            "(25000, 10000)\n"
          ],
          "name": "stdout"
        }
      ]
    },
    {
      "cell_type": "markdown",
      "metadata": {
        "id": "kAjkcdWZ0dAX"
      },
      "source": [
        "The dimensions correspond to 25000 reviews and 10000 most frequently retained words(which means one-hot representation of the vocab list, if the word is present in the vocab list it is represented either as 0 or 1) for each review."
      ]
    },
    {
      "cell_type": "code",
      "metadata": {
        "id": "TE9PrC9_Gq06"
      },
      "source": [
        "#Answer 3:\n",
        "counts = {}\n",
        "for i in train_data[0]:\n",
        "  if(i in counts):\n",
        "    counts[i]+=1\n",
        "  else:\n",
        "    counts[i] = 1"
      ],
      "execution_count": null,
      "outputs": []
    },
    {
      "cell_type": "code",
      "metadata": {
        "id": "A19oAGRJG5NO",
        "colab": {
          "base_uri": "https://localhost:8080/",
          "height": 34
        },
        "outputId": "1188f146-6c91-4c12-c319-e4f7c0180774"
      },
      "source": [
        "import operator\n",
        "max(counts.items(), key=operator.itemgetter(1))"
      ],
      "execution_count": null,
      "outputs": [
        {
          "output_type": "execute_result",
          "data": {
            "text/plain": [
              "(4, 15)"
            ]
          },
          "metadata": {
            "tags": []
          },
          "execution_count": 7
        }
      ]
    },
    {
      "cell_type": "code",
      "metadata": {
        "id": "K2o-zIqE4bmy",
        "colab": {
          "base_uri": "https://localhost:8080/",
          "height": 34
        },
        "outputId": "0316290e-6a3e-43d0-8815-aa8df4632654"
      },
      "source": [
        "reverse_word_index[4 - 3]"
      ],
      "execution_count": null,
      "outputs": [
        {
          "output_type": "execute_result",
          "data": {
            "text/plain": [
              "'the'"
            ]
          },
          "metadata": {
            "tags": []
          },
          "execution_count": 8
        }
      ]
    },
    {
      "cell_type": "code",
      "metadata": {
        "id": "WSdy8cFREO8h",
        "colab": {
          "base_uri": "https://localhost:8080/",
          "height": 71
        },
        "outputId": "f2840ea7-245e-4319-f5df-a8a798043a12"
      },
      "source": [
        "wordstring = [reverse_word_index.get(i - 3) for i in train_data[0]][1:219]\n",
        "wordfreq = []\n",
        "for w in wordstring:\n",
        "    wordfreq.append(wordstring.count(w))\n",
        "\n",
        "print(\"Pairs\\n\" + str(list(zip(wordstring, wordfreq))))"
      ],
      "execution_count": null,
      "outputs": [
        {
          "output_type": "stream",
          "text": [
            "Pairs\n",
            "[('this', 3), ('film', 6), ('was', 11), ('just', 4), ('brilliant', 3), ('casting', 1), ('location', 1), ('scenery', 1), ('story', 2), ('direction', 1), (\"everyone's\", 1), ('really', 2), ('suited', 1), ('the', 15), ('part', 1), ('they', 4), ('played', 2), ('and', 9), ('you', 4), ('could', 1), ('just', 4), ('imagine', 1), ('being', 2), ('there', 2), ('robert', 1), (None, 6), ('is', 1), ('an', 1), ('amazing', 3), ('actor', 1), ('and', 9), ('now', 1), ('the', 15), ('same', 2), ('being', 2), ('director', 1), (None, 6), ('father', 1), ('came', 1), ('from', 1), ('the', 15), ('same', 2), ('scottish', 1), ('island', 1), ('as', 3), ('myself', 1), ('so', 4), ('i', 3), ('loved', 1), ('the', 15), ('fact', 1), ('there', 2), ('was', 11), ('a', 3), ('real', 1), ('connection', 1), ('with', 2), ('this', 3), ('film', 6), ('the', 15), ('witty', 1), ('remarks', 1), ('throughout', 1), ('the', 15), ('film', 6), ('were', 2), ('great', 1), ('it', 6), ('was', 11), ('just', 4), ('brilliant', 3), ('so', 4), ('much', 1), ('that', 4), ('i', 3), ('bought', 1), ('the', 15), ('film', 6), ('as', 3), ('soon', 1), ('as', 3), ('it', 6), ('was', 11), ('released', 1), ('for', 3), (None, 6), ('and', 9), ('would', 1), ('recommend', 1), ('it', 6), ('to', 3), ('everyone', 1), ('to', 3), ('watch', 1), ('and', 9), ('the', 15), ('fly', 1), ('fishing', 1), ('was', 11), ('amazing', 3), ('really', 2), ('cried', 1), ('at', 2), ('the', 15), ('end', 1), ('it', 6), ('was', 11), ('so', 4), ('sad', 1), ('and', 9), ('you', 4), ('know', 1), ('what', 2), ('they', 4), ('say', 1), ('if', 1), ('you', 4), ('cry', 1), ('at', 2), ('a', 3), ('film', 6), ('it', 6), ('must', 1), ('have', 2), ('been', 1), ('good', 1), ('and', 9), ('this', 3), ('definitely', 1), ('was', 11), ('also', 1), (None, 6), ('to', 3), ('the', 15), ('two', 1), ('little', 1), (\"boy's\", 1), ('that', 4), ('played', 2), ('the', 15), (None, 6), ('of', 2), ('norman', 1), ('and', 9), ('paul', 1), ('they', 4), ('were', 2), ('just', 4), ('brilliant', 3), ('children', 2), ('are', 3), ('often', 1), ('left', 1), ('out', 1), ('of', 2), ('the', 15), (None, 6), ('list', 1), ('i', 3), ('think', 2), ('because', 2), ('the', 15), ('stars', 1), ('that', 4), ('play', 1), ('them', 1), ('all', 3), ('grown', 1), ('up', 1), ('are', 3), ('such', 1), ('a', 3), ('big', 1), ('profile', 1), ('for', 3), ('the', 15), ('whole', 2), ('film', 6), ('but', 1), ('these', 1), ('children', 2), ('are', 3), ('amazing', 3), ('and', 9), ('should', 1), ('be', 1), ('praised', 1), ('for', 3), ('what', 2), ('they', 4), ('have', 2), ('done', 1), (\"don't\", 1), ('you', 4), ('think', 2), ('the', 15), ('whole', 2), ('story', 2), ('was', 11), ('so', 4), ('lovely', 1), ('because', 2), ('it', 6), ('was', 11), ('true', 1), ('and', 9), ('was', 11), (\"someone's\", 1), ('life', 1), ('after', 1), ('all', 3), ('that', 4), ('was', 11), ('shared', 1), ('with', 2), ('us', 1), ('all', 3)]\n"
          ],
          "name": "stdout"
        }
      ]
    },
    {
      "cell_type": "markdown",
      "metadata": {
        "id": "dNj2fRosHAAw"
      },
      "source": [
        "The most commonly used word in the first review is \"the\", it is used 15 times. Which means the frequency of word \"the\" is 15."
      ]
    },
    {
      "cell_type": "code",
      "metadata": {
        "id": "IUZYpsIhG8fW",
        "colab": {
          "base_uri": "https://localhost:8080/",
          "height": 71
        },
        "outputId": "b0a53866-3161-4842-fb87-9d239b8556be"
      },
      "source": [
        "#Answer4:\n",
        "print(\"First review is: \\n\", ' '.join([reverse_word_index.get(i - 3, '?') for i in train_data[0]]))"
      ],
      "execution_count": null,
      "outputs": [
        {
          "output_type": "stream",
          "text": [
            "First review is: \n",
            " ? this film was just brilliant casting location scenery story direction everyone's really suited the part they played and you could just imagine being there robert ? is an amazing actor and now the same being director ? father came from the same scottish island as myself so i loved the fact there was a real connection with this film the witty remarks throughout the film were great it was just brilliant so much that i bought the film as soon as it was released for ? and would recommend it to everyone to watch and the fly fishing was amazing really cried at the end it was so sad and you know what they say if you cry at a film it must have been good and this definitely was also ? to the two little boy's that played the ? of norman and paul they were just brilliant children are often left out of the ? list i think because the stars that play them all grown up are such a big profile for the whole film but these children are amazing and should be praised for what they have done don't you think the whole story was so lovely because it was true and was someone's life after all that was shared with us all\n"
          ],
          "name": "stdout"
        }
      ]
    },
    {
      "cell_type": "markdown",
      "metadata": {
        "id": "GVar7SNn9Evu"
      },
      "source": [
        "#### Building the network\n",
        "* We can solve this problem using a network of _Dense_ layers and the _ReLU_ activation function.\n",
        "* How many layers? How many hidden units for layer?\n",
        "    - Start with 2 layers of 16 hidden units each\n",
        "    - We'll optimize this soon\n",
        "* Output layer: single unit with _sigmoid_ activation function\n",
        "    - Close to 1: positive review, close to 0: negative review\n",
        "* Use binary_crossentropy loss"
      ]
    },
    {
      "cell_type": "markdown",
      "metadata": {
        "id": "MEoMc2JC0cHL"
      },
      "source": [
        ""
      ]
    },
    {
      "cell_type": "code",
      "metadata": {
        "id": "wglvzu9E9Evx",
        "colab": {
          "base_uri": "https://localhost:8080/",
          "height": 258
        },
        "outputId": "de114067-ea5b-424d-fd8d-a67ea6cde808"
      },
      "source": [
        "from keras import models\n",
        "from keras import layers \n",
        "\n",
        "model = models.Sequential()\n",
        "model.add(layers.Dense(16, activation='relu', input_shape=(10000,)))\n",
        "model.add(layers.Dense(16, activation='relu'))\n",
        "model.add(layers.Dense(1, activation='sigmoid'))\n",
        "\n",
        "model.compile(optimizer='rmsprop',\n",
        "              loss='binary_crossentropy',\n",
        "              metrics=['accuracy'])"
      ],
      "execution_count": null,
      "outputs": [
        {
          "output_type": "stream",
          "text": [
            "WARNING:tensorflow:From /usr/local/lib/python3.6/dist-packages/keras/backend/tensorflow_backend.py:66: The name tf.get_default_graph is deprecated. Please use tf.compat.v1.get_default_graph instead.\n",
            "\n",
            "WARNING:tensorflow:From /usr/local/lib/python3.6/dist-packages/keras/backend/tensorflow_backend.py:541: The name tf.placeholder is deprecated. Please use tf.compat.v1.placeholder instead.\n",
            "\n",
            "WARNING:tensorflow:From /usr/local/lib/python3.6/dist-packages/keras/backend/tensorflow_backend.py:4432: The name tf.random_uniform is deprecated. Please use tf.random.uniform instead.\n",
            "\n",
            "WARNING:tensorflow:From /usr/local/lib/python3.6/dist-packages/keras/optimizers.py:793: The name tf.train.Optimizer is deprecated. Please use tf.compat.v1.train.Optimizer instead.\n",
            "\n",
            "WARNING:tensorflow:From /usr/local/lib/python3.6/dist-packages/keras/backend/tensorflow_backend.py:3657: The name tf.log is deprecated. Please use tf.math.log instead.\n",
            "\n",
            "WARNING:tensorflow:From /usr/local/lib/python3.6/dist-packages/tensorflow_core/python/ops/nn_impl.py:183: where (from tensorflow.python.ops.array_ops) is deprecated and will be removed in a future version.\n",
            "Instructions for updating:\n",
            "Use tf.where in 2.0, which has the same broadcast rule as np.where\n"
          ],
          "name": "stdout"
        }
      ]
    },
    {
      "cell_type": "markdown",
      "metadata": {
        "id": "0S_Fnh169Ev0"
      },
      "source": [
        "#### Model selection\n",
        "* How many epochs do we need for training?\n",
        "* Take a validation set of 10,000 samples from the training set\n",
        "* Train the neural net and track the loss after every iteration on the validation set\n",
        "    - This is returned as a `History` object by the `fit()` function \n",
        "* We start with 20 epochs in minibatches of 512 samples\n"
      ]
    },
    {
      "cell_type": "code",
      "metadata": {
        "id": "b3aTf8rL9Ev0",
        "colab": {
          "base_uri": "https://localhost:8080/",
          "height": 1000
        },
        "outputId": "d21cea0c-c860-4cbc-eab4-a3846c1625ef"
      },
      "source": [
        "x_val, partial_x_train = x_train[:10000], x_train[10000:]\n",
        "y_val, partial_y_train = y_train[:10000], y_train[10000:] \n",
        "history = model.fit(partial_x_train, partial_y_train,\n",
        "                    epochs=20, batch_size=512, verbose=2,\n",
        "                    validation_data=(x_val, y_val))"
      ],
      "execution_count": null,
      "outputs": [
        {
          "output_type": "stream",
          "text": [
            "WARNING:tensorflow:From /usr/local/lib/python3.6/dist-packages/keras/backend/tensorflow_backend.py:1033: The name tf.assign_add is deprecated. Please use tf.compat.v1.assign_add instead.\n",
            "\n",
            "WARNING:tensorflow:From /usr/local/lib/python3.6/dist-packages/keras/backend/tensorflow_backend.py:1020: The name tf.assign is deprecated. Please use tf.compat.v1.assign instead.\n",
            "\n",
            "WARNING:tensorflow:From /usr/local/lib/python3.6/dist-packages/keras/backend/tensorflow_backend.py:3005: The name tf.Session is deprecated. Please use tf.compat.v1.Session instead.\n",
            "\n",
            "Train on 15000 samples, validate on 10000 samples\n",
            "Epoch 1/20\n",
            "WARNING:tensorflow:From /usr/local/lib/python3.6/dist-packages/keras/backend/tensorflow_backend.py:190: The name tf.get_default_session is deprecated. Please use tf.compat.v1.get_default_session instead.\n",
            "\n",
            "WARNING:tensorflow:From /usr/local/lib/python3.6/dist-packages/keras/backend/tensorflow_backend.py:197: The name tf.ConfigProto is deprecated. Please use tf.compat.v1.ConfigProto instead.\n",
            "\n",
            "WARNING:tensorflow:From /usr/local/lib/python3.6/dist-packages/keras/backend/tensorflow_backend.py:207: The name tf.global_variables is deprecated. Please use tf.compat.v1.global_variables instead.\n",
            "\n",
            "WARNING:tensorflow:From /usr/local/lib/python3.6/dist-packages/keras/backend/tensorflow_backend.py:216: The name tf.is_variable_initialized is deprecated. Please use tf.compat.v1.is_variable_initialized instead.\n",
            "\n",
            "WARNING:tensorflow:From /usr/local/lib/python3.6/dist-packages/keras/backend/tensorflow_backend.py:223: The name tf.variables_initializer is deprecated. Please use tf.compat.v1.variables_initializer instead.\n",
            "\n",
            " - 2s - loss: 0.5502 - acc: 0.7805 - val_loss: 0.4141 - val_acc: 0.8616\n",
            "Epoch 2/20\n",
            " - 1s - loss: 0.3323 - acc: 0.8961 - val_loss: 0.3387 - val_acc: 0.8643\n",
            "Epoch 3/20\n",
            " - 1s - loss: 0.2405 - acc: 0.9234 - val_loss: 0.2822 - val_acc: 0.8928\n",
            "Epoch 4/20\n",
            " - 1s - loss: 0.1866 - acc: 0.9391 - val_loss: 0.2760 - val_acc: 0.8914\n",
            "Epoch 5/20\n",
            " - 1s - loss: 0.1539 - acc: 0.9499 - val_loss: 0.2762 - val_acc: 0.8905\n",
            "Epoch 6/20\n",
            " - 1s - loss: 0.1206 - acc: 0.9637 - val_loss: 0.2941 - val_acc: 0.8854\n",
            "Epoch 7/20\n",
            " - 1s - loss: 0.1031 - acc: 0.9698 - val_loss: 0.3409 - val_acc: 0.8716\n",
            "Epoch 8/20\n",
            " - 1s - loss: 0.0859 - acc: 0.9755 - val_loss: 0.3213 - val_acc: 0.8819\n",
            "Epoch 9/20\n",
            " - 1s - loss: 0.0701 - acc: 0.9825 - val_loss: 0.3417 - val_acc: 0.8794\n",
            "Epoch 10/20\n",
            " - 1s - loss: 0.0583 - acc: 0.9856 - val_loss: 0.3631 - val_acc: 0.8786\n",
            "Epoch 11/20\n",
            " - 1s - loss: 0.0459 - acc: 0.9904 - val_loss: 0.3881 - val_acc: 0.8777\n",
            "Epoch 12/20\n",
            " - 1s - loss: 0.0387 - acc: 0.9915 - val_loss: 0.4632 - val_acc: 0.8715\n",
            "Epoch 13/20\n",
            " - 1s - loss: 0.0306 - acc: 0.9946 - val_loss: 0.4731 - val_acc: 0.8637\n",
            "Epoch 14/20\n",
            " - 1s - loss: 0.0253 - acc: 0.9956 - val_loss: 0.4842 - val_acc: 0.8660\n",
            "Epoch 15/20\n",
            " - 1s - loss: 0.0192 - acc: 0.9971 - val_loss: 0.5010 - val_acc: 0.8714\n",
            "Epoch 16/20\n",
            " - 1s - loss: 0.0173 - acc: 0.9972 - val_loss: 0.5364 - val_acc: 0.8704\n",
            "Epoch 17/20\n",
            " - 1s - loss: 0.0099 - acc: 0.9995 - val_loss: 0.5602 - val_acc: 0.8658\n",
            "Epoch 18/20\n",
            " - 1s - loss: 0.0114 - acc: 0.9982 - val_loss: 0.5856 - val_acc: 0.8686\n",
            "Epoch 19/20\n",
            " - 1s - loss: 0.0093 - acc: 0.9986 - val_loss: 0.6119 - val_acc: 0.8676\n",
            "Epoch 20/20\n",
            " - 1s - loss: 0.0046 - acc: 0.9996 - val_loss: 0.6587 - val_acc: 0.8673\n"
          ],
          "name": "stdout"
        }
      ]
    },
    {
      "cell_type": "markdown",
      "metadata": {
        "id": "PrxYLkMX9Ev3"
      },
      "source": [
        "#### Evaluate model performance during training\n",
        "1. Plot the training and validation loss as a function of training epoch. Describe what happens during the training in terms of under or overfitting.\n",
        "2. Plot the training and validation accuracy as a function of the training epoch.\n",
        "\n",
        "Hint: these quantities are contained in the dict history.history."
      ]
    },
    {
      "cell_type": "code",
      "metadata": {
        "id": "1ReqIHXR51-T",
        "colab": {
          "base_uri": "https://localhost:8080/",
          "height": 501
        },
        "outputId": "309fe2ce-ae50-4471-d4d3-3f49c8f4d0de"
      },
      "source": [
        "# summarize history for loss\n",
        "plt.plot(history.history['loss'])\n",
        "plt.plot(history.history['val_loss'])\n",
        "plt.title('model loss')\n",
        "plt.ylabel('loss')\n",
        "plt.xlabel('epoch')\n",
        "plt.legend(['train', 'test'], loc='upper left')\n",
        "plt.show()"
      ],
      "execution_count": null,
      "outputs": [
        {
          "output_type": "display_data",
          "data": {
            "image/png": "[encoded data removed]",
            "text/plain": [
              "<Figure size 750x500 with 1 Axes>"
            ]
          },
          "metadata": {
            "tags": []
          }
        }
      ]
    },
    {
      "cell_type": "markdown",
      "metadata": {
        "id": "8rKQIWYO8c2W"
      },
      "source": [
        "As we can see from the training validation chart the model is overfitting. The training set is approach nearly perfect accuracy. This is not necessary a bad thing. Initially we want the model to overfitt. Overfitting it good in the sense that there are a lot of tools to tapper overfitting. At least the availablity of data is not the barrier.\n",
        "\n",
        "In this case we can even use:\n",
        "\n",
        "A even higher dropout rate, it seems that the neurons are still learning specific weights of some words/phrases. But when dropout rate is too high, the model does lose accuracy\n",
        "\n",
        "Smaller batch size\n",
        "\n",
        "Higher L2 regulization, similar effect to dropout\n",
        "\n",
        "Overfitting it's a reflection of inefficiency in feature selection in this case, but as long as validation accuracy and testing accuracy are stable the model is a good shape."
      ]
    },
    {
      "cell_type": "code",
      "metadata": {
        "hide_input": true,
        "id": "4YH3yVZy9Ev4",
        "colab": {
          "base_uri": "https://localhost:8080/",
          "height": 501
        },
        "outputId": "1292a9dc-bd43-460e-e755-79a6c3ba0d57"
      },
      "source": [
        "plt.plot(history.history['val_acc'])\n",
        "plt.plot(history.history['acc'])\n",
        "plt.title('model accuracy')\n",
        "plt.ylabel('accuracy')\n",
        "plt.xlabel('epoch')\n",
        "plt.legend(['train', 'test'], loc='upper left')\n",
        "plt.show()"
      ],
      "execution_count": null,
      "outputs": [
        {
          "output_type": "display_data",
          "data": {
            "image/png": "[encoded data removed]",
            "text/plain": [
              "<Figure size 750x500 with 1 Axes>"
            ]
          },
          "metadata": {
            "tags": []
          }
        }
      ]
    },
    {
      "cell_type": "markdown",
      "metadata": {
        "id": "oKQx3Ep1-Lws"
      },
      "source": [
        "As per the result, I understood that the network begin to overfit as the epoches are increasing. Which means the model's train accuracy is increasing but the test accuracy or validation accuracy is decreasing with the increase in no.of epochs"
      ]
    },
    {
      "cell_type": "markdown",
      "metadata": {
        "id": "FWDq34yW9EwA"
      },
      "source": [
        "#### Early stopping\n",
        "One simple technique to avoid overfitting is to use the validation set to 'tune' the optimal number of epochs\n",
        "* In this case, we could stop after 4 epochs\n"
      ]
    },
    {
      "cell_type": "code",
      "metadata": {
        "id": "Csk3_Yn09EwB",
        "colab": {
          "base_uri": "https://localhost:8080/",
          "height": 187
        },
        "outputId": "d06f8e56-b145-4104-ed9e-72c15da10a85"
      },
      "source": [
        "#@title\n",
        "model.fit(x_train, y_train, epochs=4, batch_size=512, verbose=2)\n",
        "result = model.evaluate(x_test, y_test)\n",
        "print(\"Loss: {:.4f}, Accuracy:  {:.4f}\".format(*result))"
      ],
      "execution_count": null,
      "outputs": [
        {
          "output_type": "stream",
          "text": [
            "Epoch 1/4\n",
            " - 1s - loss: 0.2258 - acc: 0.9450\n",
            "Epoch 2/4\n",
            " - 1s - loss: 0.1377 - acc: 0.9595\n",
            "Epoch 3/4\n",
            " - 1s - loss: 0.1067 - acc: 0.9686\n",
            "Epoch 4/4\n",
            " - 1s - loss: 0.0836 - acc: 0.9761\n",
            "25000/25000 [==============================] - 1s 53us/step\n",
            "Loss: 0.4989, Accuracy:  0.8570\n"
          ],
          "name": "stdout"
        }
      ]
    },
    {
      "cell_type": "markdown",
      "metadata": {
        "id": "5Mo4BX1N9EwD"
      },
      "source": [
        "#### Predictions\n",
        "1. Print the first review that were correctly classified along with the predicted value.\n",
        "2. Print the first review that were misclassified along with the predicted value. Can you explain why the model likely failed? How confident was the model?"
      ]
    },
    {
      "cell_type": "code",
      "metadata": {
        "id": "fZB5xKAh9EwE"
      },
      "source": [
        "predicted_classes = model.predict_classes(x_test).reshape(25000)\n",
        "prediction_probabilities = model.predict(x_test)"
      ],
      "execution_count": null,
      "outputs": []
    },
    {
      "cell_type": "code",
      "metadata": {
        "id": "VkCiNzVC6F8x",
        "colab": {
          "base_uri": "https://localhost:8080/",
          "height": 122
        },
        "outputId": "6e8126dd-3e77-49b8-a2b0-c91c0f04e881"
      },
      "source": [
        "correctly_classified = test_labels == predicted_classes\n",
        "mis_classified = test_labels != predicted_classes\n",
        "\n",
        "correctly_classified_predictions = test_data[correctly_classified]\n",
        "misclassified_predictions = test_data[mis_classified]\n",
        "print(misclassified_predictions[0][0])\n",
        "\n",
        "print(\" \".join([reverse_word_index.get(i - 3, \"?\") for i in correctly_classified_predictions[0]]))\n",
        "print('\\n')\n",
        "print(\" \".join([reverse_word_index.get(i - 3, \"?\") for i in misclassified_predictions[0]]))"
      ],
      "execution_count": null,
      "outputs": [
        {
          "output_type": "stream",
          "text": [
            "1\n",
            "? please give this one a miss br br ? ? and the rest of the cast rendered terrible performances the show is flat flat flat br br i don't know how michael madison could have allowed this one on his plate he almost seemed to know this wasn't going to work out and his performance was quite ? so all you madison fans give this a miss\n",
            "\n",
            "\n",
            "? i generally love this type of movie however this time i found myself wanting to kick the screen since i can't do that i will just complain about it this was absolutely idiotic the things that happen with the dead kids are very cool but the alive people are absolute idiots i am a grown man pretty big and i can defend myself well however i would not do half the stuff the little girl does in this movie also the mother in this movie is reckless with her children to the point of neglect i wish i wasn't so angry about her and her actions because i would have otherwise enjoyed the flick what a number she was take my advise and fast forward through everything you see her do until the end also is anyone else getting sick of watching movies that are filmed so dark anymore one can hardly see what is being filmed as an audience we are ? involved with the actions on the screen so then why the hell can't we have night vision\n"
          ],
          "name": "stdout"
        }
      ]
    },
    {
      "cell_type": "markdown",
      "metadata": {
        "id": "FYQydDZF8FfT"
      },
      "source": [
        "The model is faling because the words in the review are positive but the meaning seems to be sarcastic or negative."
      ]
    },
    {
      "cell_type": "markdown",
      "metadata": {
        "id": "W9_hvA-lanwt"
      },
      "source": [
        "#### Takeaways\n",
        "* Neural nets require a lot of preprocessing to create tensors\n",
        "* Dense layers with ReLU activation can solve a wide range of problems\n",
        "* Binary classification can be done with a Dense layer with a single unit, sigmoid activation, and binary cross-entropy loss\n",
        "* Neural nets overfit easily\n",
        "* Many design choices have an effect on accuracy and overfitting. One can try:\n",
        "    - 1 or 3 hidden layers\n",
        "    - more or fewer hidden units (e.g. 64)\n",
        "    - MSE loss instead of binary cross-entropy\n",
        "    - `tanh` activation instead of `ReLU`"
      ]
    },
    {
      "cell_type": "markdown",
      "metadata": {
        "id": "WchP4Tgu9ExF"
      },
      "source": [
        "### Regularization: build smaller networks\n",
        "* The easiest way to avoid overfitting is to use a simpler model\n",
        "* The number of learnable parameters is called the model _capacity_\n",
        "* A model with more parameters has a higher _memorization capacity_\n",
        "    - The entire training set can be `stored` in the weights\n",
        "    - Learns the mapping from training examples to outputs\n",
        "* Forcing the model to be small forces it to learn a compressed representation that generalizes better\n",
        "    - Always a trade-off between too much and too little capacity\n",
        "* Start with few layers and parameters, incease until you see diminisching returns"
      ]
    },
    {
      "cell_type": "markdown",
      "metadata": {
        "id": "wo8UGPGQ9ExG"
      },
      "source": [
        "Let's try this on our movie review data, with 4 units per layer\n"
      ]
    },
    {
      "cell_type": "code",
      "metadata": {
        "id": "rFjmZtyl9ExG"
      },
      "source": [
        "from keras.datasets import imdb\n",
        "import numpy as np\n",
        "\n",
        "(train_data, train_labels), (test_data, test_labels) = imdb.load_data(num_words=10000)\n",
        "\n",
        "def vectorize_sequences(sequences, dimension=10000):\n",
        "    # Create an all-zero matrix of shape (len(sequences), dimension)\n",
        "    results = np.zeros((len(sequences), dimension))\n",
        "    for i, sequence in enumerate(sequences):\n",
        "        results[i, sequence] = 1.  # set specific indices of results[i] to 1s\n",
        "    return results\n",
        "\n",
        "# Our vectorized training data\n",
        "x_train = vectorize_sequences(train_data)\n",
        "# Our vectorized test data\n",
        "x_test = vectorize_sequences(test_data)\n",
        "# Our vectorized labels\n",
        "y_train = np.asarray(train_labels).astype('float32')\n",
        "y_test = np.asarray(test_labels).astype('float32')"
      ],
      "execution_count": null,
      "outputs": []
    },
    {
      "cell_type": "code",
      "metadata": {
        "id": "0RYsX-RF9ExJ",
        "colab": {
          "base_uri": "https://localhost:8080/",
          "height": 1000
        },
        "outputId": "f0323740-3a9c-41ae-fb99-49c76a1c27db"
      },
      "source": [
        "from keras import models\n",
        "from keras import layers \n",
        "import matplotlib.pyplot as plt\n",
        "\n",
        "original_model = models.Sequential()\n",
        "original_model.add(layers.Dense(16, activation='relu', input_shape=(10000,)))\n",
        "original_model.add(layers.Dense(16, activation='relu'))\n",
        "original_model.add(layers.Dense(1, activation='sigmoid'))\n",
        "\n",
        "original_model.compile(optimizer='rmsprop',\n",
        "                       loss='binary_crossentropy',\n",
        "                       metrics=['acc'])\n",
        "\n",
        "smaller_model = models.Sequential()\n",
        "smaller_model.add(layers.Dense(4, activation='relu', input_shape=(10000,)))\n",
        "smaller_model.add(layers.Dense(4, activation='relu'))\n",
        "smaller_model.add(layers.Dense(1, activation='sigmoid'))\n",
        "\n",
        "smaller_model.compile(optimizer='rmsprop',\n",
        "                      loss='binary_crossentropy',\n",
        "                      metrics=['acc'])\n",
        "original_hist = original_model.fit(x_train, y_train,\n",
        "                                   epochs=20,\n",
        "                                   batch_size=512, verbose=2,\n",
        "                                   validation_data=(x_test, y_test))\n",
        "smaller_model_hist = smaller_model.fit(x_train, y_train,\n",
        "                                       epochs=20,\n",
        "                                       batch_size=512, verbose=2,\n",
        "                                       validation_data=(x_test, y_test))"
      ],
      "execution_count": null,
      "outputs": [
        {
          "output_type": "stream",
          "text": [
            "Train on 25000 samples, validate on 25000 samples\n",
            "Epoch 1/20\n",
            " - 3s - loss: 0.4686 - acc: 0.8228 - val_loss: 0.3616 - val_acc: 0.8683\n",
            "Epoch 2/20\n",
            " - 3s - loss: 0.2718 - acc: 0.9064 - val_loss: 0.2897 - val_acc: 0.8879\n",
            "Epoch 3/20\n",
            " - 3s - loss: 0.2066 - acc: 0.9265 - val_loss: 0.2789 - val_acc: 0.8894\n",
            "Epoch 4/20\n",
            " - 3s - loss: 0.1697 - acc: 0.9405 - val_loss: 0.2967 - val_acc: 0.8811\n",
            "Epoch 5/20\n",
            " - 3s - loss: 0.1446 - acc: 0.9508 - val_loss: 0.3252 - val_acc: 0.8743\n",
            "Epoch 6/20\n",
            " - 3s - loss: 0.1248 - acc: 0.9580 - val_loss: 0.3243 - val_acc: 0.8787\n",
            "Epoch 7/20\n",
            " - 3s - loss: 0.1052 - acc: 0.9656 - val_loss: 0.3443 - val_acc: 0.8755\n",
            "Epoch 8/20\n",
            " - 3s - loss: 0.0915 - acc: 0.9715 - val_loss: 0.3710 - val_acc: 0.8730\n",
            "Epoch 9/20\n",
            " - 3s - loss: 0.0773 - acc: 0.9762 - val_loss: 0.3963 - val_acc: 0.8713\n",
            "Epoch 10/20\n",
            " - 3s - loss: 0.0683 - acc: 0.9795 - val_loss: 0.4465 - val_acc: 0.8613\n",
            "Epoch 11/20\n",
            " - 3s - loss: 0.0550 - acc: 0.9846 - val_loss: 0.4570 - val_acc: 0.8644\n",
            "Epoch 12/20\n",
            " - 3s - loss: 0.0451 - acc: 0.9883 - val_loss: 0.4913 - val_acc: 0.8621\n",
            "Epoch 13/20\n",
            " - 3s - loss: 0.0390 - acc: 0.9896 - val_loss: 0.5220 - val_acc: 0.8610\n",
            "Epoch 14/20\n",
            " - 3s - loss: 0.0298 - acc: 0.9930 - val_loss: 0.5647 - val_acc: 0.8582\n",
            "Epoch 15/20\n",
            " - 3s - loss: 0.0229 - acc: 0.9955 - val_loss: 0.5981 - val_acc: 0.8566\n",
            "Epoch 16/20\n",
            " - 3s - loss: 0.0187 - acc: 0.9958 - val_loss: 0.6582 - val_acc: 0.8527\n",
            "Epoch 17/20\n",
            " - 3s - loss: 0.0144 - acc: 0.9971 - val_loss: 0.6759 - val_acc: 0.8564\n",
            "Epoch 18/20\n",
            " - 3s - loss: 0.0099 - acc: 0.9986 - val_loss: 0.7189 - val_acc: 0.8543\n",
            "Epoch 19/20\n",
            " - 3s - loss: 0.0083 - acc: 0.9984 - val_loss: 0.7627 - val_acc: 0.8521\n",
            "Epoch 20/20\n",
            " - 3s - loss: 0.0079 - acc: 0.9983 - val_loss: 0.7992 - val_acc: 0.8523\n",
            "Train on 25000 samples, validate on 25000 samples\n",
            "Epoch 1/20\n",
            " - 3s - loss: 0.5584 - acc: 0.7771 - val_loss: 0.4571 - val_acc: 0.8662\n",
            "Epoch 2/20\n",
            " - 3s - loss: 0.3739 - acc: 0.8989 - val_loss: 0.3566 - val_acc: 0.8831\n",
            "Epoch 3/20\n",
            " - 3s - loss: 0.2833 - acc: 0.9187 - val_loss: 0.3107 - val_acc: 0.8897\n",
            "Epoch 4/20\n",
            " - 3s - loss: 0.2321 - acc: 0.9297 - val_loss: 0.2912 - val_acc: 0.8895\n",
            "Epoch 5/20\n",
            " - 3s - loss: 0.1980 - acc: 0.9375 - val_loss: 0.2857 - val_acc: 0.8867\n",
            "Epoch 6/20\n",
            " - 3s - loss: 0.1741 - acc: 0.9443 - val_loss: 0.2856 - val_acc: 0.8872\n",
            "Epoch 7/20\n",
            " - 3s - loss: 0.1560 - acc: 0.9506 - val_loss: 0.3002 - val_acc: 0.8800\n",
            "Epoch 8/20\n",
            " - 3s - loss: 0.1425 - acc: 0.9556 - val_loss: 0.3034 - val_acc: 0.8807\n",
            "Epoch 9/20\n",
            " - 3s - loss: 0.1306 - acc: 0.9593 - val_loss: 0.3303 - val_acc: 0.8716\n",
            "Epoch 10/20\n",
            " - 3s - loss: 0.1191 - acc: 0.9636 - val_loss: 0.3229 - val_acc: 0.8784\n",
            "Epoch 11/20\n",
            " - 3s - loss: 0.1103 - acc: 0.9667 - val_loss: 0.3379 - val_acc: 0.8750\n",
            "Epoch 12/20\n",
            " - 3s - loss: 0.1023 - acc: 0.9704 - val_loss: 0.3507 - val_acc: 0.8724\n",
            "Epoch 13/20\n",
            " - 3s - loss: 0.0950 - acc: 0.9716 - val_loss: 0.3648 - val_acc: 0.8720\n",
            "Epoch 14/20\n",
            " - 3s - loss: 0.0878 - acc: 0.9743 - val_loss: 0.3797 - val_acc: 0.8691\n",
            "Epoch 15/20\n",
            " - 3s - loss: 0.0811 - acc: 0.9773 - val_loss: 0.3957 - val_acc: 0.8681\n",
            "Epoch 16/20\n",
            " - 3s - loss: 0.0759 - acc: 0.9784 - val_loss: 0.4155 - val_acc: 0.8645\n",
            "Epoch 17/20\n",
            " - 3s - loss: 0.0705 - acc: 0.9812 - val_loss: 0.4333 - val_acc: 0.8626\n",
            "Epoch 18/20\n",
            " - 3s - loss: 0.0648 - acc: 0.9830 - val_loss: 0.4475 - val_acc: 0.8625\n",
            "Epoch 19/20\n",
            " - 3s - loss: 0.0609 - acc: 0.9843 - val_loss: 0.4634 - val_acc: 0.8624\n",
            "Epoch 20/20\n",
            " - 3s - loss: 0.0562 - acc: 0.9863 - val_loss: 0.4819 - val_acc: 0.8596\n"
          ],
          "name": "stdout"
        }
      ]
    },
    {
      "cell_type": "markdown",
      "metadata": {
        "id": "rCV6TJ899ExL"
      },
      "source": [
        "1. Plot the validation loss for the original and smaller models. How does the smaller model behave compared to the original?"
      ]
    },
    {
      "cell_type": "code",
      "metadata": {
        "id": "m7kNvhh-9ExN",
        "colab": {
          "base_uri": "https://localhost:8080/",
          "height": 501
        },
        "outputId": "e559d587-e950-456b-9e49-cb2a8e4f64ba"
      },
      "source": [
        "plt.plot(original_hist.history['val_loss'])\n",
        "plt.plot(smaller_model_hist.history['val_loss'])\n",
        "plt.title('Validation loss')\n",
        "plt.ylabel('loss')\n",
        "plt.xlabel('epoch')\n",
        "plt.legend(['Orignal Model', 'smaller Model'], loc='upper left')\n",
        "plt.show()"
      ],
      "execution_count": null,
      "outputs": [
        {
          "output_type": "display_data",
          "data": {
            "image/png": "[encoded data removed]",
            "text/plain": [
              "<Figure size 750x500 with 1 Axes>"
            ]
          },
          "metadata": {
            "tags": []
          }
        }
      ]
    },
    {
      "cell_type": "markdown",
      "metadata": {
        "id": "r-3gqoqMUsHW"
      },
      "source": [
        "Initially, the loss in the smaller model is higher than the loss in the original model. However, as the epochs are increasing the loss in the smaller model is less when compared to the loss in the original model. Which means the smaller model is less overfitting than the original model."
      ]
    },
    {
      "cell_type": "markdown",
      "metadata": {
        "id": "_u-YXpCZ9ExP"
      },
      "source": [
        "### Regularization: Weight regularization\n",
        "* As we did many times before, we can also add weight regularization to our loss function\n",
        "- L1 regularization: leads to _sparse networks_ with many weights that are 0\n",
        "- L2 regularization: leads to many very small weights\n",
        "    - Also called _weight decay_ in neural net literature\n",
        "* In Keras, add `kernel_regularizer` to every layer"
      ]
    },
    {
      "cell_type": "code",
      "metadata": {
        "id": "kXOqh2uU9ExR"
      },
      "source": [
        "from keras import regularizers\n",
        "from keras import models\n",
        "from keras import layers \n",
        "import matplotlib.pyplot as plt\n",
        "\n",
        "l2_model = models.Sequential()\n",
        "l2_model.add(layers.Dense(16, kernel_regularizer=regularizers.l2(0.001),\n",
        "                          activation='relu', input_shape=(10000,)))\n",
        "l2_model.add(layers.Dense(16, kernel_regularizer=regularizers.l2(0.001),\n",
        "                          activation='relu'))\n",
        "l2_model.add(layers.Dense(1, activation='sigmoid'))"
      ],
      "execution_count": null,
      "outputs": []
    },
    {
      "cell_type": "code",
      "metadata": {
        "id": "mzNX3bHo9ExT"
      },
      "source": [
        "l2_model.compile(optimizer='rmsprop',\n",
        "                 loss='binary_crossentropy',\n",
        "                 metrics=['acc'])"
      ],
      "execution_count": null,
      "outputs": []
    },
    {
      "cell_type": "code",
      "metadata": {
        "id": "2Gg8hLY69ExU",
        "colab": {
          "base_uri": "https://localhost:8080/",
          "height": 714
        },
        "outputId": "94bac8f1-a2c7-4bf1-9fb2-1553d1fb99d6"
      },
      "source": [
        "l2_model_hist = l2_model.fit(x_train, y_train,\n",
        "                             epochs=20,\n",
        "                             batch_size=512, verbose=2,\n",
        "                             validation_data=(x_test, y_test))"
      ],
      "execution_count": null,
      "outputs": [
        {
          "output_type": "stream",
          "text": [
            "Train on 25000 samples, validate on 25000 samples\n",
            "Epoch 1/20\n",
            " - 3s - loss: 0.5124 - acc: 0.8089 - val_loss: 0.3897 - val_acc: 0.8777\n",
            "Epoch 2/20\n",
            " - 3s - loss: 0.3217 - acc: 0.9040 - val_loss: 0.3535 - val_acc: 0.8774\n",
            "Epoch 3/20\n",
            " - 3s - loss: 0.2727 - acc: 0.9198 - val_loss: 0.3397 - val_acc: 0.8822\n",
            "Epoch 4/20\n",
            " - 3s - loss: 0.2498 - acc: 0.9286 - val_loss: 0.3424 - val_acc: 0.8830\n",
            "Epoch 5/20\n",
            " - 3s - loss: 0.2367 - acc: 0.9334 - val_loss: 0.3423 - val_acc: 0.8844\n",
            "Epoch 6/20\n",
            " - 3s - loss: 0.2296 - acc: 0.9367 - val_loss: 0.3752 - val_acc: 0.8731\n",
            "Epoch 7/20\n",
            " - 3s - loss: 0.2217 - acc: 0.9389 - val_loss: 0.3602 - val_acc: 0.8777\n",
            "Epoch 8/20\n",
            " - 3s - loss: 0.2168 - acc: 0.9416 - val_loss: 0.4255 - val_acc: 0.8581\n",
            "Epoch 9/20\n",
            " - 3s - loss: 0.2145 - acc: 0.9425 - val_loss: 0.3732 - val_acc: 0.8767\n",
            "Epoch 10/20\n",
            " - 3s - loss: 0.2089 - acc: 0.9445 - val_loss: 0.4452 - val_acc: 0.8528\n",
            "Epoch 11/20\n",
            " - 3s - loss: 0.2070 - acc: 0.9440 - val_loss: 0.3826 - val_acc: 0.8746\n",
            "Epoch 12/20\n",
            " - 3s - loss: 0.2021 - acc: 0.9464 - val_loss: 0.4553 - val_acc: 0.8562\n",
            "Epoch 13/20\n",
            " - 3s - loss: 0.2016 - acc: 0.9462 - val_loss: 0.3970 - val_acc: 0.8707\n",
            "Epoch 14/20\n",
            " - 3s - loss: 0.1992 - acc: 0.9480 - val_loss: 0.3985 - val_acc: 0.8708\n",
            "Epoch 15/20\n",
            " - 3s - loss: 0.1951 - acc: 0.9503 - val_loss: 0.5733 - val_acc: 0.8296\n",
            "Epoch 16/20\n",
            " - 3s - loss: 0.1933 - acc: 0.9504 - val_loss: 0.4237 - val_acc: 0.8674\n",
            "Epoch 17/20\n",
            " - 3s - loss: 0.1894 - acc: 0.9520 - val_loss: 0.4134 - val_acc: 0.8696\n",
            "Epoch 18/20\n",
            " - 3s - loss: 0.1957 - acc: 0.9496 - val_loss: 0.4293 - val_acc: 0.8681\n",
            "Epoch 19/20\n",
            " - 3s - loss: 0.1853 - acc: 0.9543 - val_loss: 0.4261 - val_acc: 0.8699\n",
            "Epoch 20/20\n",
            " - 3s - loss: 0.1889 - acc: 0.9523 - val_loss: 0.4238 - val_acc: 0.8676\n"
          ],
          "name": "stdout"
        }
      ]
    },
    {
      "cell_type": "markdown",
      "metadata": {
        "id": "vKOw1jNlibXK"
      },
      "source": [
        "1. Plot the validation loss for the original and l2 regularized models. How does the regularized model behave compared to the original?"
      ]
    },
    {
      "cell_type": "code",
      "metadata": {
        "id": "9qYQvkIe9ExW",
        "colab": {
          "base_uri": "https://localhost:8080/",
          "height": 501
        },
        "outputId": "0b06c614-42e6-4c62-bd97-3f51a3384418"
      },
      "source": [
        "plt.plot(original_hist.history['val_loss'])\n",
        "plt.plot(l2_model_hist.history['val_loss'])\n",
        "plt.title('Validation loss')\n",
        "plt.ylabel('loss')\n",
        "plt.xlabel('epoch')\n",
        "plt.legend(['Original Model', 'L2 regularization Model'], loc='upper left')\n",
        "plt.show()"
      ],
      "execution_count": null,
      "outputs": [
        {
          "output_type": "display_data",
          "data": {
            "image/png": "[encoded data removed]",
            "text/plain": [
              "<Figure size 750x500 with 1 Axes>"
            ]
          },
          "metadata": {
            "tags": []
          }
        }
      ]
    },
    {
      "cell_type": "markdown",
      "metadata": {
        "id": "n2T5Jei8WF3Q"
      },
      "source": [
        "The loss of the original model is increasing with increase in the no.of epcohs. But the loss in the l2 model is stable and is oscillating around 0.3 to 0.4. The l2 model is performing better than the original model."
      ]
    },
    {
      "cell_type": "markdown",
      "metadata": {
        "id": "OFbL6yJF9ExZ"
      },
      "source": [
        "### Regularization: dropout\n",
        "* One of the most effective and commonly used regularization techniques\n",
        "* Randomly set a number of outputs of the layer to 0\n",
        "* Idea: break up accidental non-significant learned patterns \n",
        "* _Dropout rate_: fraction of the outputs that are zeroed-out\n",
        "    - Usually between 0.2 and 0.5\n",
        "* At test time, nothing is dropped out, but the output values are scaled down by the dropout rate\n",
        "    - Balances out that more units are active than during training\n",
        "* In Keras: add `Dropout` layers between the normal layers"
      ]
    },
    {
      "cell_type": "markdown",
      "metadata": {
        "id": "xW2Slr_eWEpW"
      },
      "source": [
        ""
      ]
    },
    {
      "cell_type": "code",
      "metadata": {
        "id": "SUHgbTz49Exa",
        "colab": {
          "base_uri": "https://localhost:8080/",
          "height": 122
        },
        "outputId": "4c54c8a3-7526-4442-8a21-362acfc1cf80"
      },
      "source": [
        "from keras import models\n",
        "from keras import layers \n",
        "import matplotlib.pyplot as plt\n",
        "\n",
        "dpt_model = models.Sequential()\n",
        "dpt_model.add(layers.Dense(16, activation='relu', input_shape=(10000,)))\n",
        "dpt_model.add(layers.Dropout(0.5))\n",
        "dpt_model.add(layers.Dense(16, activation='relu'))\n",
        "dpt_model.add(layers.Dropout(0.5))\n",
        "dpt_model.add(layers.Dense(1, activation='sigmoid'))\n",
        "\n",
        "dpt_model.compile(optimizer='rmsprop',\n",
        "                  loss='binary_crossentropy',\n",
        "                  metrics=['acc'])"
      ],
      "execution_count": null,
      "outputs": [
        {
          "output_type": "stream",
          "text": [
            "WARNING:tensorflow:From /usr/local/lib/python3.6/dist-packages/keras/backend/tensorflow_backend.py:148: The name tf.placeholder_with_default is deprecated. Please use tf.compat.v1.placeholder_with_default instead.\n",
            "\n",
            "WARNING:tensorflow:From /usr/local/lib/python3.6/dist-packages/keras/backend/tensorflow_backend.py:3733: calling dropout (from tensorflow.python.ops.nn_ops) with keep_prob is deprecated and will be removed in a future version.\n",
            "Instructions for updating:\n",
            "Please use `rate` instead of `keep_prob`. Rate should be set to `rate = 1 - keep_prob`.\n"
          ],
          "name": "stdout"
        }
      ]
    },
    {
      "cell_type": "code",
      "metadata": {
        "id": "2QSG_vWa9Exb",
        "colab": {
          "base_uri": "https://localhost:8080/",
          "height": 714
        },
        "outputId": "2c19481e-d243-4e60-83ba-76df011187ec"
      },
      "source": [
        "dpt_model_hist = dpt_model.fit(x_train, y_train,\n",
        "                               epochs=20,\n",
        "                               \n",
        "                               batch_size=512, verbose=2,\n",
        "                               validation_data=(x_test, y_test))"
      ],
      "execution_count": null,
      "outputs": [
        {
          "output_type": "stream",
          "text": [
            "Train on 25000 samples, validate on 25000 samples\n",
            "Epoch 1/20\n",
            " - 3s - loss: 0.5959 - acc: 0.6858 - val_loss: 0.4566 - val_acc: 0.8593\n",
            "Epoch 2/20\n",
            " - 3s - loss: 0.4475 - acc: 0.8118 - val_loss: 0.3531 - val_acc: 0.8732\n",
            "Epoch 3/20\n",
            " - 3s - loss: 0.3570 - acc: 0.8630 - val_loss: 0.2953 - val_acc: 0.8877\n",
            "Epoch 4/20\n",
            " - 3s - loss: 0.2993 - acc: 0.8922 - val_loss: 0.2751 - val_acc: 0.8908\n",
            "Epoch 5/20\n",
            " - 3s - loss: 0.2595 - acc: 0.9083 - val_loss: 0.2784 - val_acc: 0.8898\n",
            "Epoch 6/20\n",
            " - 3s - loss: 0.2272 - acc: 0.9215 - val_loss: 0.2893 - val_acc: 0.8874\n",
            "Epoch 7/20\n",
            " - 3s - loss: 0.2026 - acc: 0.9325 - val_loss: 0.3045 - val_acc: 0.8874\n",
            "Epoch 8/20\n",
            " - 3s - loss: 0.1843 - acc: 0.9385 - val_loss: 0.3250 - val_acc: 0.8818\n",
            "Epoch 9/20\n",
            " - 3s - loss: 0.1665 - acc: 0.9440 - val_loss: 0.3426 - val_acc: 0.8822\n",
            "Epoch 10/20\n",
            " - 3s - loss: 0.1559 - acc: 0.9478 - val_loss: 0.3625 - val_acc: 0.8805\n",
            "Epoch 11/20\n",
            " - 3s - loss: 0.1458 - acc: 0.9509 - val_loss: 0.3837 - val_acc: 0.8802\n",
            "Epoch 12/20\n",
            " - 3s - loss: 0.1360 - acc: 0.9521 - val_loss: 0.3982 - val_acc: 0.8776\n",
            "Epoch 13/20\n",
            " - 3s - loss: 0.1279 - acc: 0.9551 - val_loss: 0.4267 - val_acc: 0.8776\n",
            "Epoch 14/20\n",
            " - 3s - loss: 0.1228 - acc: 0.9564 - val_loss: 0.4554 - val_acc: 0.8780\n",
            "Epoch 15/20\n",
            " - 3s - loss: 0.1160 - acc: 0.9589 - val_loss: 0.4830 - val_acc: 0.8773\n",
            "Epoch 16/20\n",
            " - 3s - loss: 0.1142 - acc: 0.9594 - val_loss: 0.4981 - val_acc: 0.8784\n",
            "Epoch 17/20\n",
            " - 3s - loss: 0.1089 - acc: 0.9608 - val_loss: 0.5110 - val_acc: 0.8736\n",
            "Epoch 18/20\n",
            " - 3s - loss: 0.1072 - acc: 0.9602 - val_loss: 0.5462 - val_acc: 0.8757\n",
            "Epoch 19/20\n",
            " - 3s - loss: 0.1037 - acc: 0.9623 - val_loss: 0.5605 - val_acc: 0.8750\n",
            "Epoch 20/20\n",
            " - 3s - loss: 0.1016 - acc: 0.9626 - val_loss: 0.5795 - val_acc: 0.8718\n"
          ],
          "name": "stdout"
        }
      ]
    },
    {
      "cell_type": "markdown",
      "metadata": {
        "id": "VZx6VNXn9Exd"
      },
      "source": [
        "1. Plot the validation loss for the original and dropout models. How does the dropout model behave compared to the original?"
      ]
    },
    {
      "cell_type": "code",
      "metadata": {
        "id": "-ZS_z7xM9Exe",
        "colab": {
          "base_uri": "https://localhost:8080/",
          "height": 501
        },
        "outputId": "7d59aa60-bc1d-4a15-feeb-bd03fe1b4428"
      },
      "source": [
        "plt.plot(original_hist.history['val_loss'])\n",
        "plt.plot(dpt_model_hist.history['val_loss'])\n",
        "plt.title('Validation loss')\n",
        "plt.ylabel('loss')\n",
        "plt.xlabel('epoch')\n",
        "plt.legend(['Orignal Model', 'dropout Model'], loc='upper left')\n",
        "plt.show()"
      ],
      "execution_count": null,
      "outputs": [
        {
          "output_type": "display_data",
          "data": {
            "image/png": "[encoded data removed]",
            "text/plain": [
              "<Figure size 750x500 with 1 Axes>"
            ]
          },
          "metadata": {
            "tags": []
          }
        }
      ]
    },
    {
      "cell_type": "markdown",
      "metadata": {
        "id": "JfymVMbhW9p_"
      },
      "source": [
        "The loss of both the original and dropout models are increasing with increase in the no.of epochs. But the dropout model is not overfitting."
      ]
    },
    {
      "cell_type": "markdown",
      "metadata": {
        "id": "ORAwOqdV9Exf"
      },
      "source": [
        "### Regularization recap\n",
        "* Get more training data\n",
        "* Reduce the capacity of the network\n",
        "* Add weight regularization\n",
        "* Add dropout\n",
        "* Either start with a simple model and add capacity\n",
        "* Or, start with a complex model and then regularize by adding weight regularization and dropout"
      ]
    },
    {
      "cell_type": "markdown",
      "metadata": {
        "id": "1xwfZv_E9Ewq"
      },
      "source": [
        "### Regression\n",
        "* Dataset: 506 examples of houses and sale prices (Boston)\n",
        "    - Included in Keras, with a 1/5 train-test split\n",
        "* Each row is one house price, described by numeric properties of the house and neighborhood\n",
        "* Small dataset, non-normalized features"
      ]
    },
    {
      "cell_type": "code",
      "metadata": {
        "id": "ZlUGyLJS9Ewr",
        "colab": {
          "base_uri": "https://localhost:8080/",
          "height": 51
        },
        "outputId": "d41790b3-b4e8-4341-df39-50b1f514ffad"
      },
      "source": [
        "from keras.datasets import boston_housing\n",
        "\n",
        "(train_data, train_targets), (test_data, test_targets) =  boston_housing.load_data()"
      ],
      "execution_count": null,
      "outputs": [
        {
          "output_type": "stream",
          "text": [
            "Downloading data from https://s3.amazonaws.com/keras-datasets/boston_housing.npz\n",
            "57344/57026 [==============================] - 0s 0us/step\n"
          ],
          "name": "stdout"
        }
      ]
    },
    {
      "cell_type": "markdown",
      "metadata": {
        "id": "gX4hkxBb9Ewt"
      },
      "source": [
        "#### Preprocessing\n",
        "* Neural nets work a lot better if we normalize the features first. \n",
        "* Keras has no built-in support so we have to do this manually (or with scikit-learn)\n",
        "    - Again, be careful not to look at the test data during normalization\n",
        "    \n"
      ]
    },
    {
      "cell_type": "code",
      "metadata": {
        "id": "d-W92M6I9Ewt"
      },
      "source": [
        "mean, std = train_data.mean(axis=0), train_data.std(axis=0)\n",
        "train_data -= mean\n",
        "train_data /= std\n",
        "\n",
        "test_data -= mean\n",
        "test_data /= std"
      ],
      "execution_count": null,
      "outputs": []
    },
    {
      "cell_type": "markdown",
      "metadata": {
        "id": "OwM0wfKE9Ewx"
      },
      "source": [
        "#### Building the network\n",
        "* This is a small dataset, so easy to overfit\n",
        "    * We use 2 hidden layers of 64 units each\n",
        "* Use smaller batches, more epochs\n",
        "* Since we want scalar output, the output layer is one unit without activation\n",
        "* Loss function is Mean Squared Error (bigger penalty)\n",
        "* Evaluation metric is Mean Absolute Error (more interpretable)\n",
        "* We will also use cross-validation, so we wrap the model building in a function, so that we can call it multiple times\n",
        "\n",
        "1. Create a function build_model that returns the neural network model described above"
      ]
    },
    {
      "cell_type": "code",
      "metadata": {
        "id": "vL_p-NcX9Ewz"
      },
      "source": [
        "def build_model():\n",
        "    model = models.Sequential()\n",
        "    model.add(layers.Dense(64, activation='relu',\n",
        "                           input_shape=(train_data.shape[1],)))\n",
        "    model.add(layers.Dense(64, activation='relu'))\n",
        "    model.add(layers.Dense(1))\n",
        "    model.compile(optimizer='rmsprop', loss='mse', metrics=['mae'])\n",
        "    return model"
      ],
      "execution_count": null,
      "outputs": []
    },
    {
      "cell_type": "markdown",
      "metadata": {
        "id": "t2seh8XW9Ew1"
      },
      "source": [
        "#### Cross-validation\n",
        "* Keras does not have support for cross-validation\n",
        "* We can implement cross-validation ourselves (seeprovided code below)\n",
        "* Alternatively, we can wrap a Keras model as a scikit-learn estimator\n",
        "* Generally speaking, cross-validation is tricky with neural nets\n",
        "    * Some fold may not converge, or fluctuate on random initialization\n",
        "    "
      ]
    },
    {
      "cell_type": "code",
      "metadata": {
        "id": "VupbDC1U9Ew3",
        "colab": {
          "base_uri": "https://localhost:8080/",
          "height": 85
        },
        "outputId": "a022409c-28af-4423-fa0e-e691ddeb8c2a"
      },
      "source": [
        "# implementation of cross-validation\n",
        "import numpy as np\n",
        "\n",
        "k = 4\n",
        "num_val_samples = len(train_data) // k\n",
        "num_epochs = 20\n",
        "all_scores = []\n",
        "for i in range(k):\n",
        "    print('processing fold #', i)\n",
        "    # Prepare the validation data: data from partition # k\n",
        "    val_data = train_data[i * num_val_samples: (i + 1) * num_val_samples]\n",
        "    val_targets = train_targets[i * num_val_samples: (i + 1) * num_val_samples]\n",
        "\n",
        "    # Prepare the training data: data from all other partitions\n",
        "    partial_train_data = np.concatenate(\n",
        "        [train_data[:i * num_val_samples],\n",
        "         train_data[(i + 1) * num_val_samples:]],\n",
        "        axis=0)\n",
        "    partial_train_targets = np.concatenate(\n",
        "        [train_targets[:i * num_val_samples],\n",
        "         train_targets[(i + 1) * num_val_samples:]],\n",
        "        axis=0)\n",
        "\n",
        "    # Build the Keras model (already compiled)\n",
        "    model = build_model()\n",
        "    # Train the model (in silent mode, verbose=0)\n",
        "    model.fit(partial_train_data, partial_train_targets,\n",
        "              epochs=num_epochs, batch_size=1, verbose=0)\n",
        "    # Evaluate the model on the validation data\n",
        "    val_mse, val_mae = model.evaluate(val_data, val_targets, verbose=2)\n",
        "    all_scores.append(val_mae)"
      ],
      "execution_count": null,
      "outputs": [
        {
          "output_type": "stream",
          "text": [
            "processing fold # 0\n",
            "processing fold # 1\n",
            "processing fold # 2\n",
            "processing fold # 3\n"
          ],
          "name": "stdout"
        }
      ]
    },
    {
      "cell_type": "markdown",
      "metadata": {
        "id": "OcEyK-E59Ew8"
      },
      "source": [
        "1. Train for longer (200 epochs) and keep track of loss after every epoch. Plot and describe the loss as a function of epoch number."
      ]
    },
    {
      "cell_type": "code",
      "metadata": {
        "id": "tXsVlXqw9Ew8",
        "colab": {
          "base_uri": "https://localhost:8080/",
          "height": 1000
        },
        "outputId": "0fa334d1-3367-430f-b2b4-cc47e4560a72"
      },
      "source": [
        "from keras import backend as K\n",
        "K.clear_session() # Memory clean-up\n",
        "\n",
        "num_epochs = 200\n",
        "all_mae_histories = []\n",
        "for i in range(k):\n",
        "    print('processing fold #', i)\n",
        "    # Prepare the validation data: data from partition # k\n",
        "    val_data = train_data[i * num_val_samples: (i + 1) * num_val_samples]\n",
        "    val_targets = train_targets[i * num_val_samples: (i + 1) * num_val_samples]\n",
        "\n",
        "    # Prepare the training data: data from all other partitions\n",
        "    partial_train_data = np.concatenate(\n",
        "        [train_data[:i * num_val_samples],\n",
        "         train_data[(i + 1) * num_val_samples:]],\n",
        "        axis=0)\n",
        "    partial_train_targets = np.concatenate(\n",
        "        [train_targets[:i * num_val_samples],\n",
        "         train_targets[(i + 1) * num_val_samples:]],\n",
        "        axis=0)\n",
        "\n",
        "    # Build the Keras model (already compiled)\n",
        "    model = build_model()\n",
        "    # Train the model (in silent mode, verbose=0)\n",
        "    history = model.fit(partial_train_data, partial_train_targets,\n",
        "                        validation_data=(val_data, val_targets),\n",
        "                        epochs=num_epochs, batch_size=1, verbose=2)\n",
        "    mae_history = history.history['val_loss']\n",
        "    all_mae_histories.append(mae_history)"
      ],
      "execution_count": null,
      "outputs": [
        {
          "output_type": "stream",
          "text": [
            "WARNING:tensorflow:From /usr/local/lib/python3.6/dist-packages/keras/backend/tensorflow_backend.py:107: The name tf.reset_default_graph is deprecated. Please use tf.compat.v1.reset_default_graph instead.\n",
            "\n",
            "processing fold # 0\n",
            "Train on 303 samples, validate on 101 samples\n",
            "Epoch 1/200\n",
            " - 0s - loss: 200.5871 - mean_absolute_error: 11.1427 - val_loss: 36.6219 - val_mean_absolute_error: 4.0493\n",
            "Epoch 2/200\n",
            " - 0s - loss: 31.6524 - mean_absolute_error: 3.8774 - val_loss: 23.2317 - val_mean_absolute_error: 3.1690\n",
            "Epoch 3/200\n",
            " - 0s - loss: 23.2053 - mean_absolute_error: 3.2575 - val_loss: 18.8090 - val_mean_absolute_error: 2.6417\n",
            "Epoch 4/200\n",
            " - 0s - loss: 19.3499 - mean_absolute_error: 2.9204 - val_loss: 16.0620 - val_mean_absolute_error: 2.7144\n",
            "Epoch 5/200\n",
            " - 0s - loss: 17.6967 - mean_absolute_error: 2.7737 - val_loss: 17.1859 - val_mean_absolute_error: 2.5788\n",
            "Epoch 6/200\n",
            " - 0s - loss: 17.7099 - mean_absolute_error: 2.7062 - val_loss: 18.2660 - val_mean_absolute_error: 2.6572\n",
            "Epoch 7/200\n",
            " - 0s - loss: 16.2255 - mean_absolute_error: 2.5966 - val_loss: 14.3685 - val_mean_absolute_error: 2.4345\n",
            "Epoch 8/200\n",
            " - 0s - loss: 15.2492 - mean_absolute_error: 2.5131 - val_loss: 12.5098 - val_mean_absolute_error: 2.2039\n",
            "Epoch 9/200\n",
            " - 0s - loss: 14.1760 - mean_absolute_error: 2.4712 - val_loss: 13.1495 - val_mean_absolute_error: 2.6810\n",
            "Epoch 10/200\n",
            " - 0s - loss: 12.8570 - mean_absolute_error: 2.4167 - val_loss: 13.0178 - val_mean_absolute_error: 2.5162\n",
            "Epoch 11/200\n",
            " - 0s - loss: 13.2449 - mean_absolute_error: 2.3457 - val_loss: 10.9519 - val_mean_absolute_error: 2.4136\n",
            "Epoch 12/200\n",
            " - 0s - loss: 12.7241 - mean_absolute_error: 2.2999 - val_loss: 11.6836 - val_mean_absolute_error: 2.2346\n",
            "Epoch 13/200\n",
            " - 0s - loss: 11.7673 - mean_absolute_error: 2.2406 - val_loss: 10.5351 - val_mean_absolute_error: 2.0507\n",
            "Epoch 14/200\n",
            " - 0s - loss: 11.0107 - mean_absolute_error: 2.2467 - val_loss: 11.7718 - val_mean_absolute_error: 2.1462\n",
            "Epoch 15/200\n",
            " - 0s - loss: 11.6560 - mean_absolute_error: 2.2351 - val_loss: 9.0481 - val_mean_absolute_error: 2.1462\n",
            "Epoch 16/200\n",
            " - 0s - loss: 11.0049 - mean_absolute_error: 2.2526 - val_loss: 9.5634 - val_mean_absolute_error: 1.9025\n",
            "Epoch 17/200\n",
            " - 0s - loss: 11.2350 - mean_absolute_error: 2.1849 - val_loss: 9.1977 - val_mean_absolute_error: 2.1881\n",
            "Epoch 18/200\n",
            " - 0s - loss: 10.4413 - mean_absolute_error: 2.1401 - val_loss: 9.6739 - val_mean_absolute_error: 2.2883\n",
            "Epoch 19/200\n",
            " - 0s - loss: 10.1364 - mean_absolute_error: 2.1313 - val_loss: 9.4822 - val_mean_absolute_error: 2.0713\n",
            "Epoch 20/200\n",
            " - 0s - loss: 10.2806 - mean_absolute_error: 2.0980 - val_loss: 9.0319 - val_mean_absolute_error: 2.1138\n",
            "Epoch 21/200\n",
            " - 0s - loss: 10.3451 - mean_absolute_error: 2.0757 - val_loss: 8.9696 - val_mean_absolute_error: 1.9496\n",
            "Epoch 22/200\n",
            " - 0s - loss: 9.2950 - mean_absolute_error: 2.0701 - val_loss: 11.1944 - val_mean_absolute_error: 2.5046\n",
            "Epoch 23/200\n",
            " - 0s - loss: 9.8098 - mean_absolute_error: 2.0656 - val_loss: 10.5853 - val_mean_absolute_error: 2.2601\n",
            "Epoch 24/200\n",
            " - 0s - loss: 9.6501 - mean_absolute_error: 2.0063 - val_loss: 9.0996 - val_mean_absolute_error: 2.1920\n",
            "Epoch 25/200\n",
            " - 0s - loss: 9.3450 - mean_absolute_error: 1.9752 - val_loss: 9.3425 - val_mean_absolute_error: 2.2665\n",
            "Epoch 26/200\n",
            " - 0s - loss: 8.5975 - mean_absolute_error: 1.9366 - val_loss: 10.7523 - val_mean_absolute_error: 2.3485\n",
            "Epoch 27/200\n",
            " - 0s - loss: 8.9827 - mean_absolute_error: 2.0170 - val_loss: 7.9060 - val_mean_absolute_error: 1.9057\n",
            "Epoch 28/200\n",
            " - 0s - loss: 8.8142 - mean_absolute_error: 1.9746 - val_loss: 8.5444 - val_mean_absolute_error: 2.0516\n",
            "Epoch 29/200\n",
            " - 0s - loss: 8.9466 - mean_absolute_error: 1.9391 - val_loss: 9.4003 - val_mean_absolute_error: 2.1211\n",
            "Epoch 30/200\n",
            " - 0s - loss: 8.5968 - mean_absolute_error: 1.9312 - val_loss: 9.6868 - val_mean_absolute_error: 2.1323\n",
            "Epoch 31/200\n",
            " - 0s - loss: 8.5701 - mean_absolute_error: 1.9293 - val_loss: 8.4324 - val_mean_absolute_error: 2.0457\n",
            "Epoch 32/200\n",
            " - 0s - loss: 8.4415 - mean_absolute_error: 1.9398 - val_loss: 8.5654 - val_mean_absolute_error: 2.1766\n",
            "Epoch 33/200\n",
            " - 0s - loss: 7.9450 - mean_absolute_error: 1.8217 - val_loss: 10.2031 - val_mean_absolute_error: 2.3107\n",
            "Epoch 34/200\n",
            " - 0s - loss: 8.2881 - mean_absolute_error: 1.8948 - val_loss: 9.5746 - val_mean_absolute_error: 2.2241\n",
            "Epoch 35/200\n",
            " - 0s - loss: 7.9077 - mean_absolute_error: 1.9015 - val_loss: 8.0194 - val_mean_absolute_error: 1.9883\n",
            "Epoch 36/200\n",
            " - 0s - loss: 8.3887 - mean_absolute_error: 1.9396 - val_loss: 8.2107 - val_mean_absolute_error: 1.9548\n",
            "Epoch 37/200\n",
            " - 0s - loss: 7.8358 - mean_absolute_error: 1.8450 - val_loss: 9.1009 - val_mean_absolute_error: 2.0917\n",
            "Epoch 38/200\n",
            " - 0s - loss: 7.7412 - mean_absolute_error: 1.8266 - val_loss: 7.9885 - val_mean_absolute_error: 2.0533\n",
            "Epoch 39/200\n",
            " - 0s - loss: 8.0143 - mean_absolute_error: 1.8516 - val_loss: 9.4731 - val_mean_absolute_error: 1.9026\n",
            "Epoch 40/200\n",
            " - 0s - loss: 8.0869 - mean_absolute_error: 1.7978 - val_loss: 8.5903 - val_mean_absolute_error: 2.1938\n",
            "Epoch 41/200\n",
            " - 0s - loss: 7.9795 - mean_absolute_error: 1.8677 - val_loss: 7.8401 - val_mean_absolute_error: 1.8133\n",
            "Epoch 42/200\n",
            " - 0s - loss: 7.1892 - mean_absolute_error: 1.8033 - val_loss: 8.0024 - val_mean_absolute_error: 1.8494\n",
            "Epoch 43/200\n",
            " - 0s - loss: 7.6263 - mean_absolute_error: 1.7656 - val_loss: 8.7005 - val_mean_absolute_error: 1.9776\n",
            "Epoch 44/200\n",
            " - 0s - loss: 7.5545 - mean_absolute_error: 1.8208 - val_loss: 8.4392 - val_mean_absolute_error: 2.0308\n",
            "Epoch 45/200\n",
            " - 0s - loss: 7.2888 - mean_absolute_error: 1.7962 - val_loss: 7.6455 - val_mean_absolute_error: 1.8868\n",
            "Epoch 46/200\n",
            " - 0s - loss: 7.4934 - mean_absolute_error: 1.8155 - val_loss: 7.4149 - val_mean_absolute_error: 1.8300\n",
            "Epoch 47/200\n",
            " - 0s - loss: 7.6567 - mean_absolute_error: 1.8103 - val_loss: 9.1220 - val_mean_absolute_error: 2.3302\n",
            "Epoch 48/200\n",
            " - 0s - loss: 7.4901 - mean_absolute_error: 1.7228 - val_loss: 10.1499 - val_mean_absolute_error: 2.5986\n",
            "Epoch 49/200\n",
            " - 0s - loss: 6.9598 - mean_absolute_error: 1.7778 - val_loss: 8.5570 - val_mean_absolute_error: 2.2395\n",
            "Epoch 50/200\n",
            " - 0s - loss: 6.9437 - mean_absolute_error: 1.6831 - val_loss: 7.3236 - val_mean_absolute_error: 1.7727\n",
            "Epoch 51/200\n",
            " - 0s - loss: 7.1833 - mean_absolute_error: 1.7100 - val_loss: 7.8127 - val_mean_absolute_error: 1.9712\n",
            "Epoch 52/200\n",
            " - 0s - loss: 6.9747 - mean_absolute_error: 1.7550 - val_loss: 8.7933 - val_mean_absolute_error: 2.2595\n",
            "Epoch 53/200\n",
            " - 0s - loss: 6.7849 - mean_absolute_error: 1.7137 - val_loss: 9.8399 - val_mean_absolute_error: 2.3616\n",
            "Epoch 54/200\n",
            " - 0s - loss: 6.6006 - mean_absolute_error: 1.6904 - val_loss: 8.6048 - val_mean_absolute_error: 2.1378\n",
            "Epoch 55/200\n",
            " - 0s - loss: 6.5585 - mean_absolute_error: 1.6975 - val_loss: 7.2915 - val_mean_absolute_error: 1.8682\n",
            "Epoch 56/200\n",
            " - 0s - loss: 6.4123 - mean_absolute_error: 1.7022 - val_loss: 8.0737 - val_mean_absolute_error: 2.0828\n",
            "Epoch 57/200\n",
            " - 0s - loss: 6.8339 - mean_absolute_error: 1.6881 - val_loss: 7.6706 - val_mean_absolute_error: 1.9753\n",
            "Epoch 58/200\n",
            " - 0s - loss: 6.4560 - mean_absolute_error: 1.6507 - val_loss: 9.2620 - val_mean_absolute_error: 2.3124\n",
            "Epoch 59/200\n",
            " - 0s - loss: 6.9041 - mean_absolute_error: 1.6597 - val_loss: 9.9085 - val_mean_absolute_error: 2.1675\n",
            "Epoch 60/200\n",
            " - 0s - loss: 6.4070 - mean_absolute_error: 1.6249 - val_loss: 7.7014 - val_mean_absolute_error: 1.8477\n",
            "Epoch 61/200\n",
            " - 0s - loss: 6.8721 - mean_absolute_error: 1.7060 - val_loss: 6.7750 - val_mean_absolute_error: 1.8303\n",
            "Epoch 62/200\n",
            " - 0s - loss: 6.0695 - mean_absolute_error: 1.5785 - val_loss: 7.1968 - val_mean_absolute_error: 1.8660\n",
            "Epoch 63/200\n",
            " - 0s - loss: 6.2908 - mean_absolute_error: 1.6561 - val_loss: 7.2274 - val_mean_absolute_error: 1.9364\n",
            "Epoch 64/200\n",
            " - 0s - loss: 6.4338 - mean_absolute_error: 1.6452 - val_loss: 7.1543 - val_mean_absolute_error: 1.9654\n",
            "Epoch 65/200\n",
            " - 0s - loss: 5.8295 - mean_absolute_error: 1.5988 - val_loss: 9.1770 - val_mean_absolute_error: 2.3730\n",
            "Epoch 66/200\n",
            " - 0s - loss: 6.4225 - mean_absolute_error: 1.6107 - val_loss: 7.8571 - val_mean_absolute_error: 1.8926\n",
            "Epoch 67/200\n",
            " - 0s - loss: 5.6594 - mean_absolute_error: 1.5318 - val_loss: 8.1740 - val_mean_absolute_error: 2.0761\n",
            "Epoch 68/200\n",
            " - 0s - loss: 5.9769 - mean_absolute_error: 1.6129 - val_loss: 8.6797 - val_mean_absolute_error: 2.1413\n",
            "Epoch 69/200\n",
            " - 0s - loss: 5.9605 - mean_absolute_error: 1.6357 - val_loss: 8.7992 - val_mean_absolute_error: 2.1294\n",
            "Epoch 70/200\n",
            " - 0s - loss: 5.9743 - mean_absolute_error: 1.6201 - val_loss: 7.5691 - val_mean_absolute_error: 1.9325\n",
            "Epoch 71/200\n",
            " - 0s - loss: 6.0267 - mean_absolute_error: 1.5706 - val_loss: 6.8815 - val_mean_absolute_error: 1.8891\n",
            "Epoch 72/200\n",
            " - 0s - loss: 6.0821 - mean_absolute_error: 1.5719 - val_loss: 11.8794 - val_mean_absolute_error: 2.6335\n",
            "Epoch 73/200\n",
            " - 0s - loss: 6.0759 - mean_absolute_error: 1.5899 - val_loss: 7.2434 - val_mean_absolute_error: 1.9455\n",
            "Epoch 74/200\n",
            " - 0s - loss: 5.4475 - mean_absolute_error: 1.5666 - val_loss: 9.8553 - val_mean_absolute_error: 2.4956\n",
            "Epoch 75/200\n",
            " - 0s - loss: 5.3555 - mean_absolute_error: 1.5616 - val_loss: 8.1299 - val_mean_absolute_error: 2.0079\n",
            "Epoch 76/200\n",
            " - 0s - loss: 5.7715 - mean_absolute_error: 1.6078 - val_loss: 8.2575 - val_mean_absolute_error: 2.0687\n",
            "Epoch 77/200\n",
            " - 0s - loss: 5.4380 - mean_absolute_error: 1.5134 - val_loss: 7.3889 - val_mean_absolute_error: 2.0100\n",
            "Epoch 78/200\n",
            " - 0s - loss: 5.4340 - mean_absolute_error: 1.5315 - val_loss: 7.0810 - val_mean_absolute_error: 1.9211\n",
            "Epoch 79/200\n",
            " - 0s - loss: 5.3228 - mean_absolute_error: 1.5622 - val_loss: 9.5816 - val_mean_absolute_error: 2.3142\n",
            "Epoch 80/200\n",
            " - 0s - loss: 5.5935 - mean_absolute_error: 1.5565 - val_loss: 8.0230 - val_mean_absolute_error: 2.0493\n",
            "Epoch 81/200\n",
            " - 0s - loss: 5.6240 - mean_absolute_error: 1.5809 - val_loss: 8.7788 - val_mean_absolute_error: 2.1640\n",
            "Epoch 82/200\n",
            " - 0s - loss: 5.8602 - mean_absolute_error: 1.5349 - val_loss: 7.5539 - val_mean_absolute_error: 2.0562\n",
            "Epoch 83/200\n",
            " - 0s - loss: 5.5291 - mean_absolute_error: 1.5903 - val_loss: 7.7704 - val_mean_absolute_error: 2.0395\n",
            "Epoch 84/200\n",
            " - 0s - loss: 5.5258 - mean_absolute_error: 1.4481 - val_loss: 8.3359 - val_mean_absolute_error: 2.1923\n",
            "Epoch 85/200\n",
            " - 0s - loss: 5.2991 - mean_absolute_error: 1.5412 - val_loss: 10.6562 - val_mean_absolute_error: 2.4712\n",
            "Epoch 86/200\n",
            " - 0s - loss: 5.4545 - mean_absolute_error: 1.5190 - val_loss: 7.5360 - val_mean_absolute_error: 2.0187\n",
            "Epoch 87/200\n",
            " - 0s - loss: 5.1848 - mean_absolute_error: 1.4983 - val_loss: 7.0613 - val_mean_absolute_error: 1.9519\n",
            "Epoch 88/200\n",
            " - 0s - loss: 4.9514 - mean_absolute_error: 1.4532 - val_loss: 8.5111 - val_mean_absolute_error: 2.1531\n",
            "Epoch 89/200\n",
            " - 0s - loss: 5.2944 - mean_absolute_error: 1.4948 - val_loss: 7.6454 - val_mean_absolute_error: 2.0638\n",
            "Epoch 90/200\n",
            " - 0s - loss: 5.1345 - mean_absolute_error: 1.4361 - val_loss: 8.4399 - val_mean_absolute_error: 2.1676\n",
            "Epoch 91/200\n",
            " - 0s - loss: 5.1610 - mean_absolute_error: 1.4996 - val_loss: 11.3486 - val_mean_absolute_error: 2.5589\n",
            "Epoch 92/200\n",
            " - 0s - loss: 5.3657 - mean_absolute_error: 1.4993 - val_loss: 7.7019 - val_mean_absolute_error: 2.0337\n",
            "Epoch 93/200\n",
            " - 0s - loss: 4.7884 - mean_absolute_error: 1.4361 - val_loss: 7.3932 - val_mean_absolute_error: 1.9190\n",
            "Epoch 94/200\n",
            " - 0s - loss: 4.7290 - mean_absolute_error: 1.4749 - val_loss: 8.7631 - val_mean_absolute_error: 2.2279\n",
            "Epoch 95/200\n",
            " - 0s - loss: 4.6098 - mean_absolute_error: 1.4800 - val_loss: 8.3707 - val_mean_absolute_error: 2.0753\n",
            "Epoch 96/200\n",
            " - 0s - loss: 4.5167 - mean_absolute_error: 1.4553 - val_loss: 8.3011 - val_mean_absolute_error: 2.0467\n",
            "Epoch 97/200\n",
            " - 0s - loss: 4.4711 - mean_absolute_error: 1.4354 - val_loss: 8.8699 - val_mean_absolute_error: 2.2796\n",
            "Epoch 98/200\n",
            " - 0s - loss: 5.1181 - mean_absolute_error: 1.4489 - val_loss: 8.2540 - val_mean_absolute_error: 2.0913\n",
            "Epoch 99/200\n",
            " - 0s - loss: 5.1753 - mean_absolute_error: 1.4314 - val_loss: 7.5719 - val_mean_absolute_error: 1.9828\n",
            "Epoch 100/200\n",
            " - 0s - loss: 4.7105 - mean_absolute_error: 1.4553 - val_loss: 7.7182 - val_mean_absolute_error: 2.0260\n",
            "Epoch 101/200\n",
            " - 0s - loss: 4.8468 - mean_absolute_error: 1.4564 - val_loss: 7.6792 - val_mean_absolute_error: 1.9491\n",
            "Epoch 102/200\n",
            " - 0s - loss: 4.6718 - mean_absolute_error: 1.4310 - val_loss: 8.2471 - val_mean_absolute_error: 2.1243\n",
            "Epoch 103/200\n",
            " - 0s - loss: 4.5678 - mean_absolute_error: 1.4484 - val_loss: 8.5007 - val_mean_absolute_error: 2.1521\n",
            "Epoch 104/200\n",
            " - 0s - loss: 4.3122 - mean_absolute_error: 1.3982 - val_loss: 7.1065 - val_mean_absolute_error: 1.9662\n",
            "Epoch 105/200\n",
            " - 0s - loss: 4.8010 - mean_absolute_error: 1.4148 - val_loss: 8.1498 - val_mean_absolute_error: 2.0132\n",
            "Epoch 106/200\n",
            " - 0s - loss: 4.2053 - mean_absolute_error: 1.3719 - val_loss: 8.0888 - val_mean_absolute_error: 1.9907\n",
            "Epoch 107/200\n",
            " - 0s - loss: 4.6915 - mean_absolute_error: 1.4386 - val_loss: 8.3901 - val_mean_absolute_error: 2.1748\n",
            "Epoch 108/200\n",
            " - 0s - loss: 4.5808 - mean_absolute_error: 1.4481 - val_loss: 7.8164 - val_mean_absolute_error: 1.9305\n",
            "Epoch 109/200\n",
            " - 0s - loss: 4.4430 - mean_absolute_error: 1.4231 - val_loss: 8.2250 - val_mean_absolute_error: 2.0404\n",
            "Epoch 110/200\n",
            " - 0s - loss: 4.4816 - mean_absolute_error: 1.4019 - val_loss: 9.1636 - val_mean_absolute_error: 2.2090\n",
            "Epoch 111/200\n",
            " - 0s - loss: 4.2788 - mean_absolute_error: 1.4174 - val_loss: 7.8951 - val_mean_absolute_error: 2.1812\n",
            "Epoch 112/200\n",
            " - 0s - loss: 4.1167 - mean_absolute_error: 1.3882 - val_loss: 8.3597 - val_mean_absolute_error: 2.1390\n",
            "Epoch 113/200\n",
            " - 0s - loss: 4.1333 - mean_absolute_error: 1.3706 - val_loss: 10.8331 - val_mean_absolute_error: 2.4814\n",
            "Epoch 114/200\n",
            " - 0s - loss: 4.2366 - mean_absolute_error: 1.3989 - val_loss: 12.3945 - val_mean_absolute_error: 2.6638\n",
            "Epoch 115/200\n",
            " - 0s - loss: 4.1260 - mean_absolute_error: 1.4098 - val_loss: 8.0802 - val_mean_absolute_error: 2.1639\n",
            "Epoch 116/200\n",
            " - 0s - loss: 4.0004 - mean_absolute_error: 1.3605 - val_loss: 8.4834 - val_mean_absolute_error: 2.0844\n",
            "Epoch 117/200\n",
            " - 0s - loss: 4.3281 - mean_absolute_error: 1.3364 - val_loss: 7.7009 - val_mean_absolute_error: 2.0557\n",
            "Epoch 118/200\n",
            " - 0s - loss: 3.7695 - mean_absolute_error: 1.3484 - val_loss: 8.8381 - val_mean_absolute_error: 2.1986\n",
            "Epoch 119/200\n",
            " - 0s - loss: 4.3133 - mean_absolute_error: 1.3570 - val_loss: 9.8686 - val_mean_absolute_error: 2.3458\n",
            "Epoch 120/200\n",
            " - 0s - loss: 4.2056 - mean_absolute_error: 1.3879 - val_loss: 7.8828 - val_mean_absolute_error: 1.9396\n",
            "Epoch 121/200\n",
            " - 0s - loss: 4.1274 - mean_absolute_error: 1.3632 - val_loss: 7.0066 - val_mean_absolute_error: 1.9473\n",
            "Epoch 122/200\n",
            " - 0s - loss: 4.0383 - mean_absolute_error: 1.3706 - val_loss: 9.4793 - val_mean_absolute_error: 2.3076\n",
            "Epoch 123/200\n",
            " - 0s - loss: 3.9363 - mean_absolute_error: 1.3336 - val_loss: 8.7435 - val_mean_absolute_error: 2.1527\n",
            "Epoch 124/200\n",
            " - 0s - loss: 3.9557 - mean_absolute_error: 1.3548 - val_loss: 8.3013 - val_mean_absolute_error: 1.9967\n",
            "Epoch 125/200\n",
            " - 0s - loss: 3.9660 - mean_absolute_error: 1.3014 - val_loss: 9.1712 - val_mean_absolute_error: 2.3373\n",
            "Epoch 126/200\n",
            " - 0s - loss: 3.8848 - mean_absolute_error: 1.3548 - val_loss: 8.8698 - val_mean_absolute_error: 2.1511\n",
            "Epoch 127/200\n",
            " - 0s - loss: 3.8120 - mean_absolute_error: 1.2714 - val_loss: 7.6064 - val_mean_absolute_error: 1.9567\n",
            "Epoch 128/200\n",
            " - 0s - loss: 3.6192 - mean_absolute_error: 1.3345 - val_loss: 8.4686 - val_mean_absolute_error: 2.1152\n",
            "Epoch 129/200\n",
            " - 0s - loss: 3.6673 - mean_absolute_error: 1.3393 - val_loss: 9.8790 - val_mean_absolute_error: 2.3219\n",
            "Epoch 130/200\n",
            " - 0s - loss: 3.6375 - mean_absolute_error: 1.3934 - val_loss: 14.1295 - val_mean_absolute_error: 2.9429\n",
            "Epoch 131/200\n",
            " - 0s - loss: 3.8879 - mean_absolute_error: 1.3291 - val_loss: 7.8448 - val_mean_absolute_error: 2.0840\n",
            "Epoch 132/200\n",
            " - 0s - loss: 3.5100 - mean_absolute_error: 1.2998 - val_loss: 9.1024 - val_mean_absolute_error: 2.1868\n",
            "Epoch 133/200\n",
            " - 0s - loss: 4.0345 - mean_absolute_error: 1.3223 - val_loss: 10.7108 - val_mean_absolute_error: 2.4334\n",
            "Epoch 134/200\n",
            " - 0s - loss: 3.3540 - mean_absolute_error: 1.2924 - val_loss: 13.9968 - val_mean_absolute_error: 2.6732\n",
            "Epoch 135/200\n",
            " - 0s - loss: 3.6073 - mean_absolute_error: 1.3035 - val_loss: 9.9654 - val_mean_absolute_error: 2.3292\n",
            "Epoch 136/200\n",
            " - 0s - loss: 3.6392 - mean_absolute_error: 1.3573 - val_loss: 7.0823 - val_mean_absolute_error: 1.9363\n",
            "Epoch 137/200\n",
            " - 0s - loss: 3.4718 - mean_absolute_error: 1.2841 - val_loss: 8.4224 - val_mean_absolute_error: 2.1038\n",
            "Epoch 138/200\n",
            " - 0s - loss: 3.3855 - mean_absolute_error: 1.2424 - val_loss: 7.9021 - val_mean_absolute_error: 2.0045\n",
            "Epoch 139/200\n",
            " - 0s - loss: 3.2545 - mean_absolute_error: 1.2514 - val_loss: 8.9289 - val_mean_absolute_error: 2.1223\n",
            "Epoch 140/200\n",
            " - 0s - loss: 3.5790 - mean_absolute_error: 1.3225 - val_loss: 7.9869 - val_mean_absolute_error: 2.0262\n",
            "Epoch 141/200\n",
            " - 0s - loss: 3.5373 - mean_absolute_error: 1.2846 - val_loss: 7.7806 - val_mean_absolute_error: 2.0175\n",
            "Epoch 142/200\n",
            " - 0s - loss: 3.5505 - mean_absolute_error: 1.2607 - val_loss: 8.7854 - val_mean_absolute_error: 2.0931\n",
            "Epoch 143/200\n",
            " - 0s - loss: 3.2251 - mean_absolute_error: 1.2375 - val_loss: 9.4496 - val_mean_absolute_error: 2.2402\n",
            "Epoch 144/200\n",
            " - 0s - loss: 3.3569 - mean_absolute_error: 1.3159 - val_loss: 7.8012 - val_mean_absolute_error: 1.9312\n",
            "Epoch 145/200\n",
            " - 0s - loss: 3.4208 - mean_absolute_error: 1.2584 - val_loss: 9.7789 - val_mean_absolute_error: 2.3330\n",
            "Epoch 146/200\n",
            " - 0s - loss: 3.3695 - mean_absolute_error: 1.2533 - val_loss: 8.5328 - val_mean_absolute_error: 2.1878\n",
            "Epoch 147/200\n",
            " - 0s - loss: 3.1023 - mean_absolute_error: 1.2508 - val_loss: 11.7546 - val_mean_absolute_error: 2.4280\n",
            "Epoch 148/200\n",
            " - 0s - loss: 3.2529 - mean_absolute_error: 1.2241 - val_loss: 9.2426 - val_mean_absolute_error: 2.1840\n",
            "Epoch 149/200\n",
            " - 0s - loss: 3.4140 - mean_absolute_error: 1.2384 - val_loss: 9.0507 - val_mean_absolute_error: 2.2221\n",
            "Epoch 150/200\n",
            " - 0s - loss: 3.3460 - mean_absolute_error: 1.2415 - val_loss: 9.1203 - val_mean_absolute_error: 2.1691\n",
            "Epoch 151/200\n",
            " - 0s - loss: 3.2673 - mean_absolute_error: 1.2754 - val_loss: 10.1279 - val_mean_absolute_error: 2.3756\n",
            "Epoch 152/200\n",
            " - 0s - loss: 3.1600 - mean_absolute_error: 1.2259 - val_loss: 9.7596 - val_mean_absolute_error: 2.4141\n",
            "Epoch 153/200\n",
            " - 0s - loss: 3.2834 - mean_absolute_error: 1.2433 - val_loss: 10.1571 - val_mean_absolute_error: 2.3039\n",
            "Epoch 154/200\n",
            " - 0s - loss: 3.0370 - mean_absolute_error: 1.2697 - val_loss: 8.9683 - val_mean_absolute_error: 2.1893\n",
            "Epoch 155/200\n",
            " - 0s - loss: 3.1000 - mean_absolute_error: 1.2350 - val_loss: 9.3400 - val_mean_absolute_error: 2.2406\n",
            "Epoch 156/200\n",
            " - 0s - loss: 3.1526 - mean_absolute_error: 1.2968 - val_loss: 9.1243 - val_mean_absolute_error: 2.2370\n",
            "Epoch 157/200\n",
            " - 0s - loss: 2.9740 - mean_absolute_error: 1.1770 - val_loss: 8.2635 - val_mean_absolute_error: 2.1519\n",
            "Epoch 158/200\n",
            " - 0s - loss: 3.0671 - mean_absolute_error: 1.1957 - val_loss: 9.7609 - val_mean_absolute_error: 2.2443\n",
            "Epoch 159/200\n",
            " - 0s - loss: 3.0453 - mean_absolute_error: 1.2392 - val_loss: 14.9446 - val_mean_absolute_error: 2.9275\n",
            "Epoch 160/200\n",
            " - 0s - loss: 2.7182 - mean_absolute_error: 1.1745 - val_loss: 9.0373 - val_mean_absolute_error: 2.2224\n",
            "Epoch 161/200\n",
            " - 0s - loss: 2.8707 - mean_absolute_error: 1.2579 - val_loss: 8.0460 - val_mean_absolute_error: 2.0267\n",
            "Epoch 162/200\n",
            " - 0s - loss: 2.8827 - mean_absolute_error: 1.2299 - val_loss: 8.6897 - val_mean_absolute_error: 2.1591\n",
            "Epoch 163/200\n",
            " - 0s - loss: 3.0858 - mean_absolute_error: 1.1575 - val_loss: 8.8394 - val_mean_absolute_error: 2.1526\n",
            "Epoch 164/200\n",
            " - 0s - loss: 2.5656 - mean_absolute_error: 1.1412 - val_loss: 9.8900 - val_mean_absolute_error: 2.2989\n",
            "Epoch 165/200\n",
            " - 0s - loss: 2.4101 - mean_absolute_error: 1.1647 - val_loss: 8.4035 - val_mean_absolute_error: 2.1555\n",
            "Epoch 166/200\n",
            " - 0s - loss: 2.9239 - mean_absolute_error: 1.1843 - val_loss: 8.4024 - val_mean_absolute_error: 2.1086\n",
            "Epoch 167/200\n",
            " - 0s - loss: 2.7871 - mean_absolute_error: 1.1746 - val_loss: 10.0284 - val_mean_absolute_error: 2.3729\n",
            "Epoch 168/200\n",
            " - 0s - loss: 2.9027 - mean_absolute_error: 1.2304 - val_loss: 9.0862 - val_mean_absolute_error: 2.1900\n",
            "Epoch 169/200\n",
            " - 0s - loss: 2.9636 - mean_absolute_error: 1.2166 - val_loss: 8.5449 - val_mean_absolute_error: 2.1383\n",
            "Epoch 170/200\n",
            " - 0s - loss: 2.5929 - mean_absolute_error: 1.1623 - val_loss: 8.1138 - val_mean_absolute_error: 2.0543\n",
            "Epoch 171/200\n",
            " - 0s - loss: 2.6867 - mean_absolute_error: 1.1277 - val_loss: 9.7660 - val_mean_absolute_error: 2.3321\n",
            "Epoch 172/200\n",
            " - 0s - loss: 2.7952 - mean_absolute_error: 1.1715 - val_loss: 9.1500 - val_mean_absolute_error: 2.1097\n",
            "Epoch 173/200\n",
            " - 0s - loss: 2.7376 - mean_absolute_error: 1.1143 - val_loss: 11.3699 - val_mean_absolute_error: 2.4563\n",
            "Epoch 174/200\n",
            " - 0s - loss: 2.6763 - mean_absolute_error: 1.1373 - val_loss: 10.9812 - val_mean_absolute_error: 2.3452\n",
            "Epoch 175/200\n",
            " - 0s - loss: 2.7555 - mean_absolute_error: 1.1754 - val_loss: 9.8230 - val_mean_absolute_error: 2.2644\n",
            "Epoch 176/200\n",
            " - 0s - loss: 2.7468 - mean_absolute_error: 1.1687 - val_loss: 8.5531 - val_mean_absolute_error: 2.1803\n",
            "Epoch 177/200\n",
            " - 0s - loss: 2.9254 - mean_absolute_error: 1.2019 - val_loss: 8.3220 - val_mean_absolute_error: 2.1605\n",
            "Epoch 178/200\n",
            " - 0s - loss: 2.6300 - mean_absolute_error: 1.1721 - val_loss: 8.5088 - val_mean_absolute_error: 2.1618\n",
            "Epoch 179/200\n",
            " - 0s - loss: 2.8186 - mean_absolute_error: 1.1781 - val_loss: 9.6143 - val_mean_absolute_error: 2.2762\n",
            "Epoch 180/200\n",
            " - 0s - loss: 2.7980 - mean_absolute_error: 1.2281 - val_loss: 9.0900 - val_mean_absolute_error: 2.1622\n",
            "Epoch 181/200\n",
            " - 0s - loss: 2.5240 - mean_absolute_error: 1.1513 - val_loss: 10.0892 - val_mean_absolute_error: 2.2238\n",
            "Epoch 182/200\n",
            " - 0s - loss: 2.6370 - mean_absolute_error: 1.1689 - val_loss: 8.7163 - val_mean_absolute_error: 2.1436\n",
            "Epoch 183/200\n",
            " - 0s - loss: 2.6064 - mean_absolute_error: 1.1513 - val_loss: 9.0333 - val_mean_absolute_error: 2.2511\n",
            "Epoch 184/200\n",
            " - 0s - loss: 2.4265 - mean_absolute_error: 1.1337 - val_loss: 7.6575 - val_mean_absolute_error: 2.0337\n",
            "Epoch 185/200\n",
            " - 0s - loss: 2.8764 - mean_absolute_error: 1.1955 - val_loss: 9.4183 - val_mean_absolute_error: 2.2556\n",
            "Epoch 186/200\n",
            " - 0s - loss: 2.5199 - mean_absolute_error: 1.1183 - val_loss: 8.7644 - val_mean_absolute_error: 2.2241\n",
            "Epoch 187/200\n",
            " - 0s - loss: 2.4318 - mean_absolute_error: 1.1087 - val_loss: 9.0283 - val_mean_absolute_error: 2.1794\n",
            "Epoch 188/200\n",
            " - 0s - loss: 2.4940 - mean_absolute_error: 1.1060 - val_loss: 8.4552 - val_mean_absolute_error: 2.0980\n",
            "Epoch 189/200\n",
            " - 0s - loss: 2.6897 - mean_absolute_error: 1.1505 - val_loss: 8.3283 - val_mean_absolute_error: 2.1538\n",
            "Epoch 190/200\n",
            " - 0s - loss: 2.2371 - mean_absolute_error: 1.0841 - val_loss: 8.9701 - val_mean_absolute_error: 2.3298\n",
            "Epoch 191/200\n",
            " - 0s - loss: 2.7267 - mean_absolute_error: 1.1474 - val_loss: 9.8391 - val_mean_absolute_error: 2.1536\n",
            "Epoch 192/200\n",
            " - 0s - loss: 2.6491 - mean_absolute_error: 1.1926 - val_loss: 9.3888 - val_mean_absolute_error: 2.2692\n",
            "Epoch 193/200\n",
            " - 0s - loss: 2.2561 - mean_absolute_error: 1.0898 - val_loss: 10.7470 - val_mean_absolute_error: 2.4375\n",
            "Epoch 194/200\n",
            " - 0s - loss: 2.4417 - mean_absolute_error: 1.1277 - val_loss: 10.2792 - val_mean_absolute_error: 2.3363\n",
            "Epoch 195/200\n",
            " - 0s - loss: 2.5571 - mean_absolute_error: 1.1319 - val_loss: 11.0034 - val_mean_absolute_error: 2.4650\n",
            "Epoch 196/200\n",
            " - 0s - loss: 2.5249 - mean_absolute_error: 1.1611 - val_loss: 10.7079 - val_mean_absolute_error: 2.3893\n",
            "Epoch 197/200\n",
            " - 0s - loss: 2.5448 - mean_absolute_error: 1.1717 - val_loss: 10.0505 - val_mean_absolute_error: 2.3884\n",
            "Epoch 198/200\n",
            " - 0s - loss: 2.4584 - mean_absolute_error: 1.0788 - val_loss: 9.4043 - val_mean_absolute_error: 2.2903\n",
            "Epoch 199/200\n",
            " - 0s - loss: 2.6267 - mean_absolute_error: 1.1103 - val_loss: 8.6169 - val_mean_absolute_error: 2.2140\n",
            "Epoch 200/200\n",
            " - 0s - loss: 2.3057 - mean_absolute_error: 1.1020 - val_loss: 10.8608 - val_mean_absolute_error: 2.4571\n",
            "processing fold # 1\n",
            "Train on 303 samples, validate on 101 samples\n",
            "Epoch 1/200\n",
            " - 0s - loss: 183.1043 - mean_absolute_error: 10.1869 - val_loss: 34.8755 - val_mean_absolute_error: 4.3725\n",
            "Epoch 2/200\n",
            " - 0s - loss: 26.8823 - mean_absolute_error: 3.3829 - val_loss: 18.8109 - val_mean_absolute_error: 3.1810\n",
            "Epoch 3/200\n",
            " - 0s - loss: 17.4939 - mean_absolute_error: 2.8159 - val_loss: 16.7447 - val_mean_absolute_error: 3.0095\n",
            "Epoch 4/200\n",
            " - 0s - loss: 15.4134 - mean_absolute_error: 2.5772 - val_loss: 15.2503 - val_mean_absolute_error: 2.9534\n",
            "Epoch 5/200\n",
            " - 0s - loss: 12.9379 - mean_absolute_error: 2.5024 - val_loss: 14.0719 - val_mean_absolute_error: 2.9044\n",
            "Epoch 6/200\n",
            " - 0s - loss: 12.2191 - mean_absolute_error: 2.3532 - val_loss: 12.9819 - val_mean_absolute_error: 2.7707\n",
            "Epoch 7/200\n",
            " - 0s - loss: 11.3749 - mean_absolute_error: 2.3328 - val_loss: 13.4667 - val_mean_absolute_error: 2.7696\n",
            "Epoch 8/200\n",
            " - 0s - loss: 11.1635 - mean_absolute_error: 2.2686 - val_loss: 11.0477 - val_mean_absolute_error: 2.5337\n",
            "Epoch 9/200\n",
            " - 0s - loss: 10.7815 - mean_absolute_error: 2.2585 - val_loss: 11.2911 - val_mean_absolute_error: 2.5701\n",
            "Epoch 10/200\n",
            " - 0s - loss: 10.4182 - mean_absolute_error: 2.1750 - val_loss: 13.2907 - val_mean_absolute_error: 2.8716\n",
            "Epoch 11/200\n",
            " - 0s - loss: 10.1122 - mean_absolute_error: 2.1728 - val_loss: 12.8104 - val_mean_absolute_error: 2.7992\n",
            "Epoch 12/200\n",
            " - 0s - loss: 9.9388 - mean_absolute_error: 2.1042 - val_loss: 10.4421 - val_mean_absolute_error: 2.5097\n",
            "Epoch 13/200\n",
            " - 0s - loss: 9.6897 - mean_absolute_error: 2.0885 - val_loss: 9.6838 - val_mean_absolute_error: 2.4107\n",
            "Epoch 14/200\n",
            " - 0s - loss: 9.4511 - mean_absolute_error: 2.0903 - val_loss: 11.7815 - val_mean_absolute_error: 2.6968\n",
            "Epoch 15/200\n",
            " - 0s - loss: 9.1686 - mean_absolute_error: 1.9936 - val_loss: 9.6595 - val_mean_absolute_error: 2.3746\n",
            "Epoch 16/200\n",
            " - 0s - loss: 8.9765 - mean_absolute_error: 2.0231 - val_loss: 11.3840 - val_mean_absolute_error: 2.5816\n",
            "Epoch 17/200\n",
            " - 0s - loss: 8.8540 - mean_absolute_error: 2.0044 - val_loss: 11.4765 - val_mean_absolute_error: 2.6536\n",
            "Epoch 18/200\n",
            " - 0s - loss: 8.6470 - mean_absolute_error: 1.9944 - val_loss: 10.9078 - val_mean_absolute_error: 2.5524\n",
            "Epoch 19/200\n",
            " - 0s - loss: 8.9659 - mean_absolute_error: 1.8825 - val_loss: 10.5229 - val_mean_absolute_error: 2.4871\n",
            "Epoch 20/200\n",
            " - 0s - loss: 8.7927 - mean_absolute_error: 1.9485 - val_loss: 9.9141 - val_mean_absolute_error: 2.4607\n",
            "Epoch 21/200\n",
            " - 0s - loss: 8.7276 - mean_absolute_error: 1.9668 - val_loss: 9.3179 - val_mean_absolute_error: 2.3123\n",
            "Epoch 22/200\n",
            " - 0s - loss: 8.5895 - mean_absolute_error: 1.9058 - val_loss: 9.4262 - val_mean_absolute_error: 2.4045\n",
            "Epoch 23/200\n",
            " - 0s - loss: 7.7943 - mean_absolute_error: 1.8905 - val_loss: 10.6681 - val_mean_absolute_error: 2.5219\n",
            "Epoch 24/200\n",
            " - 0s - loss: 8.2975 - mean_absolute_error: 1.8491 - val_loss: 8.6918 - val_mean_absolute_error: 2.2105\n",
            "Epoch 25/200\n",
            " - 0s - loss: 8.3006 - mean_absolute_error: 1.7855 - val_loss: 8.9207 - val_mean_absolute_error: 2.2780\n",
            "Epoch 26/200\n",
            " - 0s - loss: 7.7410 - mean_absolute_error: 1.8772 - val_loss: 11.0455 - val_mean_absolute_error: 2.6208\n",
            "Epoch 27/200\n",
            " - 0s - loss: 8.2161 - mean_absolute_error: 1.8495 - val_loss: 9.2181 - val_mean_absolute_error: 2.4033\n",
            "Epoch 28/200\n",
            " - 0s - loss: 7.7893 - mean_absolute_error: 1.8207 - val_loss: 8.8041 - val_mean_absolute_error: 2.2960\n",
            "Epoch 29/200\n",
            " - 0s - loss: 7.7084 - mean_absolute_error: 1.8402 - val_loss: 9.2036 - val_mean_absolute_error: 2.2802\n",
            "Epoch 30/200\n",
            " - 0s - loss: 7.5141 - mean_absolute_error: 1.8297 - val_loss: 9.5954 - val_mean_absolute_error: 2.3886\n",
            "Epoch 31/200\n",
            " - 0s - loss: 7.5018 - mean_absolute_error: 1.8205 - val_loss: 9.1903 - val_mean_absolute_error: 2.3774\n",
            "Epoch 32/200\n",
            " - 0s - loss: 7.2746 - mean_absolute_error: 1.7924 - val_loss: 9.1131 - val_mean_absolute_error: 2.3206\n",
            "Epoch 33/200\n",
            " - 0s - loss: 7.4464 - mean_absolute_error: 1.7735 - val_loss: 9.5260 - val_mean_absolute_error: 2.4406\n",
            "Epoch 34/200\n",
            " - 0s - loss: 6.7206 - mean_absolute_error: 1.7547 - val_loss: 9.0167 - val_mean_absolute_error: 2.2407\n",
            "Epoch 35/200\n",
            " - 0s - loss: 7.0030 - mean_absolute_error: 1.8311 - val_loss: 11.0676 - val_mean_absolute_error: 2.6234\n",
            "Epoch 36/200\n",
            " - 0s - loss: 6.9500 - mean_absolute_error: 1.7547 - val_loss: 9.0009 - val_mean_absolute_error: 2.3657\n",
            "Epoch 37/200\n",
            " - 0s - loss: 7.0949 - mean_absolute_error: 1.7912 - val_loss: 8.4785 - val_mean_absolute_error: 2.2415\n",
            "Epoch 38/200\n",
            " - 0s - loss: 6.9873 - mean_absolute_error: 1.7833 - val_loss: 8.4866 - val_mean_absolute_error: 2.2367\n",
            "Epoch 39/200\n",
            " - 0s - loss: 6.8302 - mean_absolute_error: 1.7228 - val_loss: 9.4130 - val_mean_absolute_error: 2.3940\n",
            "Epoch 40/200\n",
            " - 0s - loss: 7.0453 - mean_absolute_error: 1.7517 - val_loss: 12.1311 - val_mean_absolute_error: 2.7427\n",
            "Epoch 41/200\n",
            " - 0s - loss: 7.0278 - mean_absolute_error: 1.7506 - val_loss: 8.4093 - val_mean_absolute_error: 2.2446\n",
            "Epoch 42/200\n",
            " - 0s - loss: 6.3092 - mean_absolute_error: 1.6250 - val_loss: 10.0830 - val_mean_absolute_error: 2.4056\n",
            "Epoch 43/200\n",
            " - 0s - loss: 6.2749 - mean_absolute_error: 1.7381 - val_loss: 9.1951 - val_mean_absolute_error: 2.3760\n",
            "Epoch 44/200\n",
            " - 0s - loss: 6.1599 - mean_absolute_error: 1.6606 - val_loss: 9.2275 - val_mean_absolute_error: 2.3042\n",
            "Epoch 45/200\n",
            " - 0s - loss: 6.2618 - mean_absolute_error: 1.6902 - val_loss: 9.6676 - val_mean_absolute_error: 2.3904\n",
            "Epoch 46/200\n",
            " - 0s - loss: 6.5254 - mean_absolute_error: 1.6706 - val_loss: 8.4710 - val_mean_absolute_error: 2.2983\n",
            "Epoch 47/200\n",
            " - 0s - loss: 6.4474 - mean_absolute_error: 1.6446 - val_loss: 11.4195 - val_mean_absolute_error: 2.6613\n",
            "Epoch 48/200\n",
            " - 0s - loss: 6.0124 - mean_absolute_error: 1.6190 - val_loss: 8.9100 - val_mean_absolute_error: 2.3384\n",
            "Epoch 49/200\n",
            " - 0s - loss: 5.9092 - mean_absolute_error: 1.6312 - val_loss: 9.3426 - val_mean_absolute_error: 2.2908\n",
            "Epoch 50/200\n",
            " - 0s - loss: 5.7350 - mean_absolute_error: 1.5905 - val_loss: 9.5645 - val_mean_absolute_error: 2.4091\n",
            "Epoch 51/200\n",
            " - 0s - loss: 5.7720 - mean_absolute_error: 1.6365 - val_loss: 9.8702 - val_mean_absolute_error: 2.3955\n",
            "Epoch 52/200\n",
            " - 0s - loss: 6.5947 - mean_absolute_error: 1.6464 - val_loss: 9.9911 - val_mean_absolute_error: 2.5508\n",
            "Epoch 53/200\n",
            " - 0s - loss: 6.0855 - mean_absolute_error: 1.5717 - val_loss: 9.4343 - val_mean_absolute_error: 2.3438\n",
            "Epoch 54/200\n",
            " - 0s - loss: 5.9326 - mean_absolute_error: 1.5259 - val_loss: 11.1251 - val_mean_absolute_error: 2.6089\n",
            "Epoch 55/200\n",
            " - 0s - loss: 5.7447 - mean_absolute_error: 1.5713 - val_loss: 11.3930 - val_mean_absolute_error: 2.4845\n",
            "Epoch 56/200\n",
            " - 0s - loss: 6.0283 - mean_absolute_error: 1.6181 - val_loss: 8.5996 - val_mean_absolute_error: 2.3061\n",
            "Epoch 57/200\n",
            " - 0s - loss: 5.9677 - mean_absolute_error: 1.6094 - val_loss: 9.3552 - val_mean_absolute_error: 2.4100\n",
            "Epoch 58/200\n",
            " - 0s - loss: 5.4602 - mean_absolute_error: 1.5540 - val_loss: 10.6439 - val_mean_absolute_error: 2.5638\n",
            "Epoch 59/200\n",
            " - 0s - loss: 5.8675 - mean_absolute_error: 1.5794 - val_loss: 8.9407 - val_mean_absolute_error: 2.2899\n",
            "Epoch 60/200\n",
            " - 0s - loss: 5.7312 - mean_absolute_error: 1.5878 - val_loss: 9.2068 - val_mean_absolute_error: 2.3115\n",
            "Epoch 61/200\n",
            " - 0s - loss: 5.3469 - mean_absolute_error: 1.4965 - val_loss: 9.9058 - val_mean_absolute_error: 2.5155\n",
            "Epoch 62/200\n",
            " - 0s - loss: 5.3678 - mean_absolute_error: 1.5582 - val_loss: 9.1354 - val_mean_absolute_error: 2.3257\n",
            "Epoch 63/200\n",
            " - 0s - loss: 5.2175 - mean_absolute_error: 1.5571 - val_loss: 10.0649 - val_mean_absolute_error: 2.3561\n",
            "Epoch 64/200\n",
            " - 0s - loss: 5.7122 - mean_absolute_error: 1.5198 - val_loss: 9.5824 - val_mean_absolute_error: 2.2683\n",
            "Epoch 65/200\n",
            " - 0s - loss: 5.4897 - mean_absolute_error: 1.5362 - val_loss: 9.4496 - val_mean_absolute_error: 2.2706\n",
            "Epoch 66/200\n",
            " - 0s - loss: 5.4400 - mean_absolute_error: 1.5334 - val_loss: 9.5821 - val_mean_absolute_error: 2.3387\n",
            "Epoch 67/200\n",
            " - 0s - loss: 5.2562 - mean_absolute_error: 1.5107 - val_loss: 10.3608 - val_mean_absolute_error: 2.5003\n",
            "Epoch 68/200\n",
            " - 0s - loss: 5.3081 - mean_absolute_error: 1.5226 - val_loss: 9.1651 - val_mean_absolute_error: 2.2727\n",
            "Epoch 69/200\n",
            " - 0s - loss: 5.0785 - mean_absolute_error: 1.4931 - val_loss: 10.1123 - val_mean_absolute_error: 2.3538\n",
            "Epoch 70/200\n",
            " - 0s - loss: 5.4454 - mean_absolute_error: 1.4762 - val_loss: 10.7608 - val_mean_absolute_error: 2.4063\n",
            "Epoch 71/200\n",
            " - 0s - loss: 5.3023 - mean_absolute_error: 1.4852 - val_loss: 14.4432 - val_mean_absolute_error: 2.6827\n",
            "Epoch 72/200\n",
            " - 0s - loss: 5.0405 - mean_absolute_error: 1.5417 - val_loss: 10.0249 - val_mean_absolute_error: 2.3959\n",
            "Epoch 73/200\n",
            " - 0s - loss: 4.5866 - mean_absolute_error: 1.4589 - val_loss: 13.4973 - val_mean_absolute_error: 2.6277\n",
            "Epoch 74/200\n",
            " - 0s - loss: 4.8424 - mean_absolute_error: 1.5079 - val_loss: 10.9130 - val_mean_absolute_error: 2.4514\n",
            "Epoch 75/200\n",
            " - 0s - loss: 4.7043 - mean_absolute_error: 1.4445 - val_loss: 11.4357 - val_mean_absolute_error: 2.3725\n",
            "Epoch 76/200\n",
            " - 0s - loss: 4.6585 - mean_absolute_error: 1.4799 - val_loss: 12.7728 - val_mean_absolute_error: 2.6218\n",
            "Epoch 77/200\n",
            " - 0s - loss: 5.0612 - mean_absolute_error: 1.4492 - val_loss: 11.1853 - val_mean_absolute_error: 2.3953\n",
            "Epoch 78/200\n",
            " - 0s - loss: 5.1896 - mean_absolute_error: 1.4749 - val_loss: 9.9206 - val_mean_absolute_error: 2.3227\n",
            "Epoch 79/200\n",
            " - 0s - loss: 5.0268 - mean_absolute_error: 1.4232 - val_loss: 9.5014 - val_mean_absolute_error: 2.3413\n",
            "Epoch 80/200\n",
            " - 0s - loss: 4.7812 - mean_absolute_error: 1.4673 - val_loss: 10.1779 - val_mean_absolute_error: 2.3931\n",
            "Epoch 81/200\n",
            " - 0s - loss: 4.9751 - mean_absolute_error: 1.4751 - val_loss: 9.6015 - val_mean_absolute_error: 2.3778\n",
            "Epoch 82/200\n",
            " - 0s - loss: 4.8970 - mean_absolute_error: 1.4627 - val_loss: 12.6462 - val_mean_absolute_error: 2.5608\n",
            "Epoch 83/200\n",
            " - 0s - loss: 4.5748 - mean_absolute_error: 1.4405 - val_loss: 11.4201 - val_mean_absolute_error: 2.3665\n",
            "Epoch 84/200\n",
            " - 0s - loss: 4.6822 - mean_absolute_error: 1.4070 - val_loss: 17.0851 - val_mean_absolute_error: 2.9702\n",
            "Epoch 85/200\n",
            " - 0s - loss: 4.9331 - mean_absolute_error: 1.5072 - val_loss: 13.8751 - val_mean_absolute_error: 2.5918\n",
            "Epoch 86/200\n",
            " - 0s - loss: 4.3473 - mean_absolute_error: 1.3778 - val_loss: 12.4363 - val_mean_absolute_error: 2.6571\n",
            "Epoch 87/200\n",
            " - 0s - loss: 4.6908 - mean_absolute_error: 1.4524 - val_loss: 9.4182 - val_mean_absolute_error: 2.2382\n",
            "Epoch 88/200\n",
            " - 0s - loss: 4.3366 - mean_absolute_error: 1.3510 - val_loss: 11.7838 - val_mean_absolute_error: 2.4108\n",
            "Epoch 89/200\n",
            " - 0s - loss: 4.6088 - mean_absolute_error: 1.3988 - val_loss: 16.3713 - val_mean_absolute_error: 2.7594\n",
            "Epoch 90/200\n",
            " - 0s - loss: 4.6063 - mean_absolute_error: 1.4454 - val_loss: 9.8533 - val_mean_absolute_error: 2.2696\n",
            "Epoch 91/200\n",
            " - 0s - loss: 4.1697 - mean_absolute_error: 1.3784 - val_loss: 12.0797 - val_mean_absolute_error: 2.4244\n",
            "Epoch 92/200\n",
            " - 0s - loss: 4.1963 - mean_absolute_error: 1.3566 - val_loss: 12.1158 - val_mean_absolute_error: 2.4057\n",
            "Epoch 93/200\n",
            " - 0s - loss: 4.2135 - mean_absolute_error: 1.3250 - val_loss: 16.4746 - val_mean_absolute_error: 2.7641\n",
            "Epoch 94/200\n",
            " - 0s - loss: 4.0903 - mean_absolute_error: 1.4065 - val_loss: 17.5709 - val_mean_absolute_error: 2.9865\n",
            "Epoch 95/200\n",
            " - 0s - loss: 4.5604 - mean_absolute_error: 1.3792 - val_loss: 15.7865 - val_mean_absolute_error: 2.8018\n",
            "Epoch 96/200\n",
            " - 0s - loss: 4.1632 - mean_absolute_error: 1.3577 - val_loss: 12.1969 - val_mean_absolute_error: 2.4525\n",
            "Epoch 97/200\n",
            " - 0s - loss: 4.1284 - mean_absolute_error: 1.3554 - val_loss: 14.1536 - val_mean_absolute_error: 2.7284\n",
            "Epoch 98/200\n",
            " - 0s - loss: 4.3327 - mean_absolute_error: 1.3424 - val_loss: 13.2942 - val_mean_absolute_error: 2.4902\n",
            "Epoch 99/200\n",
            " - 0s - loss: 3.6906 - mean_absolute_error: 1.2909 - val_loss: 12.7776 - val_mean_absolute_error: 2.4785\n",
            "Epoch 100/200\n",
            " - 0s - loss: 4.1534 - mean_absolute_error: 1.2958 - val_loss: 14.5040 - val_mean_absolute_error: 2.5705\n",
            "Epoch 101/200\n",
            " - 0s - loss: 4.2372 - mean_absolute_error: 1.3397 - val_loss: 16.9398 - val_mean_absolute_error: 2.6832\n",
            "Epoch 102/200\n",
            " - 0s - loss: 4.1266 - mean_absolute_error: 1.3663 - val_loss: 15.4062 - val_mean_absolute_error: 2.5808\n",
            "Epoch 103/200\n",
            " - 0s - loss: 3.8360 - mean_absolute_error: 1.3207 - val_loss: 13.1521 - val_mean_absolute_error: 2.4647\n",
            "Epoch 104/200\n",
            " - 0s - loss: 3.9236 - mean_absolute_error: 1.2820 - val_loss: 16.9960 - val_mean_absolute_error: 2.7574\n",
            "Epoch 105/200\n",
            " - 0s - loss: 3.7823 - mean_absolute_error: 1.2773 - val_loss: 14.7087 - val_mean_absolute_error: 2.8019\n",
            "Epoch 106/200\n",
            " - 0s - loss: 3.6273 - mean_absolute_error: 1.3214 - val_loss: 14.6828 - val_mean_absolute_error: 2.6685\n",
            "Epoch 107/200\n",
            " - 0s - loss: 4.0645 - mean_absolute_error: 1.3497 - val_loss: 16.3927 - val_mean_absolute_error: 2.6524\n",
            "Epoch 108/200\n",
            " - 0s - loss: 3.9340 - mean_absolute_error: 1.3430 - val_loss: 15.5280 - val_mean_absolute_error: 2.6820\n",
            "Epoch 109/200\n",
            " - 0s - loss: 3.9075 - mean_absolute_error: 1.3072 - val_loss: 13.4939 - val_mean_absolute_error: 2.4453\n",
            "Epoch 110/200\n",
            " - 0s - loss: 3.9702 - mean_absolute_error: 1.2976 - val_loss: 16.1704 - val_mean_absolute_error: 2.6203\n",
            "Epoch 111/200\n",
            " - 0s - loss: 3.6464 - mean_absolute_error: 1.3084 - val_loss: 13.1351 - val_mean_absolute_error: 2.4756\n",
            "Epoch 112/200\n",
            " - 0s - loss: 3.7304 - mean_absolute_error: 1.2957 - val_loss: 12.7009 - val_mean_absolute_error: 2.4749\n",
            "Epoch 113/200\n",
            " - 0s - loss: 3.6438 - mean_absolute_error: 1.3028 - val_loss: 12.9167 - val_mean_absolute_error: 2.4815\n",
            "Epoch 114/200\n",
            " - 0s - loss: 3.5986 - mean_absolute_error: 1.2946 - val_loss: 13.3728 - val_mean_absolute_error: 2.4598\n",
            "Epoch 115/200\n",
            " - 0s - loss: 3.6428 - mean_absolute_error: 1.2419 - val_loss: 17.6969 - val_mean_absolute_error: 2.7843\n",
            "Epoch 116/200\n",
            " - 0s - loss: 3.7765 - mean_absolute_error: 1.2755 - val_loss: 19.8067 - val_mean_absolute_error: 2.9195\n",
            "Epoch 117/200\n",
            " - 0s - loss: 3.7562 - mean_absolute_error: 1.3132 - val_loss: 18.7868 - val_mean_absolute_error: 2.8562\n",
            "Epoch 118/200\n",
            " - 0s - loss: 3.3212 - mean_absolute_error: 1.2793 - val_loss: 15.1412 - val_mean_absolute_error: 2.5314\n",
            "Epoch 119/200\n",
            " - 0s - loss: 3.2704 - mean_absolute_error: 1.2442 - val_loss: 14.2225 - val_mean_absolute_error: 2.5347\n",
            "Epoch 120/200\n",
            " - 0s - loss: 3.4303 - mean_absolute_error: 1.2771 - val_loss: 17.7988 - val_mean_absolute_error: 2.7652\n",
            "Epoch 121/200\n",
            " - 0s - loss: 3.5605 - mean_absolute_error: 1.2735 - val_loss: 20.9479 - val_mean_absolute_error: 2.9734\n",
            "Epoch 122/200\n",
            " - 0s - loss: 3.2833 - mean_absolute_error: 1.2639 - val_loss: 16.5559 - val_mean_absolute_error: 2.6415\n",
            "Epoch 123/200\n",
            " - 0s - loss: 3.1306 - mean_absolute_error: 1.2512 - val_loss: 17.6762 - val_mean_absolute_error: 2.7724\n",
            "Epoch 124/200\n",
            " - 0s - loss: 3.4764 - mean_absolute_error: 1.2614 - val_loss: 17.5812 - val_mean_absolute_error: 2.8217\n",
            "Epoch 125/200\n",
            " - 0s - loss: 3.2548 - mean_absolute_error: 1.2252 - val_loss: 15.9088 - val_mean_absolute_error: 2.5566\n",
            "Epoch 126/200\n",
            " - 0s - loss: 3.1711 - mean_absolute_error: 1.1951 - val_loss: 13.3936 - val_mean_absolute_error: 2.5262\n",
            "Epoch 127/200\n",
            " - 0s - loss: 3.3608 - mean_absolute_error: 1.2397 - val_loss: 14.5618 - val_mean_absolute_error: 2.4626\n",
            "Epoch 128/200\n",
            " - 0s - loss: 3.1169 - mean_absolute_error: 1.2607 - val_loss: 14.9999 - val_mean_absolute_error: 2.4973\n",
            "Epoch 129/200\n",
            " - 0s - loss: 3.3430 - mean_absolute_error: 1.2094 - val_loss: 17.5225 - val_mean_absolute_error: 2.7589\n",
            "Epoch 130/200\n",
            " - 0s - loss: 3.3695 - mean_absolute_error: 1.2572 - val_loss: 18.2155 - val_mean_absolute_error: 2.8405\n",
            "Epoch 131/200\n",
            " - 0s - loss: 3.1217 - mean_absolute_error: 1.2282 - val_loss: 17.0639 - val_mean_absolute_error: 2.7090\n",
            "Epoch 132/200\n",
            " - 0s - loss: 3.0741 - mean_absolute_error: 1.1804 - val_loss: 16.9638 - val_mean_absolute_error: 2.6922\n",
            "Epoch 133/200\n",
            " - 0s - loss: 3.1098 - mean_absolute_error: 1.2036 - val_loss: 19.9607 - val_mean_absolute_error: 2.7641\n",
            "Epoch 134/200\n",
            " - 0s - loss: 2.7521 - mean_absolute_error: 1.1835 - val_loss: 19.5531 - val_mean_absolute_error: 2.7421\n",
            "Epoch 135/200\n",
            " - 0s - loss: 2.8337 - mean_absolute_error: 1.1701 - val_loss: 18.7141 - val_mean_absolute_error: 2.8809\n",
            "Epoch 136/200\n",
            " - 0s - loss: 2.7428 - mean_absolute_error: 1.1511 - val_loss: 15.0206 - val_mean_absolute_error: 2.5900\n",
            "Epoch 137/200\n",
            " - 0s - loss: 2.9429 - mean_absolute_error: 1.1422 - val_loss: 18.4663 - val_mean_absolute_error: 2.5908\n",
            "Epoch 138/200\n",
            " - 0s - loss: 3.0652 - mean_absolute_error: 1.1929 - val_loss: 20.0035 - val_mean_absolute_error: 2.8231\n",
            "Epoch 139/200\n",
            " - 0s - loss: 2.8147 - mean_absolute_error: 1.1458 - val_loss: 16.6632 - val_mean_absolute_error: 2.7078\n",
            "Epoch 140/200\n",
            " - 0s - loss: 2.8676 - mean_absolute_error: 1.1752 - val_loss: 18.6797 - val_mean_absolute_error: 2.7419\n",
            "Epoch 141/200\n",
            " - 0s - loss: 2.5667 - mean_absolute_error: 1.1477 - val_loss: 17.2548 - val_mean_absolute_error: 2.6787\n",
            "Epoch 142/200\n",
            " - 0s - loss: 3.2129 - mean_absolute_error: 1.2032 - val_loss: 14.1736 - val_mean_absolute_error: 2.4940\n",
            "Epoch 143/200\n",
            " - 0s - loss: 3.1634 - mean_absolute_error: 1.1822 - val_loss: 16.0738 - val_mean_absolute_error: 2.5658\n",
            "Epoch 144/200\n",
            " - 0s - loss: 2.7812 - mean_absolute_error: 1.1472 - val_loss: 18.4726 - val_mean_absolute_error: 2.6234\n",
            "Epoch 145/200\n",
            " - 0s - loss: 2.7231 - mean_absolute_error: 1.1384 - val_loss: 16.9916 - val_mean_absolute_error: 2.6164\n",
            "Epoch 146/200\n",
            " - 0s - loss: 2.6698 - mean_absolute_error: 1.1483 - val_loss: 24.3838 - val_mean_absolute_error: 3.1927\n",
            "Epoch 147/200\n",
            " - 0s - loss: 2.6948 - mean_absolute_error: 1.1693 - val_loss: 21.1599 - val_mean_absolute_error: 2.8675\n",
            "Epoch 148/200\n",
            " - 0s - loss: 2.6656 - mean_absolute_error: 1.1458 - val_loss: 19.4790 - val_mean_absolute_error: 2.7449\n",
            "Epoch 149/200\n",
            " - 0s - loss: 2.9642 - mean_absolute_error: 1.1327 - val_loss: 23.8333 - val_mean_absolute_error: 3.0537\n",
            "Epoch 150/200\n",
            " - 0s - loss: 2.6606 - mean_absolute_error: 1.0917 - val_loss: 24.0076 - val_mean_absolute_error: 3.0012\n",
            "Epoch 151/200\n",
            " - 0s - loss: 2.5727 - mean_absolute_error: 1.1432 - val_loss: 31.8430 - val_mean_absolute_error: 3.6243\n",
            "Epoch 152/200\n",
            " - 0s - loss: 2.7168 - mean_absolute_error: 1.1828 - val_loss: 16.6290 - val_mean_absolute_error: 2.5843\n",
            "Epoch 153/200\n",
            " - 0s - loss: 2.4236 - mean_absolute_error: 1.0336 - val_loss: 23.0635 - val_mean_absolute_error: 2.8551\n",
            "Epoch 154/200\n",
            " - 0s - loss: 2.6833 - mean_absolute_error: 1.1497 - val_loss: 22.2089 - val_mean_absolute_error: 2.9142\n",
            "Epoch 155/200\n",
            " - 0s - loss: 2.5878 - mean_absolute_error: 1.1225 - val_loss: 22.5825 - val_mean_absolute_error: 2.9557\n",
            "Epoch 156/200\n",
            " - 0s - loss: 2.2723 - mean_absolute_error: 1.1219 - val_loss: 18.6431 - val_mean_absolute_error: 2.7808\n",
            "Epoch 157/200\n",
            " - 0s - loss: 2.6952 - mean_absolute_error: 1.1842 - val_loss: 18.7760 - val_mean_absolute_error: 2.7898\n",
            "Epoch 158/200\n",
            " - 0s - loss: 2.5915 - mean_absolute_error: 1.1411 - val_loss: 25.1130 - val_mean_absolute_error: 2.9505\n",
            "Epoch 159/200\n",
            " - 0s - loss: 2.4875 - mean_absolute_error: 1.1354 - val_loss: 18.0779 - val_mean_absolute_error: 2.6662\n",
            "Epoch 160/200\n",
            " - 0s - loss: 2.5633 - mean_absolute_error: 1.1290 - val_loss: 19.4158 - val_mean_absolute_error: 2.7366\n",
            "Epoch 161/200\n",
            " - 0s - loss: 2.4272 - mean_absolute_error: 1.1260 - val_loss: 24.5084 - val_mean_absolute_error: 3.0071\n",
            "Epoch 162/200\n",
            " - 0s - loss: 2.3516 - mean_absolute_error: 1.0921 - val_loss: 16.8120 - val_mean_absolute_error: 2.5464\n",
            "Epoch 163/200\n",
            " - 0s - loss: 2.4967 - mean_absolute_error: 1.0418 - val_loss: 22.1990 - val_mean_absolute_error: 2.8573\n",
            "Epoch 164/200\n",
            " - 0s - loss: 2.5688 - mean_absolute_error: 1.1732 - val_loss: 21.7547 - val_mean_absolute_error: 2.8781\n",
            "Epoch 165/200\n",
            " - 0s - loss: 2.5248 - mean_absolute_error: 1.1472 - val_loss: 23.8971 - val_mean_absolute_error: 3.0006\n",
            "Epoch 166/200\n",
            " - 0s - loss: 2.3734 - mean_absolute_error: 1.1134 - val_loss: 19.2628 - val_mean_absolute_error: 2.6779\n",
            "Epoch 167/200\n",
            " - 0s - loss: 2.6479 - mean_absolute_error: 1.1441 - val_loss: 16.4449 - val_mean_absolute_error: 2.5047\n",
            "Epoch 168/200\n",
            " - 0s - loss: 2.5374 - mean_absolute_error: 1.0978 - val_loss: 24.4670 - val_mean_absolute_error: 2.8626\n",
            "Epoch 169/200\n",
            " - 0s - loss: 2.4715 - mean_absolute_error: 1.1327 - val_loss: 19.0844 - val_mean_absolute_error: 2.6661\n",
            "Epoch 170/200\n",
            " - 0s - loss: 2.4551 - mean_absolute_error: 1.0864 - val_loss: 26.8390 - val_mean_absolute_error: 3.0746\n",
            "Epoch 171/200\n",
            " - 0s - loss: 2.6315 - mean_absolute_error: 1.1268 - val_loss: 19.2785 - val_mean_absolute_error: 2.6678\n",
            "Epoch 172/200\n",
            " - 0s - loss: 2.1676 - mean_absolute_error: 1.0562 - val_loss: 16.2104 - val_mean_absolute_error: 2.4974\n",
            "Epoch 173/200\n",
            " - 0s - loss: 2.2647 - mean_absolute_error: 1.0844 - val_loss: 19.8457 - val_mean_absolute_error: 2.6292\n",
            "Epoch 174/200\n",
            " - 0s - loss: 2.2035 - mean_absolute_error: 1.0287 - val_loss: 27.4530 - val_mean_absolute_error: 2.9735\n",
            "Epoch 175/200\n",
            " - 0s - loss: 2.3404 - mean_absolute_error: 1.0657 - val_loss: 23.8682 - val_mean_absolute_error: 2.8343\n",
            "Epoch 176/200\n",
            " - 0s - loss: 2.2970 - mean_absolute_error: 1.0726 - val_loss: 25.6277 - val_mean_absolute_error: 2.9833\n",
            "Epoch 177/200\n",
            " - 0s - loss: 2.3865 - mean_absolute_error: 1.0292 - val_loss: 18.5757 - val_mean_absolute_error: 2.6156\n",
            "Epoch 178/200\n",
            " - 0s - loss: 2.4210 - mean_absolute_error: 1.0878 - val_loss: 32.1415 - val_mean_absolute_error: 3.5243\n",
            "Epoch 179/200\n",
            " - 0s - loss: 2.4652 - mean_absolute_error: 1.1059 - val_loss: 27.0318 - val_mean_absolute_error: 2.8554\n",
            "Epoch 180/200\n",
            " - 0s - loss: 2.7204 - mean_absolute_error: 1.1387 - val_loss: 26.0199 - val_mean_absolute_error: 2.9052\n",
            "Epoch 181/200\n",
            " - 0s - loss: 2.3139 - mean_absolute_error: 1.0741 - val_loss: 22.9663 - val_mean_absolute_error: 2.9120\n",
            "Epoch 182/200\n",
            " - 0s - loss: 2.2801 - mean_absolute_error: 1.1027 - val_loss: 20.4621 - val_mean_absolute_error: 2.7600\n",
            "Epoch 183/200\n",
            " - 0s - loss: 2.1417 - mean_absolute_error: 1.0361 - val_loss: 21.5704 - val_mean_absolute_error: 2.6231\n",
            "Epoch 184/200\n",
            " - 0s - loss: 2.1930 - mean_absolute_error: 1.0385 - val_loss: 28.8374 - val_mean_absolute_error: 3.0777\n",
            "Epoch 185/200\n",
            " - 0s - loss: 2.3965 - mean_absolute_error: 1.0860 - val_loss: 21.2724 - val_mean_absolute_error: 2.7214\n",
            "Epoch 186/200\n",
            " - 0s - loss: 2.1251 - mean_absolute_error: 1.0438 - val_loss: 24.2734 - val_mean_absolute_error: 2.8290\n",
            "Epoch 187/200\n",
            " - 0s - loss: 2.2506 - mean_absolute_error: 1.0546 - val_loss: 17.4362 - val_mean_absolute_error: 2.6813\n",
            "Epoch 188/200\n",
            " - 0s - loss: 2.4562 - mean_absolute_error: 1.0744 - val_loss: 26.3073 - val_mean_absolute_error: 2.8447\n",
            "Epoch 189/200\n",
            " - 0s - loss: 2.1974 - mean_absolute_error: 1.0346 - val_loss: 23.3830 - val_mean_absolute_error: 2.8150\n",
            "Epoch 190/200\n",
            " - 0s - loss: 2.3586 - mean_absolute_error: 1.0651 - val_loss: 20.7048 - val_mean_absolute_error: 2.5656\n",
            "Epoch 191/200\n",
            " - 0s - loss: 2.3524 - mean_absolute_error: 1.0186 - val_loss: 23.4469 - val_mean_absolute_error: 2.7481\n",
            "Epoch 192/200\n",
            " - 0s - loss: 2.2244 - mean_absolute_error: 1.0555 - val_loss: 18.9745 - val_mean_absolute_error: 2.6689\n",
            "Epoch 193/200\n",
            " - 0s - loss: 2.3715 - mean_absolute_error: 1.0877 - val_loss: 26.0959 - val_mean_absolute_error: 2.9733\n",
            "Epoch 194/200\n",
            " - 0s - loss: 2.1207 - mean_absolute_error: 1.0533 - val_loss: 26.3173 - val_mean_absolute_error: 3.0400\n",
            "Epoch 195/200\n",
            " - 0s - loss: 2.2584 - mean_absolute_error: 1.0515 - val_loss: 25.2822 - val_mean_absolute_error: 3.0603\n",
            "Epoch 196/200\n",
            " - 0s - loss: 2.1148 - mean_absolute_error: 1.0025 - val_loss: 26.0608 - val_mean_absolute_error: 2.9963\n",
            "Epoch 197/200\n",
            " - 0s - loss: 2.0315 - mean_absolute_error: 1.0010 - val_loss: 22.4346 - val_mean_absolute_error: 2.8091\n",
            "Epoch 198/200\n",
            " - 0s - loss: 1.9548 - mean_absolute_error: 0.9914 - val_loss: 23.0785 - val_mean_absolute_error: 2.8095\n",
            "Epoch 199/200\n",
            " - 0s - loss: 2.0082 - mean_absolute_error: 1.0237 - val_loss: 21.9918 - val_mean_absolute_error: 2.9446\n",
            "Epoch 200/200\n",
            " - 0s - loss: 1.9994 - mean_absolute_error: 1.0217 - val_loss: 21.2116 - val_mean_absolute_error: 2.9557\n",
            "processing fold # 2\n",
            "Train on 303 samples, validate on 101 samples\n",
            "Epoch 1/200\n",
            " - 1s - loss: 217.3655 - mean_absolute_error: 10.7556 - val_loss: 34.7914 - val_mean_absolute_error: 3.9084\n",
            "Epoch 2/200\n",
            " - 0s - loss: 30.6488 - mean_absolute_error: 3.6302 - val_loss: 22.9242 - val_mean_absolute_error: 3.0979\n",
            "Epoch 3/200\n",
            " - 0s - loss: 21.9513 - mean_absolute_error: 3.1814 - val_loss: 19.7616 - val_mean_absolute_error: 2.9804\n",
            "Epoch 4/200\n",
            " - 0s - loss: 17.2325 - mean_absolute_error: 2.8831 - val_loss: 18.7812 - val_mean_absolute_error: 2.7244\n",
            "Epoch 5/200\n",
            " - 0s - loss: 15.2943 - mean_absolute_error: 2.6255 - val_loss: 16.7666 - val_mean_absolute_error: 2.6359\n",
            "Epoch 6/200\n",
            " - 0s - loss: 13.4128 - mean_absolute_error: 2.4829 - val_loss: 18.9951 - val_mean_absolute_error: 2.8044\n",
            "Epoch 7/200\n",
            " - 0s - loss: 11.9838 - mean_absolute_error: 2.4266 - val_loss: 17.1413 - val_mean_absolute_error: 2.6675\n",
            "Epoch 8/200\n",
            " - 0s - loss: 11.3137 - mean_absolute_error: 2.3634 - val_loss: 16.7957 - val_mean_absolute_error: 2.6239\n",
            "Epoch 9/200\n",
            " - 0s - loss: 10.6517 - mean_absolute_error: 2.2647 - val_loss: 16.3788 - val_mean_absolute_error: 2.6119\n",
            "Epoch 10/200\n",
            " - 0s - loss: 10.2062 - mean_absolute_error: 2.2037 - val_loss: 16.2906 - val_mean_absolute_error: 2.8005\n",
            "Epoch 11/200\n",
            " - 0s - loss: 9.2334 - mean_absolute_error: 2.1719 - val_loss: 18.3277 - val_mean_absolute_error: 3.1169\n",
            "Epoch 12/200\n",
            " - 0s - loss: 9.1437 - mean_absolute_error: 2.1804 - val_loss: 15.9762 - val_mean_absolute_error: 2.6756\n",
            "Epoch 13/200\n",
            " - 0s - loss: 8.3638 - mean_absolute_error: 2.1069 - val_loss: 15.8881 - val_mean_absolute_error: 2.6295\n",
            "Epoch 14/200\n",
            " - 0s - loss: 8.4629 - mean_absolute_error: 2.0582 - val_loss: 17.7090 - val_mean_absolute_error: 2.7545\n",
            "Epoch 15/200\n",
            " - 0s - loss: 8.5217 - mean_absolute_error: 2.0133 - val_loss: 15.2326 - val_mean_absolute_error: 2.6970\n",
            "Epoch 16/200\n",
            " - 0s - loss: 7.6862 - mean_absolute_error: 1.9766 - val_loss: 17.5069 - val_mean_absolute_error: 2.7156\n",
            "Epoch 17/200\n",
            " - 0s - loss: 7.8945 - mean_absolute_error: 1.9762 - val_loss: 16.1520 - val_mean_absolute_error: 2.6901\n",
            "Epoch 18/200\n",
            " - 0s - loss: 7.7595 - mean_absolute_error: 1.9372 - val_loss: 15.6284 - val_mean_absolute_error: 2.5409\n",
            "Epoch 19/200\n",
            " - 0s - loss: 7.6772 - mean_absolute_error: 1.9531 - val_loss: 16.1905 - val_mean_absolute_error: 2.7961\n",
            "Epoch 20/200\n",
            " - 0s - loss: 7.2521 - mean_absolute_error: 1.8909 - val_loss: 15.7950 - val_mean_absolute_error: 2.7243\n",
            "Epoch 21/200\n",
            " - 0s - loss: 7.5772 - mean_absolute_error: 1.8610 - val_loss: 16.1472 - val_mean_absolute_error: 2.7805\n",
            "Epoch 22/200\n",
            " - 0s - loss: 6.8462 - mean_absolute_error: 1.8163 - val_loss: 16.3575 - val_mean_absolute_error: 2.5593\n",
            "Epoch 23/200\n",
            " - 0s - loss: 7.0998 - mean_absolute_error: 1.8365 - val_loss: 15.6377 - val_mean_absolute_error: 2.5615\n",
            "Epoch 24/200\n",
            " - 0s - loss: 7.0095 - mean_absolute_error: 1.8387 - val_loss: 15.3667 - val_mean_absolute_error: 2.5265\n",
            "Epoch 25/200\n",
            " - 0s - loss: 6.7719 - mean_absolute_error: 1.8194 - val_loss: 15.9276 - val_mean_absolute_error: 2.5147\n",
            "Epoch 26/200\n",
            " - 0s - loss: 6.7313 - mean_absolute_error: 1.7777 - val_loss: 14.5444 - val_mean_absolute_error: 2.6133\n",
            "Epoch 27/200\n",
            " - 0s - loss: 6.6885 - mean_absolute_error: 1.7680 - val_loss: 15.6442 - val_mean_absolute_error: 2.5474\n",
            "Epoch 28/200\n",
            " - 0s - loss: 6.5352 - mean_absolute_error: 1.8181 - val_loss: 15.2345 - val_mean_absolute_error: 2.6260\n",
            "Epoch 29/200\n",
            " - 0s - loss: 6.3340 - mean_absolute_error: 1.7697 - val_loss: 16.4156 - val_mean_absolute_error: 2.6786\n",
            "Epoch 30/200\n",
            " - 0s - loss: 6.4766 - mean_absolute_error: 1.8284 - val_loss: 14.5546 - val_mean_absolute_error: 2.5600\n",
            "Epoch 31/200\n",
            " - 0s - loss: 5.9128 - mean_absolute_error: 1.6611 - val_loss: 16.9193 - val_mean_absolute_error: 2.8088\n",
            "Epoch 32/200\n",
            " - 0s - loss: 6.2495 - mean_absolute_error: 1.7203 - val_loss: 18.0633 - val_mean_absolute_error: 2.9894\n",
            "Epoch 33/200\n",
            " - 0s - loss: 5.8291 - mean_absolute_error: 1.7273 - val_loss: 15.0380 - val_mean_absolute_error: 2.4443\n",
            "Epoch 34/200\n",
            " - 0s - loss: 5.7222 - mean_absolute_error: 1.6821 - val_loss: 18.6942 - val_mean_absolute_error: 2.9081\n",
            "Epoch 35/200\n",
            " - 0s - loss: 6.1064 - mean_absolute_error: 1.7438 - val_loss: 16.8979 - val_mean_absolute_error: 2.6307\n",
            "Epoch 36/200\n",
            " - 0s - loss: 5.9817 - mean_absolute_error: 1.7601 - val_loss: 18.8622 - val_mean_absolute_error: 2.9476\n",
            "Epoch 37/200\n",
            " - 0s - loss: 5.5207 - mean_absolute_error: 1.6858 - val_loss: 26.4662 - val_mean_absolute_error: 3.8120\n",
            "Epoch 38/200\n",
            " - 0s - loss: 5.7307 - mean_absolute_error: 1.6849 - val_loss: 16.5366 - val_mean_absolute_error: 2.6270\n",
            "Epoch 39/200\n",
            " - 0s - loss: 5.7029 - mean_absolute_error: 1.6299 - val_loss: 15.9721 - val_mean_absolute_error: 2.6070\n",
            "Epoch 40/200\n",
            " - 0s - loss: 5.5474 - mean_absolute_error: 1.6573 - val_loss: 16.8206 - val_mean_absolute_error: 2.9332\n",
            "Epoch 41/200\n",
            " - 0s - loss: 5.4940 - mean_absolute_error: 1.6799 - val_loss: 17.9746 - val_mean_absolute_error: 2.7840\n",
            "Epoch 42/200\n",
            " - 0s - loss: 5.5776 - mean_absolute_error: 1.6467 - val_loss: 17.0133 - val_mean_absolute_error: 2.7852\n",
            "Epoch 43/200\n",
            " - 0s - loss: 5.4287 - mean_absolute_error: 1.6310 - val_loss: 18.0602 - val_mean_absolute_error: 2.7968\n",
            "Epoch 44/200\n",
            " - 0s - loss: 5.2595 - mean_absolute_error: 1.6707 - val_loss: 16.7067 - val_mean_absolute_error: 2.6125\n",
            "Epoch 45/200\n",
            " - 0s - loss: 5.2596 - mean_absolute_error: 1.5999 - val_loss: 16.7048 - val_mean_absolute_error: 2.5705\n",
            "Epoch 46/200\n",
            " - 0s - loss: 5.1016 - mean_absolute_error: 1.6045 - val_loss: 16.0573 - val_mean_absolute_error: 2.5049\n",
            "Epoch 47/200\n",
            " - 0s - loss: 5.0035 - mean_absolute_error: 1.5774 - val_loss: 17.2349 - val_mean_absolute_error: 2.7155\n",
            "Epoch 48/200\n",
            " - 0s - loss: 5.3019 - mean_absolute_error: 1.6069 - val_loss: 17.2315 - val_mean_absolute_error: 2.6178\n",
            "Epoch 49/200\n",
            " - 0s - loss: 5.1775 - mean_absolute_error: 1.5966 - val_loss: 17.1431 - val_mean_absolute_error: 2.6948\n",
            "Epoch 50/200\n",
            " - 0s - loss: 5.2660 - mean_absolute_error: 1.5494 - val_loss: 17.5908 - val_mean_absolute_error: 2.8152\n",
            "Epoch 51/200\n",
            " - 0s - loss: 5.1624 - mean_absolute_error: 1.5680 - val_loss: 15.1934 - val_mean_absolute_error: 2.5266\n",
            "Epoch 52/200\n",
            " - 0s - loss: 4.6927 - mean_absolute_error: 1.5272 - val_loss: 16.6185 - val_mean_absolute_error: 2.7769\n",
            "Epoch 53/200\n",
            " - 0s - loss: 5.1049 - mean_absolute_error: 1.5928 - val_loss: 17.7559 - val_mean_absolute_error: 2.6202\n",
            "Epoch 54/200\n",
            " - 0s - loss: 4.8741 - mean_absolute_error: 1.5799 - val_loss: 17.9175 - val_mean_absolute_error: 2.9649\n",
            "Epoch 55/200\n",
            " - 0s - loss: 4.2910 - mean_absolute_error: 1.4781 - val_loss: 15.8147 - val_mean_absolute_error: 2.5677\n",
            "Epoch 56/200\n",
            " - 0s - loss: 4.8743 - mean_absolute_error: 1.5484 - val_loss: 18.5921 - val_mean_absolute_error: 2.9057\n",
            "Epoch 57/200\n",
            " - 0s - loss: 4.6163 - mean_absolute_error: 1.5008 - val_loss: 17.0938 - val_mean_absolute_error: 2.6249\n",
            "Epoch 58/200\n",
            " - 0s - loss: 4.6042 - mean_absolute_error: 1.5078 - val_loss: 17.2845 - val_mean_absolute_error: 2.7791\n",
            "Epoch 59/200\n",
            " - 0s - loss: 4.8430 - mean_absolute_error: 1.5353 - val_loss: 16.5437 - val_mean_absolute_error: 2.5902\n",
            "Epoch 60/200\n",
            " - 0s - loss: 4.4082 - mean_absolute_error: 1.5263 - val_loss: 18.0567 - val_mean_absolute_error: 2.7905\n",
            "Epoch 61/200\n",
            " - 0s - loss: 4.2394 - mean_absolute_error: 1.4626 - val_loss: 16.6121 - val_mean_absolute_error: 2.5723\n",
            "Epoch 62/200\n",
            " - 0s - loss: 4.5384 - mean_absolute_error: 1.4989 - val_loss: 16.5940 - val_mean_absolute_error: 2.5448\n",
            "Epoch 63/200\n",
            " - 0s - loss: 4.4930 - mean_absolute_error: 1.4960 - val_loss: 19.5265 - val_mean_absolute_error: 2.8588\n",
            "Epoch 64/200\n",
            " - 0s - loss: 4.4512 - mean_absolute_error: 1.4333 - val_loss: 17.9927 - val_mean_absolute_error: 2.7760\n",
            "Epoch 65/200\n",
            " - 0s - loss: 4.3230 - mean_absolute_error: 1.4900 - val_loss: 15.6736 - val_mean_absolute_error: 2.6177\n",
            "Epoch 66/200\n",
            " - 0s - loss: 4.5740 - mean_absolute_error: 1.5124 - val_loss: 16.1260 - val_mean_absolute_error: 2.5874\n",
            "Epoch 67/200\n",
            " - 0s - loss: 4.3384 - mean_absolute_error: 1.4367 - val_loss: 15.3739 - val_mean_absolute_error: 2.5729\n",
            "Epoch 68/200\n",
            " - 0s - loss: 4.5093 - mean_absolute_error: 1.5123 - val_loss: 17.4080 - val_mean_absolute_error: 2.6639\n",
            "Epoch 69/200\n",
            " - 0s - loss: 4.2415 - mean_absolute_error: 1.4565 - val_loss: 18.4949 - val_mean_absolute_error: 2.7474\n",
            "Epoch 70/200\n",
            " - 0s - loss: 4.4574 - mean_absolute_error: 1.4772 - val_loss: 18.4750 - val_mean_absolute_error: 2.7332\n",
            "Epoch 71/200\n",
            " - 0s - loss: 4.4868 - mean_absolute_error: 1.5084 - val_loss: 17.6168 - val_mean_absolute_error: 2.6394\n",
            "Epoch 72/200\n",
            " - 0s - loss: 4.2670 - mean_absolute_error: 1.4476 - val_loss: 17.9710 - val_mean_absolute_error: 2.7045\n",
            "Epoch 73/200\n",
            " - 0s - loss: 4.2262 - mean_absolute_error: 1.4643 - val_loss: 19.1927 - val_mean_absolute_error: 2.6562\n",
            "Epoch 74/200\n",
            " - 0s - loss: 4.4009 - mean_absolute_error: 1.4767 - val_loss: 17.4758 - val_mean_absolute_error: 2.6321\n",
            "Epoch 75/200\n",
            " - 0s - loss: 4.4306 - mean_absolute_error: 1.4638 - val_loss: 18.0730 - val_mean_absolute_error: 2.6936\n",
            "Epoch 76/200\n",
            " - 0s - loss: 4.2120 - mean_absolute_error: 1.3960 - val_loss: 17.7198 - val_mean_absolute_error: 2.7055\n",
            "Epoch 77/200\n",
            " - 0s - loss: 4.3269 - mean_absolute_error: 1.4775 - val_loss: 19.1598 - val_mean_absolute_error: 2.7293\n",
            "Epoch 78/200\n",
            " - 0s - loss: 4.0318 - mean_absolute_error: 1.4630 - val_loss: 18.0501 - val_mean_absolute_error: 2.7012\n",
            "Epoch 79/200\n",
            " - 0s - loss: 3.9040 - mean_absolute_error: 1.4329 - val_loss: 17.3241 - val_mean_absolute_error: 2.7271\n",
            "Epoch 80/200\n",
            " - 0s - loss: 4.0537 - mean_absolute_error: 1.4147 - val_loss: 17.2854 - val_mean_absolute_error: 2.6648\n",
            "Epoch 81/200\n",
            " - 0s - loss: 3.9439 - mean_absolute_error: 1.4041 - val_loss: 19.3771 - val_mean_absolute_error: 2.8750\n",
            "Epoch 82/200\n",
            " - 0s - loss: 3.9012 - mean_absolute_error: 1.3934 - val_loss: 19.2794 - val_mean_absolute_error: 2.8051\n",
            "Epoch 83/200\n",
            " - 0s - loss: 3.7937 - mean_absolute_error: 1.3631 - val_loss: 17.7992 - val_mean_absolute_error: 2.6808\n",
            "Epoch 84/200\n",
            " - 0s - loss: 3.9442 - mean_absolute_error: 1.4154 - val_loss: 19.1153 - val_mean_absolute_error: 2.7805\n",
            "Epoch 85/200\n",
            " - 0s - loss: 3.7108 - mean_absolute_error: 1.3253 - val_loss: 19.8600 - val_mean_absolute_error: 2.8186\n",
            "Epoch 86/200\n",
            " - 0s - loss: 3.8190 - mean_absolute_error: 1.3616 - val_loss: 17.8256 - val_mean_absolute_error: 2.7105\n",
            "Epoch 87/200\n",
            " - 0s - loss: 3.9877 - mean_absolute_error: 1.3627 - val_loss: 20.0280 - val_mean_absolute_error: 2.8397\n",
            "Epoch 88/200\n",
            " - 0s - loss: 3.3069 - mean_absolute_error: 1.2978 - val_loss: 21.1900 - val_mean_absolute_error: 3.0063\n",
            "Epoch 89/200\n",
            " - 0s - loss: 3.4493 - mean_absolute_error: 1.3316 - val_loss: 23.1187 - val_mean_absolute_error: 3.3202\n",
            "Epoch 90/200\n",
            " - 0s - loss: 3.5101 - mean_absolute_error: 1.3349 - val_loss: 22.2657 - val_mean_absolute_error: 3.0160\n",
            "Epoch 91/200\n",
            " - 0s - loss: 3.8761 - mean_absolute_error: 1.3942 - val_loss: 18.6092 - val_mean_absolute_error: 2.7931\n",
            "Epoch 92/200\n",
            " - 0s - loss: 3.6828 - mean_absolute_error: 1.3897 - val_loss: 21.9541 - val_mean_absolute_error: 2.9795\n",
            "Epoch 93/200\n",
            " - 0s - loss: 3.5818 - mean_absolute_error: 1.3614 - val_loss: 19.4906 - val_mean_absolute_error: 2.8119\n",
            "Epoch 94/200\n",
            " - 0s - loss: 3.3407 - mean_absolute_error: 1.3236 - val_loss: 21.5639 - val_mean_absolute_error: 2.9802\n",
            "Epoch 95/200\n",
            " - 0s - loss: 3.4953 - mean_absolute_error: 1.3556 - val_loss: 21.8908 - val_mean_absolute_error: 2.8912\n",
            "Epoch 96/200\n",
            " - 0s - loss: 3.0949 - mean_absolute_error: 1.2948 - val_loss: 19.6415 - val_mean_absolute_error: 2.8191\n",
            "Epoch 97/200\n",
            " - 0s - loss: 3.7064 - mean_absolute_error: 1.3730 - val_loss: 22.4266 - val_mean_absolute_error: 3.1066\n",
            "Epoch 98/200\n",
            " - 0s - loss: 3.3590 - mean_absolute_error: 1.3038 - val_loss: 21.2213 - val_mean_absolute_error: 2.8804\n",
            "Epoch 99/200\n",
            " - 0s - loss: 3.2482 - mean_absolute_error: 1.2748 - val_loss: 18.5583 - val_mean_absolute_error: 2.7988\n",
            "Epoch 100/200\n",
            " - 0s - loss: 3.0628 - mean_absolute_error: 1.2691 - val_loss: 23.3381 - val_mean_absolute_error: 3.2240\n",
            "Epoch 101/200\n",
            " - 0s - loss: 3.3267 - mean_absolute_error: 1.3269 - val_loss: 20.0377 - val_mean_absolute_error: 2.8811\n",
            "Epoch 102/200\n",
            " - 0s - loss: 3.2256 - mean_absolute_error: 1.3170 - val_loss: 21.6793 - val_mean_absolute_error: 2.9528\n",
            "Epoch 103/200\n",
            " - 0s - loss: 3.3731 - mean_absolute_error: 1.2880 - val_loss: 18.1083 - val_mean_absolute_error: 2.6644\n",
            "Epoch 104/200\n",
            " - 0s - loss: 3.0678 - mean_absolute_error: 1.3020 - val_loss: 20.1298 - val_mean_absolute_error: 2.8952\n",
            "Epoch 105/200\n",
            " - 0s - loss: 3.2263 - mean_absolute_error: 1.2834 - val_loss: 20.0913 - val_mean_absolute_error: 2.9125\n",
            "Epoch 106/200\n",
            " - 0s - loss: 3.1130 - mean_absolute_error: 1.3135 - val_loss: 20.5627 - val_mean_absolute_error: 2.9140\n",
            "Epoch 107/200\n",
            " - 0s - loss: 3.2320 - mean_absolute_error: 1.2998 - val_loss: 21.0335 - val_mean_absolute_error: 2.9373\n",
            "Epoch 108/200\n",
            " - 0s - loss: 3.1987 - mean_absolute_error: 1.2805 - val_loss: 18.2635 - val_mean_absolute_error: 2.7639\n",
            "Epoch 109/200\n",
            " - 0s - loss: 3.1115 - mean_absolute_error: 1.2792 - val_loss: 19.5755 - val_mean_absolute_error: 2.8221\n",
            "Epoch 110/200\n",
            " - 0s - loss: 2.9143 - mean_absolute_error: 1.2433 - val_loss: 19.9310 - val_mean_absolute_error: 2.8982\n",
            "Epoch 111/200\n",
            " - 0s - loss: 2.8535 - mean_absolute_error: 1.2289 - val_loss: 17.2371 - val_mean_absolute_error: 2.6471\n",
            "Epoch 112/200\n",
            " - 0s - loss: 3.0421 - mean_absolute_error: 1.2719 - val_loss: 20.0368 - val_mean_absolute_error: 2.9283\n",
            "Epoch 113/200\n",
            " - 0s - loss: 2.9255 - mean_absolute_error: 1.2440 - val_loss: 20.3328 - val_mean_absolute_error: 3.0561\n",
            "Epoch 114/200\n",
            " - 0s - loss: 2.8735 - mean_absolute_error: 1.2177 - val_loss: 19.7674 - val_mean_absolute_error: 2.8310\n",
            "Epoch 115/200\n",
            " - 0s - loss: 3.0289 - mean_absolute_error: 1.2562 - val_loss: 21.4624 - val_mean_absolute_error: 2.8915\n",
            "Epoch 116/200\n",
            " - 0s - loss: 2.8000 - mean_absolute_error: 1.2374 - val_loss: 21.3881 - val_mean_absolute_error: 3.0001\n",
            "Epoch 117/200\n",
            " - 0s - loss: 3.0247 - mean_absolute_error: 1.2215 - val_loss: 21.6671 - val_mean_absolute_error: 3.0142\n",
            "Epoch 118/200\n",
            " - 0s - loss: 3.0985 - mean_absolute_error: 1.3109 - val_loss: 20.3466 - val_mean_absolute_error: 3.0025\n",
            "Epoch 119/200\n",
            " - 0s - loss: 2.8059 - mean_absolute_error: 1.1741 - val_loss: 18.6941 - val_mean_absolute_error: 2.7261\n",
            "Epoch 120/200\n",
            " - 0s - loss: 2.7145 - mean_absolute_error: 1.1948 - val_loss: 22.2004 - val_mean_absolute_error: 2.9649\n",
            "Epoch 121/200\n",
            " - 0s - loss: 3.0831 - mean_absolute_error: 1.2648 - val_loss: 19.5887 - val_mean_absolute_error: 2.7734\n",
            "Epoch 122/200\n",
            " - 0s - loss: 2.8738 - mean_absolute_error: 1.2356 - val_loss: 19.0524 - val_mean_absolute_error: 2.8078\n",
            "Epoch 123/200\n",
            " - 0s - loss: 2.7965 - mean_absolute_error: 1.2292 - val_loss: 17.0260 - val_mean_absolute_error: 2.6696\n",
            "Epoch 124/200\n",
            " - 0s - loss: 2.6240 - mean_absolute_error: 1.1659 - val_loss: 18.7427 - val_mean_absolute_error: 2.7667\n",
            "Epoch 125/200\n",
            " - 0s - loss: 2.6325 - mean_absolute_error: 1.1851 - val_loss: 21.2951 - val_mean_absolute_error: 3.0681\n",
            "Epoch 126/200\n",
            " - 0s - loss: 2.5875 - mean_absolute_error: 1.1817 - val_loss: 21.1402 - val_mean_absolute_error: 3.0190\n",
            "Epoch 127/200\n",
            " - 0s - loss: 2.5606 - mean_absolute_error: 1.1742 - val_loss: 16.7884 - val_mean_absolute_error: 2.6616\n",
            "Epoch 128/200\n",
            " - 0s - loss: 2.9139 - mean_absolute_error: 1.2642 - val_loss: 18.0072 - val_mean_absolute_error: 2.7420\n",
            "Epoch 129/200\n",
            " - 0s - loss: 2.5493 - mean_absolute_error: 1.1680 - val_loss: 19.1849 - val_mean_absolute_error: 2.8524\n",
            "Epoch 130/200\n",
            " - 0s - loss: 2.6652 - mean_absolute_error: 1.2042 - val_loss: 18.5726 - val_mean_absolute_error: 2.8079\n",
            "Epoch 131/200\n",
            " - 0s - loss: 2.5836 - mean_absolute_error: 1.1626 - val_loss: 18.6140 - val_mean_absolute_error: 2.7982\n",
            "Epoch 132/200\n",
            " - 0s - loss: 2.7527 - mean_absolute_error: 1.1873 - val_loss: 18.9240 - val_mean_absolute_error: 2.8077\n",
            "Epoch 133/200\n",
            " - 0s - loss: 2.3468 - mean_absolute_error: 1.1289 - val_loss: 16.7151 - val_mean_absolute_error: 2.6769\n",
            "Epoch 134/200\n",
            " - 0s - loss: 2.8048 - mean_absolute_error: 1.2363 - val_loss: 17.8997 - val_mean_absolute_error: 2.7802\n",
            "Epoch 135/200\n",
            " - 0s - loss: 2.5743 - mean_absolute_error: 1.1517 - val_loss: 19.6362 - val_mean_absolute_error: 2.8478\n",
            "Epoch 136/200\n",
            " - 0s - loss: 2.4624 - mean_absolute_error: 1.1599 - val_loss: 20.7639 - val_mean_absolute_error: 3.0621\n",
            "Epoch 137/200\n",
            " - 0s - loss: 2.4144 - mean_absolute_error: 1.1112 - val_loss: 17.9286 - val_mean_absolute_error: 2.8027\n",
            "Epoch 138/200\n",
            " - 0s - loss: 2.4656 - mean_absolute_error: 1.1924 - val_loss: 19.6769 - val_mean_absolute_error: 2.8740\n",
            "Epoch 139/200\n",
            " - 0s - loss: 2.6054 - mean_absolute_error: 1.1543 - val_loss: 17.9304 - val_mean_absolute_error: 2.7532\n",
            "Epoch 140/200\n",
            " - 0s - loss: 2.6125 - mean_absolute_error: 1.1810 - val_loss: 17.9674 - val_mean_absolute_error: 2.7601\n",
            "Epoch 141/200\n",
            " - 0s - loss: 2.6334 - mean_absolute_error: 1.1649 - val_loss: 19.6701 - val_mean_absolute_error: 3.0613\n",
            "Epoch 142/200\n",
            " - 0s - loss: 2.2446 - mean_absolute_error: 1.1067 - val_loss: 22.8768 - val_mean_absolute_error: 3.2105\n",
            "Epoch 143/200\n",
            " - 0s - loss: 2.6649 - mean_absolute_error: 1.1772 - val_loss: 19.4419 - val_mean_absolute_error: 2.8170\n",
            "Epoch 144/200\n",
            " - 0s - loss: 2.2973 - mean_absolute_error: 1.1085 - val_loss: 20.4007 - val_mean_absolute_error: 2.9348\n",
            "Epoch 145/200\n",
            " - 0s - loss: 2.2898 - mean_absolute_error: 1.1431 - val_loss: 19.9945 - val_mean_absolute_error: 2.9055\n",
            "Epoch 146/200\n",
            " - 0s - loss: 2.3569 - mean_absolute_error: 1.1094 - val_loss: 19.5065 - val_mean_absolute_error: 2.8014\n",
            "Epoch 147/200\n",
            " - 0s - loss: 2.5580 - mean_absolute_error: 1.1549 - val_loss: 20.9169 - val_mean_absolute_error: 2.9512\n",
            "Epoch 148/200\n",
            " - 0s - loss: 2.3383 - mean_absolute_error: 1.0944 - val_loss: 18.0981 - val_mean_absolute_error: 2.8126\n",
            "Epoch 149/200\n",
            " - 0s - loss: 2.3179 - mean_absolute_error: 1.0882 - val_loss: 18.5951 - val_mean_absolute_error: 2.7870\n",
            "Epoch 150/200\n",
            " - 0s - loss: 2.2431 - mean_absolute_error: 1.1140 - val_loss: 18.8533 - val_mean_absolute_error: 2.7642\n",
            "Epoch 151/200\n",
            " - 0s - loss: 2.3280 - mean_absolute_error: 1.1045 - val_loss: 18.5873 - val_mean_absolute_error: 2.7846\n",
            "Epoch 152/200\n",
            " - 0s - loss: 2.1889 - mean_absolute_error: 1.1372 - val_loss: 19.6782 - val_mean_absolute_error: 2.9060\n",
            "Epoch 153/200\n",
            " - 0s - loss: 2.3534 - mean_absolute_error: 1.1180 - val_loss: 20.5527 - val_mean_absolute_error: 2.9525\n",
            "Epoch 154/200\n",
            " - 0s - loss: 2.2277 - mean_absolute_error: 1.0478 - val_loss: 20.7934 - val_mean_absolute_error: 2.9921\n",
            "Epoch 155/200\n",
            " - 0s - loss: 2.3152 - mean_absolute_error: 1.1233 - val_loss: 19.0694 - val_mean_absolute_error: 2.8567\n",
            "Epoch 156/200\n",
            " - 0s - loss: 2.2275 - mean_absolute_error: 1.0789 - val_loss: 18.8380 - val_mean_absolute_error: 2.7773\n",
            "Epoch 157/200\n",
            " - 0s - loss: 2.4619 - mean_absolute_error: 1.1354 - val_loss: 17.2428 - val_mean_absolute_error: 2.7777\n",
            "Epoch 158/200\n",
            " - 0s - loss: 2.0597 - mean_absolute_error: 1.0561 - val_loss: 19.2651 - val_mean_absolute_error: 2.9912\n",
            "Epoch 159/200\n",
            " - 0s - loss: 2.2625 - mean_absolute_error: 1.0896 - val_loss: 17.2822 - val_mean_absolute_error: 2.7924\n",
            "Epoch 160/200\n",
            " - 0s - loss: 2.1279 - mean_absolute_error: 1.0793 - val_loss: 18.3955 - val_mean_absolute_error: 2.8668\n",
            "Epoch 161/200\n",
            " - 0s - loss: 2.1684 - mean_absolute_error: 1.0827 - val_loss: 18.4325 - val_mean_absolute_error: 2.8057\n",
            "Epoch 162/200\n",
            " - 0s - loss: 2.1564 - mean_absolute_error: 1.0716 - val_loss: 17.5828 - val_mean_absolute_error: 2.7327\n",
            "Epoch 163/200\n",
            " - 0s - loss: 1.9458 - mean_absolute_error: 1.0090 - val_loss: 19.0198 - val_mean_absolute_error: 2.9134\n",
            "Epoch 164/200\n",
            " - 0s - loss: 2.0516 - mean_absolute_error: 1.0532 - val_loss: 19.4130 - val_mean_absolute_error: 2.9286\n",
            "Epoch 165/200\n",
            " - 0s - loss: 1.9640 - mean_absolute_error: 1.0015 - val_loss: 18.4089 - val_mean_absolute_error: 2.8326\n",
            "Epoch 166/200\n",
            " - 0s - loss: 2.0280 - mean_absolute_error: 1.0405 - val_loss: 20.5353 - val_mean_absolute_error: 3.0694\n",
            "Epoch 167/200\n",
            " - 0s - loss: 2.2149 - mean_absolute_error: 1.0335 - val_loss: 18.3847 - val_mean_absolute_error: 2.8372\n",
            "Epoch 168/200\n",
            " - 0s - loss: 2.0914 - mean_absolute_error: 1.0727 - val_loss: 19.1622 - val_mean_absolute_error: 2.8815\n",
            "Epoch 169/200\n",
            " - 0s - loss: 1.7873 - mean_absolute_error: 0.9719 - val_loss: 20.1292 - val_mean_absolute_error: 3.0153\n",
            "Epoch 170/200\n",
            " - 0s - loss: 2.3469 - mean_absolute_error: 1.1093 - val_loss: 19.9510 - val_mean_absolute_error: 2.9398\n",
            "Epoch 171/200\n",
            " - 0s - loss: 2.0622 - mean_absolute_error: 1.0478 - val_loss: 18.4021 - val_mean_absolute_error: 2.8029\n",
            "Epoch 172/200\n",
            " - 0s - loss: 2.1265 - mean_absolute_error: 1.0449 - val_loss: 18.6323 - val_mean_absolute_error: 2.8912\n",
            "Epoch 173/200\n",
            " - 0s - loss: 1.9570 - mean_absolute_error: 1.0382 - val_loss: 18.3240 - val_mean_absolute_error: 2.8757\n",
            "Epoch 174/200\n",
            " - 0s - loss: 1.8193 - mean_absolute_error: 0.9995 - val_loss: 19.8919 - val_mean_absolute_error: 2.9115\n",
            "Epoch 175/200\n",
            " - 0s - loss: 1.8674 - mean_absolute_error: 1.0239 - val_loss: 19.7981 - val_mean_absolute_error: 3.0169\n",
            "Epoch 176/200\n",
            " - 0s - loss: 1.9852 - mean_absolute_error: 1.0349 - val_loss: 18.5200 - val_mean_absolute_error: 2.9181\n",
            "Epoch 177/200\n",
            " - 0s - loss: 1.9642 - mean_absolute_error: 1.0345 - val_loss: 17.9638 - val_mean_absolute_error: 2.8233\n",
            "Epoch 178/200\n",
            " - 0s - loss: 1.7219 - mean_absolute_error: 0.9601 - val_loss: 19.5072 - val_mean_absolute_error: 2.9998\n",
            "Epoch 179/200\n",
            " - 0s - loss: 2.0352 - mean_absolute_error: 1.0349 - val_loss: 18.6139 - val_mean_absolute_error: 2.8582\n",
            "Epoch 180/200\n",
            " - 0s - loss: 1.8164 - mean_absolute_error: 0.9843 - val_loss: 19.2737 - val_mean_absolute_error: 2.8371\n",
            "Epoch 181/200\n",
            " - 0s - loss: 1.8708 - mean_absolute_error: 1.0175 - val_loss: 18.8084 - val_mean_absolute_error: 2.8357\n",
            "Epoch 182/200\n",
            " - 0s - loss: 1.9539 - mean_absolute_error: 1.0268 - val_loss: 17.4343 - val_mean_absolute_error: 2.7322\n",
            "Epoch 183/200\n",
            " - 0s - loss: 1.7998 - mean_absolute_error: 0.9656 - val_loss: 18.5191 - val_mean_absolute_error: 2.9949\n",
            "Epoch 184/200\n",
            " - 0s - loss: 1.9360 - mean_absolute_error: 1.0109 - val_loss: 16.8207 - val_mean_absolute_error: 2.7294\n",
            "Epoch 185/200\n",
            " - 0s - loss: 2.0715 - mean_absolute_error: 1.0231 - val_loss: 16.1224 - val_mean_absolute_error: 2.6587\n",
            "Epoch 186/200\n",
            " - 0s - loss: 1.9297 - mean_absolute_error: 1.0204 - val_loss: 18.0351 - val_mean_absolute_error: 2.7875\n",
            "Epoch 187/200\n",
            " - 0s - loss: 1.7245 - mean_absolute_error: 0.9707 - val_loss: 17.3709 - val_mean_absolute_error: 2.7834\n",
            "Epoch 188/200\n",
            " - 0s - loss: 1.7357 - mean_absolute_error: 0.9861 - val_loss: 19.0986 - val_mean_absolute_error: 2.8294\n",
            "Epoch 189/200\n",
            " - 0s - loss: 1.8691 - mean_absolute_error: 0.9749 - val_loss: 17.3850 - val_mean_absolute_error: 2.8187\n",
            "Epoch 190/200\n",
            " - 0s - loss: 1.6665 - mean_absolute_error: 0.9492 - val_loss: 17.6064 - val_mean_absolute_error: 2.8106\n",
            "Epoch 191/200\n",
            " - 0s - loss: 1.7305 - mean_absolute_error: 1.0016 - val_loss: 18.0234 - val_mean_absolute_error: 2.8897\n",
            "Epoch 192/200\n",
            " - 0s - loss: 1.9038 - mean_absolute_error: 1.0385 - val_loss: 18.2840 - val_mean_absolute_error: 2.9744\n",
            "Epoch 193/200\n",
            " - 0s - loss: 2.0150 - mean_absolute_error: 0.9908 - val_loss: 16.7604 - val_mean_absolute_error: 2.6835\n",
            "Epoch 194/200\n",
            " - 0s - loss: 1.6431 - mean_absolute_error: 0.9510 - val_loss: 16.9666 - val_mean_absolute_error: 2.7244\n",
            "Epoch 195/200\n",
            " - 0s - loss: 1.8187 - mean_absolute_error: 0.9971 - val_loss: 16.6923 - val_mean_absolute_error: 2.7317\n",
            "Epoch 196/200\n",
            " - 0s - loss: 1.7229 - mean_absolute_error: 0.9411 - val_loss: 16.9010 - val_mean_absolute_error: 2.7848\n",
            "Epoch 197/200\n",
            " - 0s - loss: 1.6665 - mean_absolute_error: 0.9281 - val_loss: 17.2339 - val_mean_absolute_error: 2.7805\n",
            "Epoch 198/200\n",
            " - 0s - loss: 1.7387 - mean_absolute_error: 0.9686 - val_loss: 17.7543 - val_mean_absolute_error: 2.8233\n",
            "Epoch 199/200\n",
            " - 0s - loss: 1.7618 - mean_absolute_error: 0.9474 - val_loss: 16.9708 - val_mean_absolute_error: 2.7584\n",
            "Epoch 200/200\n",
            " - 0s - loss: 1.7237 - mean_absolute_error: 0.9286 - val_loss: 17.7178 - val_mean_absolute_error: 2.8275\n",
            "processing fold # 3\n",
            "Train on 303 samples, validate on 101 samples\n",
            "Epoch 1/200\n",
            " - 1s - loss: 222.9712 - mean_absolute_error: 11.0079 - val_loss: 57.6520 - val_mean_absolute_error: 5.1172\n",
            "Epoch 2/200\n",
            " - 0s - loss: 28.2421 - mean_absolute_error: 3.5231 - val_loss: 34.9370 - val_mean_absolute_error: 3.8260\n",
            "Epoch 3/200\n",
            " - 0s - loss: 19.7820 - mean_absolute_error: 2.9171 - val_loss: 34.5250 - val_mean_absolute_error: 3.4100\n",
            "Epoch 4/200\n",
            " - 0s - loss: 16.7719 - mean_absolute_error: 2.6727 - val_loss: 26.8162 - val_mean_absolute_error: 3.2317\n",
            "Epoch 5/200\n",
            " - 0s - loss: 15.2957 - mean_absolute_error: 2.5033 - val_loss: 24.1160 - val_mean_absolute_error: 3.0535\n",
            "Epoch 6/200\n",
            " - 0s - loss: 13.3731 - mean_absolute_error: 2.4151 - val_loss: 25.5822 - val_mean_absolute_error: 2.8794\n",
            "Epoch 7/200\n",
            " - 0s - loss: 13.1746 - mean_absolute_error: 2.2654 - val_loss: 23.3116 - val_mean_absolute_error: 2.9714\n",
            "Epoch 8/200\n",
            " - 0s - loss: 12.4372 - mean_absolute_error: 2.2235 - val_loss: 24.5978 - val_mean_absolute_error: 3.0528\n",
            "Epoch 9/200\n",
            " - 0s - loss: 11.4569 - mean_absolute_error: 2.1851 - val_loss: 25.1142 - val_mean_absolute_error: 3.0987\n",
            "Epoch 10/200\n",
            " - 0s - loss: 12.0000 - mean_absolute_error: 2.2156 - val_loss: 21.2532 - val_mean_absolute_error: 2.7383\n",
            "Epoch 11/200\n",
            " - 0s - loss: 11.2970 - mean_absolute_error: 2.1525 - val_loss: 20.1558 - val_mean_absolute_error: 2.7777\n",
            "Epoch 12/200\n",
            " - 0s - loss: 10.7371 - mean_absolute_error: 2.0987 - val_loss: 19.4549 - val_mean_absolute_error: 2.6299\n",
            "Epoch 13/200\n",
            " - 0s - loss: 10.1552 - mean_absolute_error: 2.1349 - val_loss: 21.5102 - val_mean_absolute_error: 2.7985\n",
            "Epoch 14/200\n",
            " - 0s - loss: 10.6275 - mean_absolute_error: 2.1402 - val_loss: 21.5821 - val_mean_absolute_error: 2.7626\n",
            "Epoch 15/200\n",
            " - 0s - loss: 9.9561 - mean_absolute_error: 2.0419 - val_loss: 20.0596 - val_mean_absolute_error: 2.6867\n",
            "Epoch 16/200\n",
            " - 0s - loss: 9.9671 - mean_absolute_error: 1.9866 - val_loss: 19.7357 - val_mean_absolute_error: 2.6941\n",
            "Epoch 17/200\n",
            " - 0s - loss: 10.0251 - mean_absolute_error: 2.0571 - val_loss: 17.0989 - val_mean_absolute_error: 2.4942\n",
            "Epoch 18/200\n",
            " - 0s - loss: 9.7202 - mean_absolute_error: 1.9768 - val_loss: 18.8244 - val_mean_absolute_error: 2.6171\n",
            "Epoch 19/200\n",
            " - 0s - loss: 9.3626 - mean_absolute_error: 1.9622 - val_loss: 17.5506 - val_mean_absolute_error: 2.5136\n",
            "Epoch 20/200\n",
            " - 0s - loss: 9.1299 - mean_absolute_error: 1.9765 - val_loss: 20.2395 - val_mean_absolute_error: 2.9471\n",
            "Epoch 21/200\n",
            " - 0s - loss: 8.9349 - mean_absolute_error: 1.8929 - val_loss: 18.8817 - val_mean_absolute_error: 2.6828\n",
            "Epoch 22/200\n",
            " - 0s - loss: 8.7666 - mean_absolute_error: 1.9547 - val_loss: 16.7647 - val_mean_absolute_error: 2.5847\n",
            "Epoch 23/200\n",
            " - 0s - loss: 8.7540 - mean_absolute_error: 1.8766 - val_loss: 16.5876 - val_mean_absolute_error: 2.5824\n",
            "Epoch 24/200\n",
            " - 0s - loss: 8.4914 - mean_absolute_error: 1.9692 - val_loss: 17.5179 - val_mean_absolute_error: 2.6220\n",
            "Epoch 25/200\n",
            " - 0s - loss: 8.3420 - mean_absolute_error: 1.9049 - val_loss: 16.9243 - val_mean_absolute_error: 2.6299\n",
            "Epoch 26/200\n",
            " - 0s - loss: 8.4911 - mean_absolute_error: 1.8918 - val_loss: 16.3507 - val_mean_absolute_error: 2.6665\n",
            "Epoch 27/200\n",
            " - 0s - loss: 8.1938 - mean_absolute_error: 1.8445 - val_loss: 15.1268 - val_mean_absolute_error: 2.4455\n",
            "Epoch 28/200\n",
            " - 0s - loss: 8.0007 - mean_absolute_error: 1.8339 - val_loss: 15.1614 - val_mean_absolute_error: 2.4295\n",
            "Epoch 29/200\n",
            " - 0s - loss: 8.0625 - mean_absolute_error: 1.8024 - val_loss: 15.5538 - val_mean_absolute_error: 2.4819\n",
            "Epoch 30/200\n",
            " - 0s - loss: 8.1196 - mean_absolute_error: 1.8319 - val_loss: 15.9886 - val_mean_absolute_error: 2.8023\n",
            "Epoch 31/200\n",
            " - 0s - loss: 7.7507 - mean_absolute_error: 1.8500 - val_loss: 15.6448 - val_mean_absolute_error: 2.5365\n",
            "Epoch 32/200\n",
            " - 0s - loss: 7.9878 - mean_absolute_error: 1.8207 - val_loss: 15.1589 - val_mean_absolute_error: 2.5351\n",
            "Epoch 33/200\n",
            " - 0s - loss: 7.8557 - mean_absolute_error: 1.7796 - val_loss: 14.7143 - val_mean_absolute_error: 2.5580\n",
            "Epoch 34/200\n",
            " - 0s - loss: 7.4342 - mean_absolute_error: 1.7831 - val_loss: 16.2408 - val_mean_absolute_error: 2.6271\n",
            "Epoch 35/200\n",
            " - 0s - loss: 7.6976 - mean_absolute_error: 1.7834 - val_loss: 14.6196 - val_mean_absolute_error: 2.5962\n",
            "Epoch 36/200\n",
            " - 0s - loss: 7.2276 - mean_absolute_error: 1.7514 - val_loss: 14.5575 - val_mean_absolute_error: 2.4894\n",
            "Epoch 37/200\n",
            " - 0s - loss: 7.2264 - mean_absolute_error: 1.7257 - val_loss: 15.4426 - val_mean_absolute_error: 2.7820\n",
            "Epoch 38/200\n",
            " - 0s - loss: 7.0530 - mean_absolute_error: 1.7759 - val_loss: 13.1795 - val_mean_absolute_error: 2.4006\n",
            "Epoch 39/200\n",
            " - 0s - loss: 6.6780 - mean_absolute_error: 1.6986 - val_loss: 14.3751 - val_mean_absolute_error: 2.5825\n",
            "Epoch 40/200\n",
            " - 0s - loss: 6.8516 - mean_absolute_error: 1.7136 - val_loss: 15.7649 - val_mean_absolute_error: 2.7105\n",
            "Epoch 41/200\n",
            " - 0s - loss: 6.9169 - mean_absolute_error: 1.6824 - val_loss: 14.2693 - val_mean_absolute_error: 2.4568\n",
            "Epoch 42/200\n",
            " - 0s - loss: 6.7274 - mean_absolute_error: 1.7226 - val_loss: 13.2692 - val_mean_absolute_error: 2.4366\n",
            "Epoch 43/200\n",
            " - 0s - loss: 6.6360 - mean_absolute_error: 1.7237 - val_loss: 13.3280 - val_mean_absolute_error: 2.4723\n",
            "Epoch 44/200\n",
            " - 0s - loss: 6.5435 - mean_absolute_error: 1.7043 - val_loss: 13.5157 - val_mean_absolute_error: 2.4349\n",
            "Epoch 45/200\n",
            " - 0s - loss: 6.1953 - mean_absolute_error: 1.6371 - val_loss: 12.8354 - val_mean_absolute_error: 2.4532\n",
            "Epoch 46/200\n",
            " - 0s - loss: 6.5727 - mean_absolute_error: 1.7219 - val_loss: 13.2498 - val_mean_absolute_error: 2.4434\n",
            "Epoch 47/200\n",
            " - 0s - loss: 6.5938 - mean_absolute_error: 1.6930 - val_loss: 15.9853 - val_mean_absolute_error: 2.8823\n",
            "Epoch 48/200\n",
            " - 0s - loss: 6.6319 - mean_absolute_error: 1.6982 - val_loss: 13.8568 - val_mean_absolute_error: 2.6010\n",
            "Epoch 49/200\n",
            " - 0s - loss: 5.8929 - mean_absolute_error: 1.6794 - val_loss: 11.8184 - val_mean_absolute_error: 2.3954\n",
            "Epoch 50/200\n",
            " - 0s - loss: 6.0554 - mean_absolute_error: 1.6484 - val_loss: 12.3362 - val_mean_absolute_error: 2.4503\n",
            "Epoch 51/200\n",
            " - 0s - loss: 5.7510 - mean_absolute_error: 1.6340 - val_loss: 13.8024 - val_mean_absolute_error: 2.6703\n",
            "Epoch 52/200\n",
            " - 0s - loss: 5.9330 - mean_absolute_error: 1.5885 - val_loss: 11.8668 - val_mean_absolute_error: 2.3397\n",
            "Epoch 53/200\n",
            " - 0s - loss: 5.8253 - mean_absolute_error: 1.6270 - val_loss: 12.2468 - val_mean_absolute_error: 2.5241\n",
            "Epoch 54/200\n",
            " - 0s - loss: 5.5649 - mean_absolute_error: 1.5954 - val_loss: 13.8048 - val_mean_absolute_error: 2.6725\n",
            "Epoch 55/200\n",
            " - 0s - loss: 5.7621 - mean_absolute_error: 1.5413 - val_loss: 14.9780 - val_mean_absolute_error: 2.7938\n",
            "Epoch 56/200\n",
            " - 0s - loss: 6.0158 - mean_absolute_error: 1.5900 - val_loss: 12.4824 - val_mean_absolute_error: 2.4361\n",
            "Epoch 57/200\n",
            " - 0s - loss: 5.6935 - mean_absolute_error: 1.6179 - val_loss: 12.9280 - val_mean_absolute_error: 2.5274\n",
            "Epoch 58/200\n",
            " - 0s - loss: 5.7774 - mean_absolute_error: 1.5416 - val_loss: 12.8227 - val_mean_absolute_error: 2.4974\n",
            "Epoch 59/200\n",
            " - 0s - loss: 5.4935 - mean_absolute_error: 1.5546 - val_loss: 12.6324 - val_mean_absolute_error: 2.4499\n",
            "Epoch 60/200\n",
            " - 0s - loss: 5.5367 - mean_absolute_error: 1.6036 - val_loss: 12.5005 - val_mean_absolute_error: 2.4973\n",
            "Epoch 61/200\n",
            " - 0s - loss: 5.6667 - mean_absolute_error: 1.5704 - val_loss: 11.9697 - val_mean_absolute_error: 2.3795\n",
            "Epoch 62/200\n",
            " - 0s - loss: 5.4587 - mean_absolute_error: 1.5941 - val_loss: 11.7958 - val_mean_absolute_error: 2.4024\n",
            "Epoch 63/200\n",
            " - 0s - loss: 5.3646 - mean_absolute_error: 1.5207 - val_loss: 12.6512 - val_mean_absolute_error: 2.6359\n",
            "Epoch 64/200\n",
            " - 0s - loss: 5.3285 - mean_absolute_error: 1.5063 - val_loss: 11.4461 - val_mean_absolute_error: 2.3916\n",
            "Epoch 65/200\n",
            " - 0s - loss: 5.3998 - mean_absolute_error: 1.5431 - val_loss: 12.5911 - val_mean_absolute_error: 2.5098\n",
            "Epoch 66/200\n",
            " - 0s - loss: 5.8570 - mean_absolute_error: 1.5395 - val_loss: 13.0471 - val_mean_absolute_error: 2.5962\n",
            "Epoch 67/200\n",
            " - 0s - loss: 5.2375 - mean_absolute_error: 1.5494 - val_loss: 11.2819 - val_mean_absolute_error: 2.3576\n",
            "Epoch 68/200\n",
            " - 0s - loss: 5.3259 - mean_absolute_error: 1.5131 - val_loss: 11.1841 - val_mean_absolute_error: 2.3107\n",
            "Epoch 69/200\n",
            " - 0s - loss: 5.2053 - mean_absolute_error: 1.5176 - val_loss: 12.8091 - val_mean_absolute_error: 2.4761\n",
            "Epoch 70/200\n",
            " - 0s - loss: 5.1096 - mean_absolute_error: 1.4909 - val_loss: 12.3562 - val_mean_absolute_error: 2.5424\n",
            "Epoch 71/200\n",
            " - 0s - loss: 5.4715 - mean_absolute_error: 1.4884 - val_loss: 13.4835 - val_mean_absolute_error: 2.6348\n",
            "Epoch 72/200\n",
            " - 0s - loss: 5.0697 - mean_absolute_error: 1.4745 - val_loss: 13.2971 - val_mean_absolute_error: 2.6454\n",
            "Epoch 73/200\n",
            " - 0s - loss: 4.9896 - mean_absolute_error: 1.4993 - val_loss: 11.6796 - val_mean_absolute_error: 2.4176\n",
            "Epoch 74/200\n",
            " - 0s - loss: 5.1940 - mean_absolute_error: 1.4859 - val_loss: 13.8056 - val_mean_absolute_error: 2.6096\n",
            "Epoch 75/200\n",
            " - 0s - loss: 5.3920 - mean_absolute_error: 1.5119 - val_loss: 12.3842 - val_mean_absolute_error: 2.4376\n",
            "Epoch 76/200\n",
            " - 0s - loss: 4.7230 - mean_absolute_error: 1.4556 - val_loss: 12.3281 - val_mean_absolute_error: 2.4806\n",
            "Epoch 77/200\n",
            " - 0s - loss: 4.9820 - mean_absolute_error: 1.4897 - val_loss: 12.3485 - val_mean_absolute_error: 2.4436\n",
            "Epoch 78/200\n",
            " - 0s - loss: 5.2158 - mean_absolute_error: 1.4977 - val_loss: 11.9870 - val_mean_absolute_error: 2.4242\n",
            "Epoch 79/200\n",
            " - 0s - loss: 5.0124 - mean_absolute_error: 1.4624 - val_loss: 12.3348 - val_mean_absolute_error: 2.4787\n",
            "Epoch 80/200\n",
            " - 0s - loss: 4.5860 - mean_absolute_error: 1.4377 - val_loss: 21.5425 - val_mean_absolute_error: 3.5136\n",
            "Epoch 81/200\n",
            " - 0s - loss: 4.9632 - mean_absolute_error: 1.4812 - val_loss: 12.2584 - val_mean_absolute_error: 2.4207\n",
            "Epoch 82/200\n",
            " - 0s - loss: 4.9770 - mean_absolute_error: 1.4293 - val_loss: 13.6262 - val_mean_absolute_error: 2.6908\n",
            "Epoch 83/200\n",
            " - 0s - loss: 4.9874 - mean_absolute_error: 1.4868 - val_loss: 11.9279 - val_mean_absolute_error: 2.4043\n",
            "Epoch 84/200\n",
            " - 0s - loss: 4.8763 - mean_absolute_error: 1.4437 - val_loss: 11.5405 - val_mean_absolute_error: 2.3494\n",
            "Epoch 85/200\n",
            " - 0s - loss: 4.7138 - mean_absolute_error: 1.4079 - val_loss: 12.1995 - val_mean_absolute_error: 2.4307\n",
            "Epoch 86/200\n",
            " - 0s - loss: 4.7080 - mean_absolute_error: 1.4222 - val_loss: 12.4614 - val_mean_absolute_error: 2.4669\n",
            "Epoch 87/200\n",
            " - 0s - loss: 4.6819 - mean_absolute_error: 1.4250 - val_loss: 11.7705 - val_mean_absolute_error: 2.4619\n",
            "Epoch 88/200\n",
            " - 0s - loss: 4.6967 - mean_absolute_error: 1.3512 - val_loss: 12.0371 - val_mean_absolute_error: 2.5205\n",
            "Epoch 89/200\n",
            " - 0s - loss: 4.8071 - mean_absolute_error: 1.4950 - val_loss: 13.6313 - val_mean_absolute_error: 2.6927\n",
            "Epoch 90/200\n",
            " - 0s - loss: 4.9890 - mean_absolute_error: 1.3905 - val_loss: 12.4167 - val_mean_absolute_error: 2.4592\n",
            "Epoch 91/200\n",
            " - 0s - loss: 4.4501 - mean_absolute_error: 1.4304 - val_loss: 12.9593 - val_mean_absolute_error: 2.6259\n",
            "Epoch 92/200\n",
            " - 0s - loss: 4.8480 - mean_absolute_error: 1.4061 - val_loss: 12.2704 - val_mean_absolute_error: 2.5053\n",
            "Epoch 93/200\n",
            " - 0s - loss: 4.7229 - mean_absolute_error: 1.4034 - val_loss: 12.8789 - val_mean_absolute_error: 2.5656\n",
            "Epoch 94/200\n",
            " - 0s - loss: 4.6403 - mean_absolute_error: 1.3855 - val_loss: 12.5439 - val_mean_absolute_error: 2.4753\n",
            "Epoch 95/200\n",
            " - 0s - loss: 4.7480 - mean_absolute_error: 1.3889 - val_loss: 12.7896 - val_mean_absolute_error: 2.4722\n",
            "Epoch 96/200\n",
            " - 0s - loss: 4.5378 - mean_absolute_error: 1.3514 - val_loss: 11.7739 - val_mean_absolute_error: 2.3549\n",
            "Epoch 97/200\n",
            " - 0s - loss: 4.5555 - mean_absolute_error: 1.3621 - val_loss: 12.4651 - val_mean_absolute_error: 2.4870\n",
            "Epoch 98/200\n",
            " - 0s - loss: 4.8866 - mean_absolute_error: 1.3902 - val_loss: 11.2584 - val_mean_absolute_error: 2.3797\n",
            "Epoch 99/200\n",
            " - 0s - loss: 4.3680 - mean_absolute_error: 1.3049 - val_loss: 11.8987 - val_mean_absolute_error: 2.4372\n",
            "Epoch 100/200\n",
            " - 0s - loss: 4.4296 - mean_absolute_error: 1.3621 - val_loss: 11.2766 - val_mean_absolute_error: 2.3555\n",
            "Epoch 101/200\n",
            " - 0s - loss: 4.4541 - mean_absolute_error: 1.3985 - val_loss: 11.5240 - val_mean_absolute_error: 2.3876\n",
            "Epoch 102/200\n",
            " - 0s - loss: 4.0440 - mean_absolute_error: 1.3283 - val_loss: 12.8320 - val_mean_absolute_error: 2.5103\n",
            "Epoch 103/200\n",
            " - 0s - loss: 4.4136 - mean_absolute_error: 1.3752 - val_loss: 12.1811 - val_mean_absolute_error: 2.4654\n",
            "Epoch 104/200\n",
            " - 0s - loss: 4.0024 - mean_absolute_error: 1.3620 - val_loss: 10.9225 - val_mean_absolute_error: 2.3373\n",
            "Epoch 105/200\n",
            " - 0s - loss: 4.1701 - mean_absolute_error: 1.3724 - val_loss: 11.6542 - val_mean_absolute_error: 2.4207\n",
            "Epoch 106/200\n",
            " - 0s - loss: 4.0521 - mean_absolute_error: 1.3317 - val_loss: 11.9421 - val_mean_absolute_error: 2.4344\n",
            "Epoch 107/200\n",
            " - 0s - loss: 4.4115 - mean_absolute_error: 1.3031 - val_loss: 11.3864 - val_mean_absolute_error: 2.3479\n",
            "Epoch 108/200\n",
            " - 0s - loss: 4.0228 - mean_absolute_error: 1.3153 - val_loss: 13.7083 - val_mean_absolute_error: 2.6873\n",
            "Epoch 109/200\n",
            " - 0s - loss: 4.6381 - mean_absolute_error: 1.3523 - val_loss: 10.8569 - val_mean_absolute_error: 2.2934\n",
            "Epoch 110/200\n",
            " - 0s - loss: 4.6080 - mean_absolute_error: 1.3845 - val_loss: 12.4407 - val_mean_absolute_error: 2.5293\n",
            "Epoch 111/200\n",
            " - 0s - loss: 4.0018 - mean_absolute_error: 1.3060 - val_loss: 11.7708 - val_mean_absolute_error: 2.4255\n",
            "Epoch 112/200\n",
            " - 0s - loss: 4.0363 - mean_absolute_error: 1.3421 - val_loss: 11.6890 - val_mean_absolute_error: 2.4447\n",
            "Epoch 113/200\n",
            " - 0s - loss: 4.0368 - mean_absolute_error: 1.3209 - val_loss: 11.7997 - val_mean_absolute_error: 2.4766\n",
            "Epoch 114/200\n",
            " - 0s - loss: 4.2583 - mean_absolute_error: 1.3270 - val_loss: 12.2676 - val_mean_absolute_error: 2.5113\n",
            "Epoch 115/200\n",
            " - 0s - loss: 4.1874 - mean_absolute_error: 1.3790 - val_loss: 11.5091 - val_mean_absolute_error: 2.3735\n",
            "Epoch 116/200\n",
            " - 0s - loss: 4.0583 - mean_absolute_error: 1.3019 - val_loss: 13.5476 - val_mean_absolute_error: 2.6843\n",
            "Epoch 117/200\n",
            " - 0s - loss: 4.1551 - mean_absolute_error: 1.2809 - val_loss: 12.2667 - val_mean_absolute_error: 2.4179\n",
            "Epoch 118/200\n",
            " - 0s - loss: 4.0678 - mean_absolute_error: 1.3055 - val_loss: 12.8216 - val_mean_absolute_error: 2.6029\n",
            "Epoch 119/200\n",
            " - 0s - loss: 4.2059 - mean_absolute_error: 1.3136 - val_loss: 12.0253 - val_mean_absolute_error: 2.4906\n",
            "Epoch 120/200\n",
            " - 0s - loss: 3.7583 - mean_absolute_error: 1.2661 - val_loss: 12.3768 - val_mean_absolute_error: 2.4731\n",
            "Epoch 121/200\n",
            " - 0s - loss: 3.9508 - mean_absolute_error: 1.2538 - val_loss: 12.5592 - val_mean_absolute_error: 2.4489\n",
            "Epoch 122/200\n",
            " - 0s - loss: 4.0689 - mean_absolute_error: 1.2649 - val_loss: 12.3589 - val_mean_absolute_error: 2.4550\n",
            "Epoch 123/200\n",
            " - 0s - loss: 4.0481 - mean_absolute_error: 1.2899 - val_loss: 13.6790 - val_mean_absolute_error: 2.6235\n",
            "Epoch 124/200\n",
            " - 0s - loss: 3.7531 - mean_absolute_error: 1.2440 - val_loss: 12.3118 - val_mean_absolute_error: 2.5253\n",
            "Epoch 125/200\n",
            " - 0s - loss: 4.1201 - mean_absolute_error: 1.2896 - val_loss: 11.7804 - val_mean_absolute_error: 2.4277\n",
            "Epoch 126/200\n",
            " - 0s - loss: 3.7817 - mean_absolute_error: 1.2596 - val_loss: 11.5974 - val_mean_absolute_error: 2.3866\n",
            "Epoch 127/200\n",
            " - 0s - loss: 3.8238 - mean_absolute_error: 1.2317 - val_loss: 11.7533 - val_mean_absolute_error: 2.4625\n",
            "Epoch 128/200\n",
            " - 0s - loss: 4.1656 - mean_absolute_error: 1.2923 - val_loss: 12.1974 - val_mean_absolute_error: 2.4190\n",
            "Epoch 129/200\n",
            " - 0s - loss: 3.7368 - mean_absolute_error: 1.2427 - val_loss: 11.8777 - val_mean_absolute_error: 2.4285\n",
            "Epoch 130/200\n",
            " - 0s - loss: 3.6608 - mean_absolute_error: 1.2407 - val_loss: 14.1398 - val_mean_absolute_error: 2.6513\n",
            "Epoch 131/200\n",
            " - 0s - loss: 3.6717 - mean_absolute_error: 1.2198 - val_loss: 12.8444 - val_mean_absolute_error: 2.5350\n",
            "Epoch 132/200\n",
            " - 0s - loss: 3.8863 - mean_absolute_error: 1.2638 - val_loss: 13.9658 - val_mean_absolute_error: 2.6878\n",
            "Epoch 133/200\n",
            " - 0s - loss: 4.0155 - mean_absolute_error: 1.2218 - val_loss: 13.2632 - val_mean_absolute_error: 2.6280\n",
            "Epoch 134/200\n",
            " - 0s - loss: 3.8582 - mean_absolute_error: 1.2439 - val_loss: 14.0997 - val_mean_absolute_error: 2.7495\n",
            "Epoch 135/200\n",
            " - 0s - loss: 3.8803 - mean_absolute_error: 1.2700 - val_loss: 13.3025 - val_mean_absolute_error: 2.5588\n",
            "Epoch 136/200\n",
            " - 0s - loss: 3.8070 - mean_absolute_error: 1.2622 - val_loss: 13.9330 - val_mean_absolute_error: 2.6727\n",
            "Epoch 137/200\n",
            " - 0s - loss: 3.7402 - mean_absolute_error: 1.2409 - val_loss: 12.4019 - val_mean_absolute_error: 2.5121\n",
            "Epoch 138/200\n",
            " - 0s - loss: 3.6060 - mean_absolute_error: 1.2411 - val_loss: 12.6058 - val_mean_absolute_error: 2.5160\n",
            "Epoch 139/200\n",
            " - 0s - loss: 3.4027 - mean_absolute_error: 1.2122 - val_loss: 11.9941 - val_mean_absolute_error: 2.4910\n",
            "Epoch 140/200\n",
            " - 0s - loss: 3.7023 - mean_absolute_error: 1.1773 - val_loss: 13.2813 - val_mean_absolute_error: 2.6689\n",
            "Epoch 141/200\n",
            " - 0s - loss: 3.5340 - mean_absolute_error: 1.2284 - val_loss: 12.4292 - val_mean_absolute_error: 2.5729\n",
            "Epoch 142/200\n",
            " - 0s - loss: 3.9175 - mean_absolute_error: 1.2302 - val_loss: 12.0141 - val_mean_absolute_error: 2.5214\n",
            "Epoch 143/200\n",
            " - 0s - loss: 3.6209 - mean_absolute_error: 1.2149 - val_loss: 12.0611 - val_mean_absolute_error: 2.4699\n",
            "Epoch 144/200\n",
            " - 0s - loss: 3.5678 - mean_absolute_error: 1.2171 - val_loss: 14.7400 - val_mean_absolute_error: 2.8002\n",
            "Epoch 145/200\n",
            " - 0s - loss: 3.6367 - mean_absolute_error: 1.2028 - val_loss: 12.3836 - val_mean_absolute_error: 2.5085\n",
            "Epoch 146/200\n",
            " - 0s - loss: 3.5466 - mean_absolute_error: 1.2417 - val_loss: 12.8983 - val_mean_absolute_error: 2.5481\n",
            "Epoch 147/200\n",
            " - 0s - loss: 3.3166 - mean_absolute_error: 1.2092 - val_loss: 13.0929 - val_mean_absolute_error: 2.5913\n",
            "Epoch 148/200\n",
            " - 0s - loss: 3.5486 - mean_absolute_error: 1.2070 - val_loss: 12.7397 - val_mean_absolute_error: 2.5430\n",
            "Epoch 149/200\n",
            " - 0s - loss: 3.3418 - mean_absolute_error: 1.1926 - val_loss: 15.0736 - val_mean_absolute_error: 2.8045\n",
            "Epoch 150/200\n",
            " - 0s - loss: 3.5719 - mean_absolute_error: 1.2096 - val_loss: 12.6594 - val_mean_absolute_error: 2.5544\n",
            "Epoch 151/200\n",
            " - 0s - loss: 3.4137 - mean_absolute_error: 1.2233 - val_loss: 13.1474 - val_mean_absolute_error: 2.5804\n",
            "Epoch 152/200\n",
            " - 0s - loss: 3.2506 - mean_absolute_error: 1.1876 - val_loss: 13.3517 - val_mean_absolute_error: 2.6301\n",
            "Epoch 153/200\n",
            " - 0s - loss: 3.6548 - mean_absolute_error: 1.2181 - val_loss: 12.9029 - val_mean_absolute_error: 2.5454\n",
            "Epoch 154/200\n",
            " - 0s - loss: 3.4833 - mean_absolute_error: 1.1724 - val_loss: 13.9360 - val_mean_absolute_error: 2.6892\n",
            "Epoch 155/200\n",
            " - 0s - loss: 3.3454 - mean_absolute_error: 1.1855 - val_loss: 13.0763 - val_mean_absolute_error: 2.5443\n",
            "Epoch 156/200\n",
            " - 0s - loss: 3.3289 - mean_absolute_error: 1.1200 - val_loss: 13.8779 - val_mean_absolute_error: 2.6572\n",
            "Epoch 157/200\n",
            " - 0s - loss: 3.2241 - mean_absolute_error: 1.1638 - val_loss: 15.1320 - val_mean_absolute_error: 2.7772\n",
            "Epoch 158/200\n",
            " - 0s - loss: 3.2859 - mean_absolute_error: 1.2009 - val_loss: 13.8867 - val_mean_absolute_error: 2.6722\n",
            "Epoch 159/200\n",
            " - 0s - loss: 3.4649 - mean_absolute_error: 1.1592 - val_loss: 15.0401 - val_mean_absolute_error: 2.8030\n",
            "Epoch 160/200\n",
            " - 0s - loss: 3.5715 - mean_absolute_error: 1.1839 - val_loss: 12.5881 - val_mean_absolute_error: 2.4881\n",
            "Epoch 161/200\n",
            " - 0s - loss: 3.3978 - mean_absolute_error: 1.1861 - val_loss: 14.2909 - val_mean_absolute_error: 2.7214\n",
            "Epoch 162/200\n",
            " - 0s - loss: 3.2436 - mean_absolute_error: 1.1819 - val_loss: 13.1565 - val_mean_absolute_error: 2.5193\n",
            "Epoch 163/200\n",
            " - 0s - loss: 3.3892 - mean_absolute_error: 1.1423 - val_loss: 13.6270 - val_mean_absolute_error: 2.6245\n",
            "Epoch 164/200\n",
            " - 0s - loss: 3.2285 - mean_absolute_error: 1.1853 - val_loss: 12.6727 - val_mean_absolute_error: 2.5013\n",
            "Epoch 165/200\n",
            " - 0s - loss: 3.4613 - mean_absolute_error: 1.1716 - val_loss: 12.9221 - val_mean_absolute_error: 2.5624\n",
            "Epoch 166/200\n",
            " - 0s - loss: 3.1053 - mean_absolute_error: 1.1724 - val_loss: 12.7268 - val_mean_absolute_error: 2.4966\n",
            "Epoch 167/200\n",
            " - 0s - loss: 3.0608 - mean_absolute_error: 1.1646 - val_loss: 13.7757 - val_mean_absolute_error: 2.6205\n",
            "Epoch 168/200\n",
            " - 0s - loss: 3.0146 - mean_absolute_error: 1.1349 - val_loss: 14.0028 - val_mean_absolute_error: 2.6468\n",
            "Epoch 169/200\n",
            " - 0s - loss: 3.2948 - mean_absolute_error: 1.1825 - val_loss: 14.0032 - val_mean_absolute_error: 2.6523\n",
            "Epoch 170/200\n",
            " - 0s - loss: 3.1856 - mean_absolute_error: 1.1338 - val_loss: 15.1819 - val_mean_absolute_error: 2.8457\n",
            "Epoch 171/200\n",
            " - 0s - loss: 3.3397 - mean_absolute_error: 1.1850 - val_loss: 13.0374 - val_mean_absolute_error: 2.5568\n",
            "Epoch 172/200\n",
            " - 0s - loss: 3.3279 - mean_absolute_error: 1.1921 - val_loss: 13.8835 - val_mean_absolute_error: 2.6273\n",
            "Epoch 173/200\n",
            " - 0s - loss: 3.1583 - mean_absolute_error: 1.1340 - val_loss: 14.4445 - val_mean_absolute_error: 2.7148\n",
            "Epoch 174/200\n",
            " - 0s - loss: 2.8520 - mean_absolute_error: 1.0615 - val_loss: 14.1845 - val_mean_absolute_error: 2.7302\n",
            "Epoch 175/200\n",
            " - 0s - loss: 3.2415 - mean_absolute_error: 1.1560 - val_loss: 13.6458 - val_mean_absolute_error: 2.6475\n",
            "Epoch 176/200\n",
            " - 0s - loss: 3.1224 - mean_absolute_error: 1.1479 - val_loss: 14.8505 - val_mean_absolute_error: 2.8238\n",
            "Epoch 177/200\n",
            " - 0s - loss: 3.3116 - mean_absolute_error: 1.1426 - val_loss: 14.5054 - val_mean_absolute_error: 2.7325\n",
            "Epoch 178/200\n",
            " - 0s - loss: 3.4487 - mean_absolute_error: 1.1606 - val_loss: 13.9693 - val_mean_absolute_error: 2.6840\n",
            "Epoch 179/200\n",
            " - 0s - loss: 2.8965 - mean_absolute_error: 1.1254 - val_loss: 14.8121 - val_mean_absolute_error: 2.7152\n",
            "Epoch 180/200\n",
            " - 0s - loss: 3.0739 - mean_absolute_error: 1.1531 - val_loss: 14.0146 - val_mean_absolute_error: 2.6284\n",
            "Epoch 181/200\n",
            " - 0s - loss: 3.3890 - mean_absolute_error: 1.1606 - val_loss: 15.9473 - val_mean_absolute_error: 2.8711\n",
            "Epoch 182/200\n",
            " - 0s - loss: 3.2206 - mean_absolute_error: 1.1601 - val_loss: 14.8019 - val_mean_absolute_error: 2.7537\n",
            "Epoch 183/200\n",
            " - 0s - loss: 2.8143 - mean_absolute_error: 1.0857 - val_loss: 15.1146 - val_mean_absolute_error: 2.7180\n",
            "Epoch 184/200\n",
            " - 0s - loss: 3.0923 - mean_absolute_error: 1.1290 - val_loss: 14.2520 - val_mean_absolute_error: 2.6674\n",
            "Epoch 185/200\n",
            " - 0s - loss: 2.9401 - mean_absolute_error: 1.0993 - val_loss: 14.5152 - val_mean_absolute_error: 2.7131\n",
            "Epoch 186/200\n",
            " - 0s - loss: 3.2563 - mean_absolute_error: 1.1537 - val_loss: 14.9572 - val_mean_absolute_error: 2.7817\n",
            "Epoch 187/200\n",
            " - 0s - loss: 3.1048 - mean_absolute_error: 1.0722 - val_loss: 13.2598 - val_mean_absolute_error: 2.5767\n",
            "Epoch 188/200\n",
            " - 0s - loss: 3.0754 - mean_absolute_error: 1.1271 - val_loss: 14.1048 - val_mean_absolute_error: 2.5878\n",
            "Epoch 189/200\n",
            " - 0s - loss: 3.0668 - mean_absolute_error: 1.1189 - val_loss: 15.0699 - val_mean_absolute_error: 2.7676\n",
            "Epoch 190/200\n",
            " - 0s - loss: 3.0327 - mean_absolute_error: 1.0967 - val_loss: 13.5183 - val_mean_absolute_error: 2.6195\n",
            "Epoch 191/200\n",
            " - 0s - loss: 3.1458 - mean_absolute_error: 1.1144 - val_loss: 14.8365 - val_mean_absolute_error: 2.7520\n",
            "Epoch 192/200\n",
            " - 0s - loss: 2.7613 - mean_absolute_error: 1.1409 - val_loss: 17.0219 - val_mean_absolute_error: 3.0143\n",
            "Epoch 193/200\n",
            " - 0s - loss: 3.0946 - mean_absolute_error: 1.1505 - val_loss: 14.9264 - val_mean_absolute_error: 2.7900\n",
            "Epoch 194/200\n",
            " - 0s - loss: 2.7854 - mean_absolute_error: 1.0959 - val_loss: 14.3569 - val_mean_absolute_error: 2.6542\n",
            "Epoch 195/200\n",
            " - 0s - loss: 2.8131 - mean_absolute_error: 1.1145 - val_loss: 13.8416 - val_mean_absolute_error: 2.6487\n",
            "Epoch 196/200\n",
            " - 0s - loss: 3.0841 - mean_absolute_error: 1.1577 - val_loss: 16.5242 - val_mean_absolute_error: 2.8110\n",
            "Epoch 197/200\n",
            " - 0s - loss: 3.0649 - mean_absolute_error: 1.1007 - val_loss: 14.2963 - val_mean_absolute_error: 2.7110\n",
            "Epoch 198/200\n",
            " - 0s - loss: 2.5926 - mean_absolute_error: 1.1094 - val_loss: 14.7918 - val_mean_absolute_error: 2.7125\n",
            "Epoch 199/200\n",
            " - 0s - loss: 3.0779 - mean_absolute_error: 1.1560 - val_loss: 13.6663 - val_mean_absolute_error: 2.5260\n",
            "Epoch 200/200\n",
            " - 0s - loss: 2.9689 - mean_absolute_error: 1.1202 - val_loss: 16.3017 - val_mean_absolute_error: 2.8891\n"
          ],
          "name": "stdout"
        }
      ]
    },
    {
      "cell_type": "code",
      "metadata": {
        "id": "g1EJEG6a9Ew-",
        "colab": {
          "base_uri": "https://localhost:8080/",
          "height": 501
        },
        "outputId": "250da230-6813-4ab7-8e0d-3230aeff41c2"
      },
      "source": [
        "plt.plot(all_mae_histories[0])\n",
        "plt.plot(all_mae_histories[1])\n",
        "plt.plot(all_mae_histories[2])\n",
        "plt.plot(all_mae_histories[3])\n",
        "plt.title('V_loss')\n",
        "plt.ylabel('loss')\n",
        "plt.xlabel('epoch')\n",
        "plt.legend(['fold1', 'fold2', 'fold3', 'fold4'], loc = 'upper right')\n",
        "plt.show()"
      ],
      "execution_count": null,
      "outputs": [
        {
          "output_type": "display_data",
          "data": {
            "image/png": "[encoded data removed]",
            "text/plain": [
              "<Figure size 750x500 with 1 Axes>"
            ]
          },
          "metadata": {
            "tags": []
          }
        }
      ]
    },
    {
      "cell_type": "markdown",
      "metadata": {
        "id": "XIqguBPYtZBj"
      },
      "source": [
        "Initially the loss of all the fields decreases drastically, later it seems to be oscillating between a certain range, not too high or low. Except fold2, the loss of other folds change less. Fold2 oscillates more than others. Compared to all the other folds, fold1 has the best loss."
      ]
    },
    {
      "cell_type": "markdown",
      "metadata": {
        "id": "ARqVvyMX9ExF"
      },
      "source": [
        "#### Takeaways\n",
        "* Regression is usually done using MSE loss and MAE for evaluation\n",
        "* Input data should always be scaled (independent from the test set)\n",
        "* Small datasets:\n",
        "    - Use cross-validation\n",
        "    - Use simple (non-deep) networks\n",
        "    - Smaller batches, more epochs"
      ]
    }
  ]
}